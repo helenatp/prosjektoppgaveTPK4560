{
 "cells": [
  {
   "cell_type": "markdown",
   "metadata": {},
   "source": [
    "### Imports"
   ]
  },
  {
   "cell_type": "code",
   "execution_count": 2,
   "metadata": {},
   "outputs": [],
   "source": [
    "import numpy as np\n",
    "import pandas as pd\n",
    "import matplotlib.pyplot as plt\n",
    "from scipy.integrate import solve_ivp\n",
    "import ipywidgets as ipw\n",
    "from numpy.random import randn\n",
    "import plotly.figure_factory as ff\n",
    "import scipy.io\n"
   ]
  },
  {
   "cell_type": "code",
   "execution_count": null,
   "metadata": {},
   "outputs": [],
   "source": [
    "# Get lower bound and upper bound for plotting from dataset\n",
    "lower_bound_x1 = fig_dataset.CurrentAxes.XLim(1)\n",
    "upper_bound_x1 = fig_dataset.CurrentAxes.XLim(2)\n",
    "lower_bound_x2 = fig_dataset.CurrentAxes.YLim(1)\n",
    "upper_bound_x2 = fig_dataset.CurrentAxes.YLim(2)"
   ]
  },
  {
   "cell_type": "markdown",
   "metadata": {},
   "source": [
    "### Read data"
   ]
  },
  {
   "cell_type": "code",
   "execution_count": 2,
   "metadata": {},
   "outputs": [],
   "source": [
    "# Note that there are several shapes in the LASA Handwriting dataset\n",
    "\n",
    "# name_of_dataset = 'Angle'\n",
    "# name_of_dataset = 'CShape'\n",
    "# name_of_dataset = 'GShape'\n",
    "# name_of_dataset = 'JShape'\n",
    "name_of_dataset = 'Sshape'\n",
    "\n",
    "dataset = scipy.io.loadmat(name_of_dataset)\n",
    "\n",
    "# Unpack the trajectories and place into x and y used in learning step\n",
    "num_of_demos = 1\n",
    "\n",
    "x_cell "
   ]
  },
  {
   "cell_type": "markdown",
   "metadata": {},
   "source": [
    "### Combined solution and vector field for learnt model"
   ]
  },
  {
   "cell_type": "code",
   "execution_count": 1,
   "metadata": {},
   "outputs": [
    {
     "ename": "NameError",
     "evalue": "name 'plt' is not defined",
     "output_type": "error",
     "traceback": [
      "\u001b[1;31m---------------------------------------------------------------------------\u001b[0m",
      "\u001b[1;31mNameError\u001b[0m                                 Traceback (most recent call last)",
      "Cell \u001b[1;32mIn [1], line 1\u001b[0m\n\u001b[1;32m----> 1\u001b[0m plt\u001b[39m.\u001b[39mfigure()\n",
      "\u001b[1;31mNameError\u001b[0m: name 'plt' is not defined"
     ]
    }
   ],
   "source": [
    "plt.figure()\n",
    "plt.title('Combined plot - Learnt model')\n",
    "plt.plot(data_series[:,0],data_series[:,1],'-',LineWidth=2)\n",
    "plt.xlabel('x1')\n",
    "plt.ylabel('x2')\n",
    "plt.legend(['Trajectory', 'Streamlines'])\n",
    "plt.xlim([lower_bound_x1, upper_bound_x1])\n",
    "plt.ylim([lower_bound_x2, upper_bound_x2])\n"
   ]
  },
  {
   "cell_type": "code",
   "execution_count": null,
   "metadata": {},
   "outputs": [],
   "source": []
  }
 ],
 "metadata": {
  "kernelspec": {
   "display_name": "Python 3.11.0 64-bit",
   "language": "python",
   "name": "python3"
  },
  "language_info": {
   "codemirror_mode": {
    "name": "ipython",
    "version": 3
   },
   "file_extension": ".py",
   "mimetype": "text/x-python",
   "name": "python",
   "nbconvert_exporter": "python",
   "pygments_lexer": "ipython3",
   "version": "3.11.0"
  },
  "orig_nbformat": 4,
  "vscode": {
   "interpreter": {
    "hash": "2bba0b4c4e4d58345b53e5921abd2d3058b922f4e0bc24627a8b4c4ca7e4f1ef"
   }
  }
 },
 "nbformat": 4,
 "nbformat_minor": 2
}
