{
 "cells": [
  {
   "cell_type": "markdown",
   "metadata": {},
   "source": [
    "### Imports"
   ]
  },
  {
   "cell_type": "code",
   "execution_count": null,
   "metadata": {},
   "outputs": [],
   "source": [
    "import sympy as sym\n",
    "import numpy as np\n",
    "from numpy.random import randn # Gaussian random number"
   ]
  },
  {
   "cell_type": "markdown",
   "metadata": {},
   "source": [
    "### Derivative of y"
   ]
  },
  {
   "cell_type": "code",
   "execution_count": null,
   "metadata": {},
   "outputs": [],
   "source": [
    "x1, x2 = sym.symbols('x1 x2') \n",
    "\n",
    "n = 500\n",
    "sigma = 10\n",
    "sigma2 = 2*sigma**2\n",
    "lam = 0.000001\n",
    "\n",
    "x = randn(n)/2\n",
    "\n",
    "x1_example = randn(n)/2\n",
    "x2_example = randn(n)/2\n",
    "\n",
    "noise = n * 1e-1\n",
    "y1 = 1+ sym.sin(x1/10) + x1**2 + noise\n",
    "y2 = 0.5 * x2**2 + sym.exp(x2) + noise\n",
    "\n",
    "# derivate y1, y2 with respect to x1, x2 (sympy)\n",
    "y1_diff = y1.diff(x1)\n",
    "y2_diff = y2.diff(x2)\n",
    "\n",
    "# Put back to numpy functions\n",
    "y1_derivative = sym.lambdify(x1, y1_diff, 'numpy') \n",
    "y2_derivative = sym.lambdify(x2, y2_diff, 'numpy')\n",
    "\n",
    "# Apply derivative functions to the x-arrays that we have in the beginning\n",
    "y1_derivative = y1_derivative(x1_example)\n",
    "y2_derivative = y2_derivative(x2_example)\n",
    "\n",
    "y_derivative = np.array(np.ravel([y1_derivative, y2_derivative], 'F'))"
   ]
  },
  {
   "cell_type": "markdown",
   "metadata": {},
   "source": [
    "### Derivate of f(x)"
   ]
  },
  {
   "cell_type": "code",
   "execution_count": null,
   "metadata": {},
   "outputs": [],
   "source": [
    "# x,z = [x[:,i], x[:,j]]\n",
    "# sym.exp(-((sym.sqrt(sympv.dot(x-z, x-z)))**2)/(2*sigma**2)) (with sympy)\n",
    "\n",
    "x1 = randn(n)/2\n",
    "x2 =  randn(n)/2\n",
    "x_vector = np.array([x1, x2])\n",
    "\n",
    "def k_gauss(x, z):\n",
    "    k = np.exp(-((np.linalg.norm(x-z))**2)/(2*sigma**2))\n",
    "    return k\n",
    "\n",
    "# Derivative of the gaussian kernel\n",
    "def k_gauss_derivative(x, z):\n",
    "    kernel_gauss = k_gauss(x, z) # I formel er x - z tall, ikke vektorer\n",
    "    k_derivative = kernel_gauss*(x-z)/sigma**2\n",
    "    return k_derivative\n",
    "\n",
    "# Alpha for gauss_kernel\n",
    "def alpha_gauss_derivative(x, y, n):\n",
    "    K = k_gauss_derivative(x, x, n)\n",
    "    return np.linalg.inv(K + lam*np.eye(n)) @ y\n",
    "\n",
    "def func_gauss_derivative(x, n, alpha):\n",
    "    x_sort = np.sort(x)\n",
    "    f = np.zeros(n)\n",
    "    for i in range(n):\n",
    "        sum = 0\n",
    "        for j in range(n):\n",
    "            sum = sum + alpha[j] * k_gauss_derivative(x[j], x_sort[i])\n",
    "        f[i] = sum\n",
    "    return f\n",
    "\n",
    "alpha = alpha_gauss_derivative(x, y1_derivative, n)\n",
    "func = func_gauss_derivative(x, n, alpha)\n",
    "func"
   ]
  },
  {
   "cell_type": "code",
   "execution_count": null,
   "metadata": {},
   "outputs": [],
   "source": []
  }
 ],
 "metadata": {
  "kernelspec": {
   "display_name": "Python 3.8.1 32-bit",
   "language": "python",
   "name": "python3"
  },
  "language_info": {
   "codemirror_mode": {
    "name": "ipython",
    "version": 3
   },
   "file_extension": ".py",
   "mimetype": "text/x-python",
   "name": "python",
   "nbconvert_exporter": "python",
   "pygments_lexer": "ipython3",
   "version": "3.8.1"
  },
  "orig_nbformat": 4,
  "vscode": {
   "interpreter": {
    "hash": "141ff6ceaf6cd9d5f09b7c3dc742baf39b1c18dfc3a488d16317bf0a7860a04c"
   }
  }
 },
 "nbformat": 4,
 "nbformat_minor": 2
}
