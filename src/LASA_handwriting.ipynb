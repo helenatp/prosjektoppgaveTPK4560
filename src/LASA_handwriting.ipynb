{
 "cells": [
  {
   "cell_type": "markdown",
   "metadata": {},
   "source": [
    "### Imports"
   ]
  },
  {
   "cell_type": "code",
   "execution_count": 1,
   "metadata": {},
   "outputs": [],
   "source": [
    "import numpy as np\n",
    "import pandas as pd\n",
    "import matplotlib.pyplot as plt\n",
    "from scipy.integrate import solve_ivp\n",
    "import ipywidgets as ipw\n",
    "from numpy.random import randn\n",
    "import plotly.figure_factory as ff\n",
    "import scipy.io\n"
   ]
  },
  {
   "cell_type": "markdown",
   "metadata": {},
   "source": [
    "### Read data"
   ]
  },
  {
   "cell_type": "code",
   "execution_count": 2,
   "metadata": {},
   "outputs": [],
   "source": [
    "# Note that there are several shapes in the LASA Handwriting dataset\n",
    "\n",
    "# name_of_dataset = 'Angle'\n",
    "# name_of_dataset = 'CShape'\n",
    "# name_of_dataset = 'GShape'\n",
    "# name_of_dataset = 'JShape'\n",
    "name_of_dataset = 'Sshape'\n",
    "\n",
    "dataset = scipy.io.loadmat(name_of_dataset)\n",
    "\n",
    "# Unpack the trajectories and place into x and y used in learning step\n",
    "num_of_demos = 1\n",
    "\n",
    "x_cell "
   ]
  }
 ],
 "metadata": {
  "kernelspec": {
   "display_name": "Python 3.11.0 64-bit",
   "language": "python",
   "name": "python3"
  },
  "language_info": {
   "codemirror_mode": {
    "name": "ipython",
    "version": 3
   },
   "file_extension": ".py",
   "mimetype": "text/x-python",
   "name": "python",
   "nbconvert_exporter": "python",
   "pygments_lexer": "ipython3",
   "version": "3.11.0"
  },
  "orig_nbformat": 4,
  "vscode": {
   "interpreter": {
    "hash": "2bba0b4c4e4d58345b53e5921abd2d3058b922f4e0bc24627a8b4c4ca7e4f1ef"
   }
  }
 },
 "nbformat": 4,
 "nbformat_minor": 2
}
