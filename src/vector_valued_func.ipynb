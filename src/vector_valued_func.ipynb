{
 "cells": [
  {
   "cell_type": "markdown",
   "metadata": {},
   "source": [
    "### Imports"
   ]
  },
  {
   "cell_type": "code",
   "execution_count": 191,
   "metadata": {},
   "outputs": [],
   "source": [
    "import numpy as np\n",
    "import sympy as sym\n",
    "from numpy.random import randn\n",
    "np.set_printoptions(threshold=np.inf)\n"
   ]
  },
  {
   "cell_type": "markdown",
   "metadata": {},
   "source": [
    "### Values"
   ]
  },
  {
   "cell_type": "code",
   "execution_count": 192,
   "metadata": {},
   "outputs": [],
   "source": [
    "m = 5\n",
    "sigma = 2\n",
    "sigma2 = 2*sigma**2\n",
    "w = randn(m) / sigma\n",
    "b = np.random.rand(m)*2*np.pi\n",
    "\n",
    "n = 5\n",
    "x = randn(n)/2\n",
    "z = randn(n)/2 # function y\n",
    "\n",
    "y = np.array([np.cos(x), np.sin(x)])\n",
    "x_vector = np.array([randn(n)/2, randn(n)/2])\n",
    "\n",
    "lam = 0.000001"
   ]
  },
  {
   "cell_type": "markdown",
   "metadata": {},
   "source": [
    "### Gaussian Kernel"
   ]
  },
  {
   "cell_type": "code",
   "execution_count": 193,
   "metadata": {},
   "outputs": [
    {
     "name": "stdout",
     "output_type": "stream",
     "text": [
      "0.699255540235182\n"
     ]
    }
   ],
   "source": [
    "def k_gauss(x,z):\n",
    "    \"\"\"R^n x R^n -> R - should be one number\n",
    "    # vector is multi-dimensional\n",
    "\n",
    "    Args:\n",
    "        x (float): real value numbers\n",
    "        z (float): real value numbers\n",
    "\n",
    "    Returns:\n",
    "        (vector with length n): a scalar shift-invariant Gaussian kernel\n",
    "    \"\"\"\n",
    "    return np.exp(-((np.linalg.norm(x-z))**2)/(sigma2)) \n",
    "\n",
    "print(k_gauss(x,z))"
   ]
  },
  {
   "cell_type": "markdown",
   "metadata": {},
   "source": [
    "###  Scalar kernel"
   ]
  },
  {
   "cell_type": "code",
   "execution_count": 194,
   "metadata": {},
   "outputs": [],
   "source": [
    "def k_approx(k, x, z):\n",
    "    \"\"\"scalar kernel\n",
    "\n",
    "    Args:\n",
    "        k (kernel): to test with different kernels\n",
    "\n",
    "    Returns:\n",
    "        approximated kernel: sum of feature vectors\n",
    "    \"\"\"\n",
    "    n = len(x)\n",
    "    Kxz = np.zeros((n,m))\n",
    "    for i in range(n):\n",
    "        for j in range(m):\n",
    "            Kxz[i, j] = k(x[i], z[j])\n",
    "    return Kxz"
   ]
  },
  {
   "cell_type": "markdown",
   "metadata": {},
   "source": [
    "### Approximation 1"
   ]
  },
  {
   "cell_type": "code",
   "execution_count": 195,
   "metadata": {},
   "outputs": [
    {
     "name": "stdout",
     "output_type": "stream",
     "text": [
      "[-1.28936631  1.08525407  0.68193362  0.56961972  1.27841529]\n"
     ]
    }
   ],
   "source": [
    "def psi_approx1(x):\n",
    "   \"\"\"\n",
    "   Args:\n",
    "       x (vector): vector with length n\n",
    "\n",
    "   Returns:\n",
    "       vector: vector with length n\n",
    "   \"\"\"\n",
    "   return np.sqrt(2)*np.cos(w*x + b)\n",
    "\n",
    "print(psi_approx1(x))"
   ]
  },
  {
   "cell_type": "markdown",
   "metadata": {},
   "source": [
    "### Approximation 2"
   ]
  },
  {
   "cell_type": "code",
   "execution_count": 196,
   "metadata": {},
   "outputs": [
    {
     "data": {
      "text/plain": [
       "'\\nprint(K_approx2(x,z))\\n'"
      ]
     },
     "execution_count": 196,
     "metadata": {},
     "output_type": "execute_result"
    }
   ],
   "source": [
    "def phi_cos(x, w):\n",
    "    return 1/np.sqrt(m) * np.cos(w.T@x)\n",
    "\n",
    "def phi_sin(x, w):\n",
    "    return 1/np.sqrt(m) * np.sin(w.T@x)\n",
    "\n",
    "def add_phi_cos_sin(f, g, x):\n",
    "    \"\"\"\n",
    "        [1 2 3] and [1 2 3] -> [1 1 2 2 3 3]\n",
    "    \"\"\"\n",
    "    new_list = []\n",
    "    for i in range (m):\n",
    "        new_list.append(f(x))\n",
    "        new_list.append(g(x))\n",
    "    return new_list\n",
    "\"\"\"\n",
    "print(\"cos:\", phi_cos(x))\n",
    "print(\"sin:\", phi_sin(x))\n",
    "print(\"\\n added together:\", add_phi_cos_sin(phi_cos, phi_sin, x))\n",
    "print(\"w:\", w, w.T)\n",
    "print(\"x:\", x)\n",
    "\"\"\"\n",
    "def K_approx2(x, z, w):\n",
    "    \"\"\"The scalar kernel\n",
    "\n",
    "    Args:\n",
    "        x (float): random generated numbers\n",
    "        z (float): random generated numbers\n",
    "\n",
    "    Returns:\n",
    "        (float): a number, which is the scalar kernel\n",
    "    \"\"\"\n",
    "    return np.sum(phi_cos(x, w) * phi_cos(z, w)) + np.sum(phi_sin(x, w) * phi_sin(z, w))\n",
    "\n",
    "\"\"\"\n",
    "print(K_approx2(x,z))\n",
    "\"\"\""
   ]
  },
  {
   "cell_type": "markdown",
   "metadata": {},
   "source": [
    "### Matrix kernels"
   ]
  },
  {
   "cell_type": "markdown",
   "metadata": {},
   "source": []
  },
  {
   "cell_type": "code",
   "execution_count": 197,
   "metadata": {},
   "outputs": [
    {
     "name": "stdout",
     "output_type": "stream",
     "text": [
      "[[0.69925554 0.         0.         0.         0.        ]\n",
      " [0.         0.69925554 0.         0.         0.        ]\n",
      " [0.         0.         0.69925554 0.         0.        ]\n",
      " [0.         0.         0.         0.69925554 0.        ]\n",
      " [0.         0.         0.         0.         0.69925554]]\n",
      "\n",
      " matrix kernel\n",
      "[[0.12723974 0.         0.         0.         0.        ]\n",
      " [0.         0.12723974 0.         0.         0.        ]\n",
      " [0.         0.         0.12723974 0.         0.        ]\n",
      " [0.         0.         0.         0.12723974 0.        ]\n",
      " [0.         0.         0.         0.         0.12723974]]\n"
     ]
    }
   ],
   "source": [
    "# Matrix kernel\n",
    "def K(k, *args): # *args: can give as many arguments as you want\n",
    "    return k(*args) * np.eye(m)\n",
    "\n",
    "# Testing for gaussian kernel\n",
    "gauss_sep_ker = K(k_gauss, x, z)\n",
    "print(gauss_sep_ker)\n",
    "\n",
    "# Testing for approximation with RFF (random fourier features)\n",
    "print(\"\\n\", \"matrix kernel\")\n",
    "matrix_ker = K(K_approx2, x, z, w)\n",
    "print(matrix_ker)"
   ]
  },
  {
   "cell_type": "markdown",
   "metadata": {},
   "source": [
    "### Approximate function f"
   ]
  },
  {
   "cell_type": "code",
   "execution_count": 198,
   "metadata": {},
   "outputs": [
    {
     "name": "stdout",
     "output_type": "stream",
     "text": [
      "psi list: [ 0.17786327 -0.0914585   0.19438608  0.04705372  0.19451018  0.04653805\n",
      " -0.1649741   0.11306435  0.19254521  0.05409568]\n"
     ]
    }
   ],
   "source": [
    "# create a list of all the w_1...w_d\n",
    "d = 5\n",
    "def list_d(d, n):\n",
    "    list_w = []\n",
    "    for i in range(d):\n",
    "        w = np.random.normal(size = n) # should be N or d times\n",
    "        list_w.append(w)\n",
    "    return np.array(list_w)\n",
    "\n",
    "def psi(x, d, list_w):\n",
    "    \"\"\"\n",
    "    Args:\n",
    "        list_w (list): list of size d of all w, every w is of size n\n",
    "\n",
    "    Returns:\n",
    "        list: a list of cos and sin from 1 to 2d\n",
    "    \"\"\"\n",
    "    new_list = []\n",
    "    for w in list_w:\n",
    "        new_list.append(phi_cos(x,w))\n",
    "        new_list.append(phi_sin(x,w))\n",
    "    return (1/np.sqrt(d)) * np.array(new_list)\n",
    "\n",
    "list_w = list_d(d,n)\n",
    "print(\"psi list:\", psi(x, d, list_w))"
   ]
  },
  {
   "cell_type": "markdown",
   "metadata": {},
   "source": [
    "### Phi"
   ]
  },
  {
   "cell_type": "code",
   "execution_count": 199,
   "metadata": {},
   "outputs": [
    {
     "name": "stdout",
     "output_type": "stream",
     "text": [
      "[[ 0.04284922 -0.02086076]\n",
      " [ 0.19535594 -0.1989091 ]\n",
      " [-0.1651649   0.16141143]\n",
      " [ 0.11278544  0.11809467]\n",
      " [-0.05092775  0.17686283]\n",
      " [ 0.19340725 -0.09337847]\n",
      " [-0.16573194 -0.10474188]\n",
      " [-0.11195055  0.1703794 ]\n",
      " [ 0.1987152   0.13957061]\n",
      " [-0.02263338 -0.1432482 ]]\n"
     ]
    }
   ],
   "source": [
    "def phi(x, d, list_w): \n",
    "    psi_vector = []\n",
    "    for i in range(len(x)):\n",
    "        psi_vector.append(psi(x[i], d, list_w))\n",
    "    return np.array(np.transpose(psi_vector))\n",
    "\n",
    "phi_ = phi(x_vector, d, list_w)\n",
    "print(phi_)"
   ]
  },
  {
   "cell_type": "markdown",
   "metadata": {},
   "source": [
    "### Alpha"
   ]
  },
  {
   "cell_type": "code",
   "execution_count": 201,
   "metadata": {},
   "outputs": [
    {
     "name": "stdout",
     "output_type": "stream",
     "text": [
      "[[2.e-06 0.e+00]\n",
      " [0.e+00 2.e-06]]\n",
      "[[ 0.200002   -0.05089738]\n",
      " [-0.05089738  0.200002  ]]\n",
      "2 2\n"
     ]
    },
    {
     "ename": "ValueError",
     "evalue": "matmul: Input operand 1 has a mismatch in its core dimension 0, with gufunc signature (n?,k),(k,m?)->(n?,m?) (size 2 is different from 10)",
     "output_type": "error",
     "traceback": [
      "\u001b[1;31m---------------------------------------------------------------------------\u001b[0m",
      "\u001b[1;31mValueError\u001b[0m                                Traceback (most recent call last)",
      "Cell \u001b[1;32mIn [201], line 9\u001b[0m\n\u001b[0;32m      6\u001b[0m     alpha \u001b[39m=\u001b[39m (np\u001b[39m.\u001b[39mtranspose(phi) \u001b[39m@\u001b[39m y)\u001b[39m/\u001b[39m(np\u001b[39m.\u001b[39mtranspose(phi) \u001b[39m@\u001b[39m phi \u001b[39m+\u001b[39m lamba \u001b[39m*\u001b[39m N \u001b[39m*\u001b[39m np\u001b[39m.\u001b[39midentity(N))\n\u001b[0;32m      7\u001b[0m     \u001b[39mreturn\u001b[39;00m alpha\n\u001b[1;32m----> 9\u001b[0m alpha_ \u001b[39m=\u001b[39m alpha(phi_, y, lam)\n\u001b[0;32m     10\u001b[0m \u001b[39mprint\u001b[39m(alpha_)\n",
      "Cell \u001b[1;32mIn [201], line 6\u001b[0m, in \u001b[0;36malpha\u001b[1;34m(phi, y, lamba)\u001b[0m\n\u001b[0;32m      4\u001b[0m \u001b[39mprint\u001b[39m(np\u001b[39m.\u001b[39mtranspose(phi)\u001b[39m@phi\u001b[39m \u001b[39m+\u001b[39m lamba \u001b[39m*\u001b[39m N \u001b[39m*\u001b[39m np\u001b[39m.\u001b[39midentity(N))\n\u001b[0;32m      5\u001b[0m \u001b[39mprint\u001b[39m(\u001b[39mlen\u001b[39m(y), \u001b[39mlen\u001b[39m(np\u001b[39m.\u001b[39mtranspose(phi)))\n\u001b[1;32m----> 6\u001b[0m alpha \u001b[39m=\u001b[39m (np\u001b[39m.\u001b[39;49mtranspose(phi) \u001b[39m@\u001b[39;49m y)\u001b[39m/\u001b[39m(np\u001b[39m.\u001b[39mtranspose(phi) \u001b[39m@\u001b[39m phi \u001b[39m+\u001b[39m lamba \u001b[39m*\u001b[39m N \u001b[39m*\u001b[39m np\u001b[39m.\u001b[39midentity(N))\n\u001b[0;32m      7\u001b[0m \u001b[39mreturn\u001b[39;00m alpha\n",
      "\u001b[1;31mValueError\u001b[0m: matmul: Input operand 1 has a mismatch in its core dimension 0, with gufunc signature (n?,k),(k,m?)->(n?,m?) (size 2 is different from 10)"
     ]
    }
   ],
   "source": [
    "def alpha(phi, y, lamba):\n",
    "    N = len(y)\n",
    "    print(lamba * N * np.identity(N))\n",
    "    print(np.transpose(phi)@phi + lamba * N * np.identity(N))\n",
    "    print(len(y), len(np.transpose(phi)))\n",
    "    alpha = (np.transpose(phi) @ y)/(np.transpose(phi) @ phi + lamba * N * np.identity(N))\n",
    "    return alpha\n",
    "\n",
    "alpha_ = alpha(phi_, y, lam)\n",
    "print(alpha_)"
   ]
  }
 ],
 "metadata": {
  "kernelspec": {
   "display_name": "Python 3.8.1 32-bit",
   "language": "python",
   "name": "python3"
  },
  "language_info": {
   "codemirror_mode": {
    "name": "ipython",
    "version": 3
   },
   "file_extension": ".py",
   "mimetype": "text/x-python",
   "name": "python",
   "nbconvert_exporter": "python",
   "pygments_lexer": "ipython3",
   "version": "3.8.1"
  },
  "orig_nbformat": 4,
  "vscode": {
   "interpreter": {
    "hash": "141ff6ceaf6cd9d5f09b7c3dc742baf39b1c18dfc3a488d16317bf0a7860a04c"
   }
  }
 },
 "nbformat": 4,
 "nbformat_minor": 2
}
