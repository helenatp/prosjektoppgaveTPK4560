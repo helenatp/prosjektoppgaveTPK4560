{
 "cells": [
  {
   "cell_type": "code",
   "execution_count": 470,
   "metadata": {},
   "outputs": [],
   "source": [
    "import numpy as np\n",
    "import sympy as sym\n",
    "from numpy.random import randn\n",
    "np.set_printoptions(threshold=np.inf)\n"
   ]
  },
  {
   "cell_type": "markdown",
   "metadata": {},
   "source": [
    "### Values"
   ]
  },
  {
   "cell_type": "code",
   "execution_count": 471,
   "metadata": {},
   "outputs": [],
   "source": [
    "m = 5\n",
    "sigma = 2\n",
    "sigma2 = 2*sigma**2\n",
    "w = randn(m) / sigma\n",
    "b = np.random.rand(m)*2*np.pi\n",
    "\n",
    "n = 5\n",
    "x = randn(n)/2\n",
    "z = randn(n)/2 # function y"
   ]
  },
  {
   "cell_type": "markdown",
   "metadata": {},
   "source": [
    "### Gaussian Kernel"
   ]
  },
  {
   "cell_type": "code",
   "execution_count": 472,
   "metadata": {},
   "outputs": [
    {
     "name": "stdout",
     "output_type": "stream",
     "text": [
      "0.7273991349482477\n"
     ]
    }
   ],
   "source": [
    "def k_gauss(x,z):\n",
    "    \"\"\"R^n x R^n -> R - should be one number\n",
    "    # vector is multi-dimensional\n",
    "\n",
    "    Args:\n",
    "        x (float): real value numbers\n",
    "        z (float): real value numbers\n",
    "\n",
    "    Returns:\n",
    "        (vector with length n): a scalar shift-invariant Gaussian kernel\n",
    "    \"\"\"\n",
    "    return np.exp(-((np.linalg.norm(x-z))**2)/(sigma2)) \n",
    "\n",
    "print(k_gauss(x,z))"
   ]
  },
  {
   "cell_type": "markdown",
   "metadata": {},
   "source": [
    "###  Scalar kernel"
   ]
  },
  {
   "cell_type": "code",
   "execution_count": 473,
   "metadata": {},
   "outputs": [],
   "source": [
    "def k_approx(k, x, z):\n",
    "    \"\"\"scalar kernel\n",
    "\n",
    "    Args:\n",
    "        k (kernel): to test with different kernels\n",
    "\n",
    "    Returns:\n",
    "        approximated kernel: sum of feature vectors\n",
    "    \"\"\"\n",
    "    n = len(x)\n",
    "    Kxz = np.zeros((n,m))\n",
    "    for i in range(n):\n",
    "        for j in range(m):\n",
    "            Kxz[i, j] = k(x[i], z[j])\n",
    "    return Kxz"
   ]
  },
  {
   "cell_type": "markdown",
   "metadata": {},
   "source": [
    "### Approximation 1"
   ]
  },
  {
   "cell_type": "code",
   "execution_count": 474,
   "metadata": {},
   "outputs": [
    {
     "name": "stdout",
     "output_type": "stream",
     "text": [
      "[-0.84878461 -1.21700176 -0.73624732 -1.11227512 -0.25579489]\n"
     ]
    }
   ],
   "source": [
    "def psi_approx1(x):\n",
    "   \"\"\"\n",
    "   Args:\n",
    "       x (vector): vector with length n\n",
    "\n",
    "   Returns:\n",
    "       vector: vector with length n\n",
    "   \"\"\"\n",
    "   return np.sqrt(2)*np.cos(w*x + b)\n",
    "\n",
    "print(psi_approx1(x))"
   ]
  },
  {
   "cell_type": "markdown",
   "metadata": {},
   "source": [
    "### Approximation 2"
   ]
  },
  {
   "cell_type": "code",
   "execution_count": 475,
   "metadata": {},
   "outputs": [
    {
     "name": "stdout",
     "output_type": "stream",
     "text": [
      "cos: 0.40851470823866914\n",
      "sin: -0.18197728746377942\n",
      "\n",
      " added together: [0.40851470823866914, -0.18197728746377942, 0.40851470823866914, -0.18197728746377942, 0.40851470823866914, -0.18197728746377942, 0.40851470823866914, -0.18197728746377942, 0.40851470823866914, -0.18197728746377942]\n",
      "w: [0.60771043 0.1631019  0.4867397  0.149675   0.02618134] [0.60771043 0.1631019  0.4867397  0.149675   0.02618134]\n",
      "x: [-0.15882639  0.14587088 -0.60062325 -0.49526923  0.76896482]\n",
      "0.19954429511041116\n"
     ]
    }
   ],
   "source": [
    "def psi_cos(x):\n",
    "    return 1/np.sqrt(m) * np.cos(w.T@x)\n",
    "\n",
    "def psi_sin(x):\n",
    "    return 1/np.sqrt(m) * np.sin(w.T@x)\n",
    "\n",
    "def add_psi_cos_sin(f, g, x):\n",
    "    \"\"\"\n",
    "        [1 2 3] and [1 2 3] -> [1 1 2 2 3 3]\n",
    "    \"\"\"\n",
    "    new_list = []\n",
    "    for i in range (m):\n",
    "        new_list.append(f(x))\n",
    "        new_list.append(g(x))\n",
    "    return new_list\n",
    "\n",
    "print(\"cos:\", psi_cos(x))\n",
    "print(\"sin:\", psi_sin(x))\n",
    "print(\"\\n added together:\", add_psi_cos_sin(psi_cos, psi_sin, x))\n",
    "print(\"w:\", w, w.T)\n",
    "print(\"x:\", x)\n",
    "\n",
    "def K_approx2(x, z):\n",
    "    \"\"\"The scalar kernel\n",
    "\n",
    "    Args:\n",
    "        x (float): random generated numbers\n",
    "        z (float): random generated numbers\n",
    "\n",
    "    Returns:\n",
    "        (float): a number, which is the scalar kernel\n",
    "    \"\"\"\n",
    "    return np.sum(psi_cos(x) * psi_cos(z)) + np.sum(psi_sin(x) * psi_sin(z))\n",
    "\n",
    "print(K_approx2(x,z))"
   ]
  },
  {
   "cell_type": "markdown",
   "metadata": {},
   "source": [
    "### Matrix kernels"
   ]
  },
  {
   "cell_type": "markdown",
   "metadata": {},
   "source": []
  },
  {
   "cell_type": "code",
   "execution_count": 476,
   "metadata": {},
   "outputs": [
    {
     "name": "stdout",
     "output_type": "stream",
     "text": [
      "[[0.72739913 0.         0.         0.         0.        ]\n",
      " [0.         0.72739913 0.         0.         0.        ]\n",
      " [0.         0.         0.72739913 0.         0.        ]\n",
      " [0.         0.         0.         0.72739913 0.        ]\n",
      " [0.         0.         0.         0.         0.72739913]]\n",
      "\n",
      " matrix kernel\n",
      "[[0.1995443 0.        0.        0.        0.       ]\n",
      " [0.        0.1995443 0.        0.        0.       ]\n",
      " [0.        0.        0.1995443 0.        0.       ]\n",
      " [0.        0.        0.        0.1995443 0.       ]\n",
      " [0.        0.        0.        0.        0.1995443]]\n"
     ]
    }
   ],
   "source": [
    "# Matrix kernel\n",
    "def K(k, x, z):\n",
    "    return k(x,z) * np.eye(m)\n",
    "\n",
    "# Testing for gaussian kernel\n",
    "gauss_sep_ker = K(k_gauss, x, z)\n",
    "print(gauss_sep_ker)\n",
    "\n",
    "# Testing for approximation with RFF (random fourier features)\n",
    "print(\"\\n\", \"matrix kernel\")\n",
    "matrix_ker = K(K_approx2, x, z)\n",
    "print(matrix_ker)"
   ]
  },
  {
   "cell_type": "markdown",
   "metadata": {},
   "source": [
    "### Approximate function f"
   ]
  }
 ],
 "metadata": {
  "kernelspec": {
   "display_name": "Python 3.10.6 64-bit",
   "language": "python",
   "name": "python3"
  },
  "language_info": {
   "codemirror_mode": {
    "name": "ipython",
    "version": 3
   },
   "file_extension": ".py",
   "mimetype": "text/x-python",
   "name": "python",
   "nbconvert_exporter": "python",
   "pygments_lexer": "ipython3",
   "version": "3.10.6"
  },
  "orig_nbformat": 4,
  "vscode": {
   "interpreter": {
    "hash": "364ce0aa04b075b5f9a8a87d4ba65b1dbc176d267b37027aa80213cb40fae0fc"
   }
  }
 },
 "nbformat": 4,
 "nbformat_minor": 2
}
