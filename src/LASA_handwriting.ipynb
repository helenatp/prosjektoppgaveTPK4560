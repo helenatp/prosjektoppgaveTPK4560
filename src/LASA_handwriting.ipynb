{
 "cells": [
  {
   "cell_type": "markdown",
   "metadata": {},
   "source": [
    "### Imports"
   ]
  },
  {
   "cell_type": "code",
   "execution_count": 2,
   "metadata": {},
   "outputs": [],
   "source": [
    "import numpy as np\n",
    "import pandas as pd\n",
    "import matplotlib.pyplot as plt\n",
    "from scipy.integrate import solve_ivp\n",
    "import ipywidgets as ipw\n",
    "from numpy.random import randn, rand\n",
    "from scipy.io import loadmat\n",
    "import time\n",
    "import statistics as stat\n",
    "from functools import wraps"
   ]
  },
  {
   "cell_type": "markdown",
   "metadata": {},
   "source": [
    "### Runtime"
   ]
  },
  {
   "cell_type": "code",
   "execution_count": 3,
   "metadata": {},
   "outputs": [],
   "source": [
    "def runtime(func):\n",
    "    @wraps(func)\n",
    "    def runtime_wrapper(*args, **kwargs):\n",
    "        start_time = time.perf_counter()\n",
    "        result = func(*args, **kwargs)\n",
    "        end_time = time.perf_counter()\n",
    "        total_time = end_time - start_time\n",
    "        print(\"\\n\", f'Function {func.__name__} took {total_time:.4f} seconds')\n",
    "        return result\n",
    "    return runtime_wrapper"
   ]
  },
  {
   "cell_type": "markdown",
   "metadata": {},
   "source": [
    "### Read data"
   ]
  },
  {
   "cell_type": "code",
   "execution_count": 35,
   "metadata": {},
   "outputs": [],
   "source": [
    "# Note that there are several shapes in the LASA Handwriting dataset\n",
    "\n",
    "# name_of_dataset = 'Angle'\n",
    "# name_of_dataset = 'CShape'\n",
    "# name_of_dataset = 'GShape'\n",
    "# name_of_dataset = 'JShape'\n",
    "name_of_dataset = 'Sshape'\n",
    "\n",
    "dataset = loadmat(name_of_dataset + '.mat')\n",
    "\n",
    "# Unpack the trajectories and place into x and y used in learning step\n",
    "num_of_demos = dataset['demos'].shape[1]\n",
    "size_of_state = dataset['demos'][0, 0][0,0][0].shape[0]\n",
    "dim_of_function = size_of_state \n",
    "\n",
    "x_cell = np.zeros((1, num_of_demos))\n",
    "y_cell = np.zeros((1, num_of_demos))"
   ]
  },
  {
   "cell_type": "code",
   "execution_count": 55,
   "metadata": {},
   "outputs": [
    {
     "name": "stdout",
     "output_type": "stream",
     "text": [
      "[0.         0.00462223 0.00924447 0.0138667  0.01848894 0.02311117\n",
      " 0.0277334  0.03235564 0.03697787 0.04160011 0.04622234 0.05084458\n",
      " 0.05546681 0.06008904 0.06471128 0.06933351 0.07395575 0.07857798\n",
      " 0.08320021 0.08782245 0.09244468 0.09706692 0.10168915 0.10631138\n",
      " 0.11093362 0.11555585 0.12017809 0.12480032 0.12942256 0.13404479\n",
      " 0.13866702 0.14328926 0.14791149 0.15253373 0.15715596 0.16177819\n",
      " 0.16640043 0.17102266 0.1756449  0.18026713 0.18488936 0.1895116\n",
      " 0.19413383 0.19875607 0.2033783  0.20800053 0.21262277 0.217245\n",
      " 0.22186724 0.22648947 0.23111171 0.23573394 0.24035617 0.24497841\n",
      " 0.24960064 0.25422288 0.25884511 0.26346734 0.26808958 0.27271181\n",
      " 0.27733405 0.28195628 0.28657851 0.29120075 0.29582298 0.30044522\n",
      " 0.30506745 0.30968969 0.31431192 0.31893415 0.32355639 0.32817862\n",
      " 0.33280086 0.33742309 0.34204532 0.34666756 0.35128979 0.35591203\n",
      " 0.36053426 0.36515649 0.36977873 0.37440096 0.3790232  0.38364543\n",
      " 0.38826767 0.3928899  0.39751213 0.40213437 0.4067566  0.41137884\n",
      " 0.41600107 0.4206233  0.42524554 0.42986777 0.43449001 0.43911224\n",
      " 0.44373447 0.44835671 0.45297894 0.45760118 0.46222341 0.46684564\n",
      " 0.47146788 0.47609011 0.48071235 0.48533458 0.48995682 0.49457905\n",
      " 0.49920128 0.50382352 0.50844575 0.51306799 0.51769022 0.52231245\n",
      " 0.52693469 0.53155692 0.53617916 0.54080139 0.54542362 0.55004586\n",
      " 0.55466809 0.55929033 0.56391256 0.5685348  0.57315703 0.57777926\n",
      " 0.5824015  0.58702373 0.59164597 0.5962682  0.60089043 0.60551267\n",
      " 0.6101349  0.61475714 0.61937937 0.6240016  0.62862384 0.63324607\n",
      " 0.63786831 0.64249054 0.64711278 0.65173501 0.65635724 0.66097948\n",
      " 0.66560171 0.67022395 0.67484618 0.67946841 0.68409065 0.68871288\n",
      " 0.69333512 0.69795735 0.70257958 0.70720182 0.71182405 0.71644629\n",
      " 0.72106852 0.72569076 0.73031299 0.73493522 0.73955746 0.74417969\n",
      " 0.74880193 0.75342416 0.75804639 0.76266863 0.76729086 0.7719131\n",
      " 0.77653533 0.78115756 0.7857798  0.79040203 0.79502427 0.7996465\n",
      " 0.80426873 0.80889097 0.8135132  0.81813544 0.82275767 0.82737991\n",
      " 0.83200214 0.83662437 0.84124661 0.84586884 0.85049108 0.85511331\n",
      " 0.85973554 0.86435778 0.86898001 0.87360225 0.87822448 0.88284671\n",
      " 0.88746895 0.89209118 0.89671342 0.90133565 0.90595789 0.91058012\n",
      " 0.91520235 0.91982459 0.92444682 0.92906906 0.93369129 0.93831352\n",
      " 0.94293576 0.94755799 0.95218023 0.95680246 0.96142469 0.96604693\n",
      " 0.97066916 0.9752914  0.97991363 0.98453587 0.9891581  0.99378033\n",
      " 0.99840257 1.0030248  1.00764704 1.01226927 1.0168915  1.02151374\n",
      " 1.02613597 1.03075821 1.03538044 1.04000267 1.04462491 1.04924714\n",
      " 1.05386938 1.05849161 1.06311384 1.06773608 1.07235831 1.07698055\n",
      " 1.08160278 1.08622502 1.09084725 1.09546948 1.10009172 1.10471395\n",
      " 1.10933619 1.11395842 1.11858065 1.12320289 1.12782512 1.13244736\n",
      " 1.13706959 1.14169182 1.14631406 1.15093629 1.15555853 1.16018076\n",
      " 1.164803   1.16942523 1.17404746 1.1786697  1.18329193 1.18791417\n",
      " 1.1925364  1.19715863 1.20178087 1.2064031  1.21102534 1.21564757\n",
      " 1.2202698  1.22489204 1.22951427 1.23413651 1.23875874 1.24338098\n",
      " 1.24800321 1.25262544 1.25724768 1.26186991 1.26649215 1.27111438\n",
      " 1.27573661 1.28035885 1.28498108 1.28960332 1.29422555 1.29884778\n",
      " 1.30347002 1.30809225 1.31271449 1.31733672 1.32195896 1.32658119\n",
      " 1.33120342 1.33582566 1.34044789 1.34507013 1.34969236 1.35431459\n",
      " 1.35893683 1.36355906 1.3681813  1.37280353 1.37742576 1.382048\n",
      " 1.38667023 1.39129247 1.3959147  1.40053693 1.40515917 1.4097814\n",
      " 1.41440364 1.41902587 1.42364811 1.42827034 1.43289257 1.43751481\n",
      " 1.44213704 1.44675928 1.45138151 1.45600374 1.46062598 1.46524821\n",
      " 1.46987045 1.47449268 1.47911491 1.48373715 1.48835938 1.49298162\n",
      " 1.49760385 1.50222609 1.50684832 1.51147055 1.51609279 1.52071502\n",
      " 1.52533726 1.52995949 1.53458172 1.53920396 1.54382619 1.54844843\n",
      " 1.55307066 1.55769289 1.56231513 1.56693736 1.5715596  1.57618183\n",
      " 1.58080407 1.5854263  1.59004853 1.59467077 1.599293   1.60391524\n",
      " 1.60853747 1.6131597  1.61778194 1.62240417 1.62702641 1.63164864\n",
      " 1.63627087 1.64089311 1.64551534 1.65013758 1.65475981 1.65938204\n",
      " 1.66400428 1.66862651 1.67324875 1.67787098 1.68249322 1.68711545\n",
      " 1.69173768 1.69635992 1.70098215 1.70560439 1.71022662 1.71484885\n",
      " 1.71947109 1.72409332 1.72871556 1.73333779 1.73796002 1.74258226\n",
      " 1.74720449 1.75182673 1.75644896 1.7610712  1.76569343 1.77031566\n",
      " 1.7749379  1.77956013 1.78418237 1.7888046  1.79342683 1.79804907\n",
      " 1.8026713  1.80729354 1.81191577 1.816538   1.82116024 1.82578247\n",
      " 1.83040471 1.83502694 1.83964918 1.84427141 1.84889364 1.85351588\n",
      " 1.85813811 1.86276035 1.86738258 1.87200481 1.87662705 1.88124928\n",
      " 1.88587152 1.89049375 1.89511598 1.89973822 1.90436045 1.90898269\n",
      " 1.91360492 1.91822715 1.92284939 1.92747162 1.93209386 1.93671609\n",
      " 1.94133833 1.94596056 1.95058279 1.95520503 1.95982726 1.9644495\n",
      " 1.96907173 1.97369396 1.9783162  1.98293843 1.98756067 1.9921829\n",
      " 1.99680513 2.00142737 2.0060496  2.01067184 2.01529407 2.01991631\n",
      " 2.02453854 2.02916077 2.03378301 2.03840524 2.04302748 2.04764971\n",
      " 2.05227194 2.05689418 2.06151641 2.06613865 2.07076088 2.07538311\n",
      " 2.08000535 2.08462758 2.08924982 2.09387205 2.09849429 2.10311652\n",
      " 2.10773875 2.11236099 2.11698322 2.12160546 2.12622769 2.13084992\n",
      " 2.13547216 2.14009439 2.14471663 2.14933886 2.15396109 2.15858333\n",
      " 2.16320556 2.1678278  2.17245003 2.17707227 2.1816945  2.18631673\n",
      " 2.19093897 2.1955612  2.20018344 2.20480567 2.2094279  2.21405014\n",
      " 2.21867237 2.22329461 2.22791684 2.23253907 2.23716131 2.24178354\n",
      " 2.24640578 2.25102801 2.25565024 2.26027248 2.26489471 2.26951695\n",
      " 2.27413918 2.27876142 2.28338365 2.28800588 2.29262812 2.29725035\n",
      " 2.30187259 2.30649482 2.31111705 2.31573929 2.32036152 2.32498376\n",
      " 2.32960599 2.33422822 2.33885046 2.34347269 2.34809493 2.35271716\n",
      " 2.3573394  2.36196163 2.36658386 2.3712061  2.37582833 2.38045057\n",
      " 2.3850728  2.38969503 2.39431727 2.3989395  2.40356174 2.40818397\n",
      " 2.4128062  2.41742844 2.42205067 2.42667291 2.43129514 2.43591738\n",
      " 2.44053961 2.44516184 2.44978408 2.45440631 2.45902855 2.46365078\n",
      " 2.46827301 2.47289525 2.47751748 2.48213972 2.48676195 2.49138418\n",
      " 2.49600642 2.50062865 2.50525089 2.50987312 2.51449535 2.51911759\n",
      " 2.52373982 2.52836206 2.53298429 2.53760653 2.54222876 2.54685099\n",
      " 2.55147323 2.55609546 2.5607177  2.56533993 2.56996216 2.5745844\n",
      " 2.57920663 2.58382887 2.5884511  2.59307333 2.59769557 2.6023178\n",
      " 2.60694004 2.61156227 2.61618451 2.62080674 2.62542897 2.63005121\n",
      " 2.63467344 2.63929568 2.64391791 2.64854014 2.65316238 2.65778461\n",
      " 2.66240685 2.66702908 2.67165131 2.67627355 2.68089578 2.68551802\n",
      " 2.69014025 2.69476249 2.69938472 2.70400695 2.70862919 2.71325142\n",
      " 2.71787366 2.72249589 2.72711812 2.73174036 2.73636259 2.74098483\n",
      " 2.74560706 2.75022929 2.75485153 2.75947376 2.764096   2.76871823\n",
      " 2.77334047 2.7779627  2.78258493 2.78720717 2.7918294  2.79645164\n",
      " 2.80107387 2.8056961  2.81031834 2.81494057 2.81956281 2.82418504\n",
      " 2.82880727 2.83342951 2.83805174 2.84267398 2.84729621 2.85191844\n",
      " 2.85654068 2.86116291 2.86578515 2.87040738 2.87502962 2.87965185\n",
      " 2.88427408 2.88889632 2.89351855 2.89814079 2.90276302 2.90738525\n",
      " 2.91200749 2.91662972 2.92125196 2.92587419 2.93049642 2.93511866\n",
      " 2.93974089 2.94436313 2.94898536 2.9536076  2.95822983 2.96285206\n",
      " 2.9674743  2.97209653 2.97671877 2.981341   2.98596323 2.99058547\n",
      " 2.9952077  2.99982994 3.00445217 3.0090744  3.01369664 3.01831887\n",
      " 3.02294111 3.02756334 3.03218558 3.03680781 3.04143004 3.04605228\n",
      " 3.05067451 3.05529675 3.05991898 3.06454121 3.06916345 3.07378568\n",
      " 3.07840792 3.08303015 3.08765238 3.09227462 3.09689685 3.10151909\n",
      " 3.10614132 3.11076355 3.11538579 3.12000802 3.12463026 3.12925249\n",
      " 3.13387473 3.13849696 3.14311919 3.14774143 3.15236366 3.1569859\n",
      " 3.16160813 3.16623036 3.1708526  3.17547483 3.18009707 3.1847193\n",
      " 3.18934153 3.19396377 3.198586   3.20320824 3.20783047 3.21245271\n",
      " 3.21707494 3.22169717 3.22631941 3.23094164 3.23556388 3.24018611\n",
      " 3.24480834 3.24943058 3.25405281 3.25867505 3.26329728 3.26791951\n",
      " 3.27254175 3.27716398 3.28178622 3.28640845 3.29103069 3.29565292\n",
      " 3.30027515 3.30489739 3.30951962 3.31414186 3.31876409 3.32338632\n",
      " 3.32800856 3.33263079 3.33725303 3.34187526 3.34649749 3.35111973\n",
      " 3.35574196 3.3603642  3.36498643 3.36960867 3.3742309  3.37885313\n",
      " 3.38347537 3.3880976  3.39271984 3.39734207 3.4019643  3.40658654\n",
      " 3.41120877 3.41583101 3.42045324 3.42507547 3.42969771 3.43431994\n",
      " 3.43894218 3.44356441 3.44818664 3.45280888 3.45743111 3.46205335\n",
      " 3.46667558 3.47129782 3.47592005 3.48054228 3.48516452 3.48978675\n",
      " 3.49440899 3.49903122 3.50365345 3.50827569 3.51289792 3.51752016\n",
      " 3.52214239 3.52676462 3.53138686 3.53600909 3.54063133 3.54525356\n",
      " 3.5498758  3.55449803 3.55912026 3.5637425  3.56836473 3.57298697\n",
      " 3.5776092  3.58223143 3.58685367 3.5914759  3.59609814 3.60072037\n",
      " 3.6053426  3.60996484 3.61458707 3.61920931 3.62383154 3.62845378\n",
      " 3.63307601 3.63769824 3.64232048 3.64694271 3.65156495 3.65618718\n",
      " 3.66080941 3.66543165 3.67005388 3.67467612 3.67929835 3.68392058\n",
      " 3.68854282 3.69316505 3.69778729 3.70240952 3.70703175 3.71165399\n",
      " 3.71627622 3.72089846 3.72552069 3.73014293 3.73476516 3.73938739\n",
      " 3.74400963 3.74863186 3.7532541  3.75787633 3.76249856 3.7671208\n",
      " 3.77174303 3.77636527 3.7809875  3.78560973 3.79023197 3.7948542\n",
      " 3.79947644 3.80409867 3.80872091 3.81334314 3.81796537 3.82258761\n",
      " 3.82720984 3.83183208 3.83645431 3.84107654 3.84569878 3.85032101\n",
      " 3.85494325 3.85956548 3.86418771 3.86880995 3.87343218 3.87805442\n",
      " 3.88267665 3.88729889 3.89192112 3.89654335 3.90116559 3.90578782\n",
      " 3.91041006 3.91503229 3.91965452 3.92427676 3.92889899 3.93352123\n",
      " 3.93814346 3.94276569 3.94738793 3.95201016 3.9566324  3.96125463\n",
      " 3.96587687 3.9704991  3.97512133 3.97974357 3.9843658  3.98898804\n",
      " 3.99361027 3.9982325  4.00285474 4.00747697 4.01209921 4.01672144\n",
      " 4.02134367 4.02596591 4.03058814 4.03521038 4.03983261 4.04445484\n",
      " 4.04907708 4.05369931 4.05832155 4.06294378 4.06756602 4.07218825\n",
      " 4.07681048 4.08143272 4.08605495 4.09067719 4.09529942 4.09992165\n",
      " 4.10454389 4.10916612 4.11378836 4.11841059 4.12303282 4.12765506\n",
      " 4.13227729 4.13689953 4.14152176 4.146144   4.15076623 4.15538846\n",
      " 4.1600107  4.16463293 4.16925517 4.1738774  4.17849963 4.18312187\n",
      " 4.1877441  4.19236634 4.19698857 4.2016108  4.20623304 4.21085527\n",
      " 4.21547751 4.22009974 4.22472198 4.22934421 4.23396644 4.23858868\n",
      " 4.24321091 4.24783315 4.25245538 4.25707761 4.26169985 4.26632208\n",
      " 4.27094432 4.27556655 4.28018878 4.28481102 4.28943325 4.29405549\n",
      " 4.29867772 4.30329995 4.30792219 4.31254442 4.31716666 4.32178889\n",
      " 4.32641113 4.33103336 4.33565559 4.34027783 4.34490006 4.3495223\n",
      " 4.35414453 4.35876676 4.363389   4.36801123 4.37263347 4.3772557\n",
      " 4.38187793 4.38650017 4.3911224  4.39574464 4.40036687 4.40498911\n",
      " 4.40961134 4.41423357 4.41885581 4.42347804 4.42810028 4.43272251\n",
      " 4.43734474 4.44196698 4.44658921 4.45121145 4.45583368 4.46045591\n",
      " 4.46507815 4.46970038 4.47432262 4.47894485 4.48356709 4.48818932\n",
      " 4.49281155 4.49743379 4.50205602 4.50667826 4.51130049 4.51592272\n",
      " 4.52054496 4.52516719 4.52978943 4.53441166 4.53903389 4.54365613\n",
      " 4.54827836 4.5529006  4.55752283 4.56214506 4.5667673  4.57138953\n",
      " 4.57601177 4.580634   4.58525624 4.58987847 4.5945007  4.59912294\n",
      " 4.60374517 4.60836741 4.61298964 4.61761187]\n"
     ]
    }
   ],
   "source": [
    "# We need an init position for future simulation of learnt system\n",
    "init_position_of_demos = np.zeros((size_of_state, num_of_demos))\n",
    "\n",
    "for i in range(0, num_of_demos-1):\n",
    "    demo_struct = dataset['demos'][0,i][0,0]\n",
    "\n",
    "    position_dataseries = dataset['demos'][0,i][0,0][0]\n",
    "    velocity_dataseries = dataset['demos'][0,i][0,0][2] # is at position 3 in .mat file\n",
    "\n",
    "    x_cell[0, i] = position_dataseries\n",
    "    y_cell[0, i] = velocity_dataseries\n",
    "\n",
    "init_position_of_demos[:,i] = position_dataseries[:,0]\n",
    "\n",
    "print(x_cell)\n",
    "print(y_cell)\n",
    "\n",
    "x_train = x_cell\n",
    "y_train = y_cell\n",
    "\n",
    "num_of_points = x_train.shape[1]\n",
    "\n",
    "# Get time info for simulating the learnt system later\n",
    "\n",
    "time_step = dataset['dt'][0,0] # good\n",
    "\n",
    "len_of_dataseries = dataset['demos'][0, 0][0,0][0].shape[1]\n",
    "\n",
    "concatenate = np.concatenate((np.array([[0]]), time_step * np.ones((1, len_of_dataseries - 1))),axis=1) # axis = 1 is to concatenate at the second dimension\n",
    "time_series = np.cumsum(concatenate) # OK\n",
    "\n",
    "num_of_timesteps = len_of_dataseries\n",
    "\n",
    "# Intial starting point for the simulated trajectory using learnt model\n",
    "init_condition = stat.mean(init_position_of_demos[1]) # Average starting point of all demos"
   ]
  },
  {
   "cell_type": "markdown",
   "metadata": {},
   "source": [
    "#### Plot dataset (state trajectory with velocities as arrows)"
   ]
  },
  {
   "cell_type": "code",
   "execution_count": 56,
   "metadata": {},
   "outputs": [
    {
     "ename": "NameError",
     "evalue": "name 'x_train' is not defined",
     "output_type": "error",
     "traceback": [
      "\u001b[1;31m---------------------------------------------------------------------------\u001b[0m",
      "\u001b[1;31mNameError\u001b[0m                                 Traceback (most recent call last)",
      "Cell \u001b[1;32mIn [56], line 4\u001b[0m\n\u001b[0;32m      2\u001b[0m plt\u001b[39m.\u001b[39mstyle\u001b[39m.\u001b[39muse(\u001b[39m'\u001b[39m\u001b[39mdefault\u001b[39m\u001b[39m'\u001b[39m)\n\u001b[0;32m      3\u001b[0m plt\u001b[39m.\u001b[39mtitle(\u001b[39m'\u001b[39m\u001b[39mTrajectory used in regression problem -\u001b[39m\u001b[39m'\u001b[39m \u001b[39m+\u001b[39m name_of_dataset)\n\u001b[1;32m----> 4\u001b[0m plt\u001b[39m.\u001b[39mplot(x_train[\u001b[39m0\u001b[39m,:], x_train[\u001b[39m1\u001b[39m,:], y_train[\u001b[39m0\u001b[39m,:], y_train[\u001b[39m1\u001b[39m,:])\n\u001b[0;32m      5\u001b[0m plt\u001b[39m.\u001b[39mxlabel(\u001b[39m'\u001b[39m\u001b[39mx1\u001b[39m\u001b[39m'\u001b[39m)\n\u001b[0;32m      6\u001b[0m plt\u001b[39m.\u001b[39mylabel(\u001b[39m'\u001b[39m\u001b[39mx2\u001b[39m\u001b[39m'\u001b[39m)\n",
      "\u001b[1;31mNameError\u001b[0m: name 'x_train' is not defined"
     ]
    },
    {
     "data": {
      "image/png": "[encoded data removed]",
      "image/svg+xml": "<?xml version=\"1.0\" encoding=\"utf-8\" standalone=\"no\"?>\n<!DOCTYPE svg PUBLIC \"-//W3C//DTD SVG 1.1//EN\"\n  \"http://www.w3.org/Graphics/SVG/1.1/DTD/svg11.dtd\">\n<svg xmlns:xlink=\"http://www.w3.org/1999/xlink\" width=\"402.374687pt\" height=\"312.30825pt\" viewBox=\"0 0 402.374687 312.30825\" xmlns=\"http://www.w3.org/2000/svg\" version=\"1.1\">\n <metadata>\n  <rdf:RDF xmlns:dc=\"http://purl.org/dc/elements/1.1/\" xmlns:cc=\"http://creativecommons.org/ns#\" xmlns:rdf=\"http://www.w3.org/1999/02/22-rdf-syntax-ns#\">\n   <cc:Work>\n    <dc:type rdf:resource=\"http://purl.org/dc/dcmitype/StillImage\"/>\n    <dc:date>2022-11-18T09:48:46.025220</dc:date>\n    <dc:format>image/svg+xml</dc:format>\n    <dc:creator>\n     <cc:Agent>\n      <dc:title>Matplotlib v3.6.2, https://matplotlib.org/</dc:title>\n     </cc:Agent>\n    </dc:creator>\n   </cc:Work>\n  </rdf:RDF>\n </metadata>\n <defs>\n  <style type=\"text/css\">*{stroke-linejoin: round; stroke-linecap: butt}</style>\n </defs>\n <g id=\"figure_1\">\n  <g id=\"patch_1\">\n   <path d=\"M 0 312.30825 \nL 402.374687 312.30825 \nL 402.374687 0 \nL 0 0 \nz\n\"/>\n  </g>\n  <g id=\"axes_1\">\n   <g id=\"patch_2\">\n    <path d=\"M 30.103125 288.430125 \nL 387.223125 288.430125 \nL 387.223125 22.318125 \nL 30.103125 22.318125 \nz\n\" style=\"fill: #ffffff\"/>\n   </g>\n   <g id=\"matplotlib.axis_1\">\n    <g id=\"xtick_1\">\n     <g id=\"line2d_1\">\n      <defs>\n       <path id=\"mce68ded8b4\" d=\"M 0 0 \nL 0 3.5 \n\" style=\"stroke: #000000; stroke-width: 0.8\"/>\n      </defs>\n      <g>\n       <use xlink:href=\"#mce68ded8b4\" x=\"30.103125\" y=\"288.430125\" style=\"stroke: #000000; stroke-width: 0.8\"/>\n      </g>\n     </g>\n     <g id=\"text_1\">\n      <!-- 0.0 -->\n      <g transform=\"translate(22.151563 303.028562) scale(0.1 -0.1)\">\n       <defs>\n        <path id=\"DejaVuSans-30\" d=\"M 2034 4250 \nQ 1547 4250 1301 3770 \nQ 1056 3291 1056 2328 \nQ 1056 1369 1301 889 \nQ 1547 409 2034 409 \nQ 2525 409 2770 889 \nQ 3016 1369 3016 2328 \nQ 3016 3291 2770 3770 \nQ 2525 4250 2034 4250 \nz\nM 2034 4750 \nQ 2819 4750 3233 4129 \nQ 3647 3509 3647 2328 \nQ 3647 1150 3233 529 \nQ 2819 -91 2034 -91 \nQ 1250 -91 836 529 \nQ 422 1150 422 2328 \nQ 422 3509 836 4129 \nQ 1250 4750 2034 4750 \nz\n\" transform=\"scale(0.015625)\"/>\n        <path id=\"DejaVuSans-2e\" d=\"M 684 794 \nL 1344 794 \nL 1344 0 \nL 684 0 \nL 684 794 \nz\n\" transform=\"scale(0.015625)\"/>\n       </defs>\n       <use xlink:href=\"#DejaVuSans-30\"/>\n       <use xlink:href=\"#DejaVuSans-2e\" x=\"63.623047\"/>\n       <use xlink:href=\"#DejaVuSans-30\" x=\"95.410156\"/>\n      </g>\n     </g>\n    </g>\n    <g id=\"xtick_2\">\n     <g id=\"line2d_2\">\n      <g>\n       <use xlink:href=\"#mce68ded8b4\" x=\"101.527125\" y=\"288.430125\" style=\"stroke: #000000; stroke-width: 0.8\"/>\n      </g>\n     </g>\n     <g id=\"text_2\">\n      <!-- 0.2 -->\n      <g transform=\"translate(93.575563 303.028562) scale(0.1 -0.1)\">\n       <defs>\n        <path id=\"DejaVuSans-32\" d=\"M 1228 531 \nL 3431 531 \nL 3431 0 \nL 469 0 \nL 469 531 \nQ 828 903 1448 1529 \nQ 2069 2156 2228 2338 \nQ 2531 2678 2651 2914 \nQ 2772 3150 2772 3378 \nQ 2772 3750 2511 3984 \nQ 2250 4219 1831 4219 \nQ 1534 4219 1204 4116 \nQ 875 4013 500 3803 \nL 500 4441 \nQ 881 4594 1212 4672 \nQ 1544 4750 1819 4750 \nQ 2544 4750 2975 4387 \nQ 3406 4025 3406 3419 \nQ 3406 3131 3298 2873 \nQ 3191 2616 2906 2266 \nQ 2828 2175 2409 1742 \nQ 1991 1309 1228 531 \nz\n\" transform=\"scale(0.015625)\"/>\n       </defs>\n       <use xlink:href=\"#DejaVuSans-30\"/>\n       <use xlink:href=\"#DejaVuSans-2e\" x=\"63.623047\"/>\n       <use xlink:href=\"#DejaVuSans-32\" x=\"95.410156\"/>\n      </g>\n     </g>\n    </g>\n    <g id=\"xtick_3\">\n     <g id=\"line2d_3\">\n      <g>\n       <use xlink:href=\"#mce68ded8b4\" x=\"172.951125\" y=\"288.430125\" style=\"stroke: #000000; stroke-width: 0.8\"/>\n      </g>\n     </g>\n     <g id=\"text_3\">\n      <!-- 0.4 -->\n      <g transform=\"translate(164.999563 303.028562) scale(0.1 -0.1)\">\n       <defs>\n        <path id=\"DejaVuSans-34\" d=\"M 2419 4116 \nL 825 1625 \nL 2419 1625 \nL 2419 4116 \nz\nM 2253 4666 \nL 3047 4666 \nL 3047 1625 \nL 3713 1625 \nL 3713 1100 \nL 3047 1100 \nL 3047 0 \nL 2419 0 \nL 2419 1100 \nL 313 1100 \nL 313 1709 \nL 2253 4666 \nz\n\" transform=\"scale(0.015625)\"/>\n       </defs>\n       <use xlink:href=\"#DejaVuSans-30\"/>\n       <use xlink:href=\"#DejaVuSans-2e\" x=\"63.623047\"/>\n       <use xlink:href=\"#DejaVuSans-34\" x=\"95.410156\"/>\n      </g>\n     </g>\n    </g>\n    <g id=\"xtick_4\">\n     <g id=\"line2d_4\">\n      <g>\n       <use xlink:href=\"#mce68ded8b4\" x=\"244.375125\" y=\"288.430125\" style=\"stroke: #000000; stroke-width: 0.8\"/>\n      </g>\n     </g>\n     <g id=\"text_4\">\n      <!-- 0.6 -->\n      <g transform=\"translate(236.423563 303.028562) scale(0.1 -0.1)\">\n       <defs>\n        <path id=\"DejaVuSans-36\" d=\"M 2113 2584 \nQ 1688 2584 1439 2293 \nQ 1191 2003 1191 1497 \nQ 1191 994 1439 701 \nQ 1688 409 2113 409 \nQ 2538 409 2786 701 \nQ 3034 994 3034 1497 \nQ 3034 2003 2786 2293 \nQ 2538 2584 2113 2584 \nz\nM 3366 4563 \nL 3366 3988 \nQ 3128 4100 2886 4159 \nQ 2644 4219 2406 4219 \nQ 1781 4219 1451 3797 \nQ 1122 3375 1075 2522 \nQ 1259 2794 1537 2939 \nQ 1816 3084 2150 3084 \nQ 2853 3084 3261 2657 \nQ 3669 2231 3669 1497 \nQ 3669 778 3244 343 \nQ 2819 -91 2113 -91 \nQ 1303 -91 875 529 \nQ 447 1150 447 2328 \nQ 447 3434 972 4092 \nQ 1497 4750 2381 4750 \nQ 2619 4750 2861 4703 \nQ 3103 4656 3366 4563 \nz\n\" transform=\"scale(0.015625)\"/>\n       </defs>\n       <use xlink:href=\"#DejaVuSans-30\"/>\n       <use xlink:href=\"#DejaVuSans-2e\" x=\"63.623047\"/>\n       <use xlink:href=\"#DejaVuSans-36\" x=\"95.410156\"/>\n      </g>\n     </g>\n    </g>\n    <g id=\"xtick_5\">\n     <g id=\"line2d_5\">\n      <g>\n       <use xlink:href=\"#mce68ded8b4\" x=\"315.799125\" y=\"288.430125\" style=\"stroke: #000000; stroke-width: 0.8\"/>\n      </g>\n     </g>\n     <g id=\"text_5\">\n      <!-- 0.8 -->\n      <g transform=\"translate(307.847562 303.028562) scale(0.1 -0.1)\">\n       <defs>\n        <path id=\"DejaVuSans-38\" d=\"M 2034 2216 \nQ 1584 2216 1326 1975 \nQ 1069 1734 1069 1313 \nQ 1069 891 1326 650 \nQ 1584 409 2034 409 \nQ 2484 409 2743 651 \nQ 3003 894 3003 1313 \nQ 3003 1734 2745 1975 \nQ 2488 2216 2034 2216 \nz\nM 1403 2484 \nQ 997 2584 770 2862 \nQ 544 3141 544 3541 \nQ 544 4100 942 4425 \nQ 1341 4750 2034 4750 \nQ 2731 4750 3128 4425 \nQ 3525 4100 3525 3541 \nQ 3525 3141 3298 2862 \nQ 3072 2584 2669 2484 \nQ 3125 2378 3379 2068 \nQ 3634 1759 3634 1313 \nQ 3634 634 3220 271 \nQ 2806 -91 2034 -91 \nQ 1263 -91 848 271 \nQ 434 634 434 1313 \nQ 434 1759 690 2068 \nQ 947 2378 1403 2484 \nz\nM 1172 3481 \nQ 1172 3119 1398 2916 \nQ 1625 2713 2034 2713 \nQ 2441 2713 2670 2916 \nQ 2900 3119 2900 3481 \nQ 2900 3844 2670 4047 \nQ 2441 4250 2034 4250 \nQ 1625 4250 1398 4047 \nQ 1172 3844 1172 3481 \nz\n\" transform=\"scale(0.015625)\"/>\n       </defs>\n       <use xlink:href=\"#DejaVuSans-30\"/>\n       <use xlink:href=\"#DejaVuSans-2e\" x=\"63.623047\"/>\n       <use xlink:href=\"#DejaVuSans-38\" x=\"95.410156\"/>\n      </g>\n     </g>\n    </g>\n    <g id=\"xtick_6\">\n     <g id=\"line2d_6\">\n      <g>\n       <use xlink:href=\"#mce68ded8b4\" x=\"387.223125\" y=\"288.430125\" style=\"stroke: #000000; stroke-width: 0.8\"/>\n      </g>\n     </g>\n     <g id=\"text_6\">\n      <!-- 1.0 -->\n      <g transform=\"translate(379.271562 303.028562) scale(0.1 -0.1)\">\n       <defs>\n        <path id=\"DejaVuSans-31\" d=\"M 794 531 \nL 1825 531 \nL 1825 4091 \nL 703 3866 \nL 703 4441 \nL 1819 4666 \nL 2450 4666 \nL 2450 531 \nL 3481 531 \nL 3481 0 \nL 794 0 \nL 794 531 \nz\n\" transform=\"scale(0.015625)\"/>\n       </defs>\n       <use xlink:href=\"#DejaVuSans-31\"/>\n       <use xlink:href=\"#DejaVuSans-2e\" x=\"63.623047\"/>\n       <use xlink:href=\"#DejaVuSans-30\" x=\"95.410156\"/>\n      </g>\n     </g>\n    </g>\n   </g>\n   <g id=\"matplotlib.axis_2\">\n    <g id=\"ytick_1\">\n     <g id=\"line2d_7\">\n      <defs>\n       <path id=\"m6b09567f87\" d=\"M 0 0 \nL -3.5 0 \n\" style=\"stroke: #000000; stroke-width: 0.8\"/>\n      </defs>\n      <g>\n       <use xlink:href=\"#m6b09567f87\" x=\"30.103125\" y=\"288.430125\" style=\"stroke: #000000; stroke-width: 0.8\"/>\n      </g>\n     </g>\n     <g id=\"text_7\">\n      <!-- 0.0 -->\n      <g transform=\"translate(7.2 292.229344) scale(0.1 -0.1)\">\n       <use xlink:href=\"#DejaVuSans-30\"/>\n       <use xlink:href=\"#DejaVuSans-2e\" x=\"63.623047\"/>\n       <use xlink:href=\"#DejaVuSans-30\" x=\"95.410156\"/>\n      </g>\n     </g>\n    </g>\n    <g id=\"ytick_2\">\n     <g id=\"line2d_8\">\n      <g>\n       <use xlink:href=\"#m6b09567f87\" x=\"30.103125\" y=\"235.207725\" style=\"stroke: #000000; stroke-width: 0.8\"/>\n      </g>\n     </g>\n     <g id=\"text_8\">\n      <!-- 0.2 -->\n      <g transform=\"translate(7.2 239.006944) scale(0.1 -0.1)\">\n       <use xlink:href=\"#DejaVuSans-30\"/>\n       <use xlink:href=\"#DejaVuSans-2e\" x=\"63.623047\"/>\n       <use xlink:href=\"#DejaVuSans-32\" x=\"95.410156\"/>\n      </g>\n     </g>\n    </g>\n    <g id=\"ytick_3\">\n     <g id=\"line2d_9\">\n      <g>\n       <use xlink:href=\"#m6b09567f87\" x=\"30.103125\" y=\"181.985325\" style=\"stroke: #000000; stroke-width: 0.8\"/>\n      </g>\n     </g>\n     <g id=\"text_9\">\n      <!-- 0.4 -->\n      <g transform=\"translate(7.2 185.784544) scale(0.1 -0.1)\">\n       <use xlink:href=\"#DejaVuSans-30\"/>\n       <use xlink:href=\"#DejaVuSans-2e\" x=\"63.623047\"/>\n       <use xlink:href=\"#DejaVuSans-34\" x=\"95.410156\"/>\n      </g>\n     </g>\n    </g>\n    <g id=\"ytick_4\">\n     <g id=\"line2d_10\">\n      <g>\n       <use xlink:href=\"#m6b09567f87\" x=\"30.103125\" y=\"128.762925\" style=\"stroke: #000000; stroke-width: 0.8\"/>\n      </g>\n     </g>\n     <g id=\"text_10\">\n      <!-- 0.6 -->\n      <g transform=\"translate(7.2 132.562144) scale(0.1 -0.1)\">\n       <use xlink:href=\"#DejaVuSans-30\"/>\n       <use xlink:href=\"#DejaVuSans-2e\" x=\"63.623047\"/>\n       <use xlink:href=\"#DejaVuSans-36\" x=\"95.410156\"/>\n      </g>\n     </g>\n    </g>\n    <g id=\"ytick_5\">\n     <g id=\"line2d_11\">\n      <g>\n       <use xlink:href=\"#m6b09567f87\" x=\"30.103125\" y=\"75.540525\" style=\"stroke: #000000; stroke-width: 0.8\"/>\n      </g>\n     </g>\n     <g id=\"text_11\">\n      <!-- 0.8 -->\n      <g transform=\"translate(7.2 79.339744) scale(0.1 -0.1)\">\n       <use xlink:href=\"#DejaVuSans-30\"/>\n       <use xlink:href=\"#DejaVuSans-2e\" x=\"63.623047\"/>\n       <use xlink:href=\"#DejaVuSans-38\" x=\"95.410156\"/>\n      </g>\n     </g>\n    </g>\n    <g id=\"ytick_6\">\n     <g id=\"line2d_12\">\n      <g>\n       <use xlink:href=\"#m6b09567f87\" x=\"30.103125\" y=\"22.318125\" style=\"stroke: #000000; stroke-width: 0.8\"/>\n      </g>\n     </g>\n     <g id=\"text_12\">\n      <!-- 1.0 -->\n      <g transform=\"translate(7.2 26.117344) scale(0.1 -0.1)\">\n       <use xlink:href=\"#DejaVuSans-31\"/>\n       <use xlink:href=\"#DejaVuSans-2e\" x=\"63.623047\"/>\n       <use xlink:href=\"#DejaVuSans-30\" x=\"95.410156\"/>\n      </g>\n     </g>\n    </g>\n   </g>\n   <g id=\"patch_3\">\n    <path d=\"M 30.103125 288.430125 \nL 30.103125 22.318125 \n\" style=\"fill: none; stroke: #000000; stroke-width: 0.8; stroke-linejoin: miter; stroke-linecap: square\"/>\n   </g>\n   <g id=\"patch_4\">\n    <path d=\"M 387.223125 288.430125 \nL 387.223125 22.318125 \n\" style=\"fill: none; stroke: #000000; stroke-width: 0.8; stroke-linejoin: miter; stroke-linecap: square\"/>\n   </g>\n   <g id=\"patch_5\">\n    <path d=\"M 30.103125 288.430125 \nL 387.223125 288.430125 \n\" style=\"fill: none; stroke: #000000; stroke-width: 0.8; stroke-linejoin: miter; stroke-linecap: square\"/>\n   </g>\n   <g id=\"patch_6\">\n    <path d=\"M 30.103125 22.318125 \nL 387.223125 22.318125 \n\" style=\"fill: none; stroke: #000000; stroke-width: 0.8; stroke-linejoin: miter; stroke-linecap: square\"/>\n   </g>\n   <g id=\"text_13\">\n    <!-- Trajectory used in regression problem -Sshape -->\n    <g transform=\"translate(69.456563 16.318125) scale(0.12 -0.12)\">\n     <defs>\n      <path id=\"DejaVuSans-54\" d=\"M -19 4666 \nL 3928 4666 \nL 3928 4134 \nL 2272 4134 \nL 2272 0 \nL 1638 0 \nL 1638 4134 \nL -19 4134 \nL -19 4666 \nz\n\" transform=\"scale(0.015625)\"/>\n      <path id=\"DejaVuSans-72\" d=\"M 2631 2963 \nQ 2534 3019 2420 3045 \nQ 2306 3072 2169 3072 \nQ 1681 3072 1420 2755 \nQ 1159 2438 1159 1844 \nL 1159 0 \nL 581 0 \nL 581 3500 \nL 1159 3500 \nL 1159 2956 \nQ 1341 3275 1631 3429 \nQ 1922 3584 2338 3584 \nQ 2397 3584 2469 3576 \nQ 2541 3569 2628 3553 \nL 2631 2963 \nz\n\" transform=\"scale(0.015625)\"/>\n      <path id=\"DejaVuSans-61\" d=\"M 2194 1759 \nQ 1497 1759 1228 1600 \nQ 959 1441 959 1056 \nQ 959 750 1161 570 \nQ 1363 391 1709 391 \nQ 2188 391 2477 730 \nQ 2766 1069 2766 1631 \nL 2766 1759 \nL 2194 1759 \nz\nM 3341 1997 \nL 3341 0 \nL 2766 0 \nL 2766 531 \nQ 2569 213 2275 61 \nQ 1981 -91 1556 -91 \nQ 1019 -91 701 211 \nQ 384 513 384 1019 \nQ 384 1609 779 1909 \nQ 1175 2209 1959 2209 \nL 2766 2209 \nL 2766 2266 \nQ 2766 2663 2505 2880 \nQ 2244 3097 1772 3097 \nQ 1472 3097 1187 3025 \nQ 903 2953 641 2809 \nL 641 3341 \nQ 956 3463 1253 3523 \nQ 1550 3584 1831 3584 \nQ 2591 3584 2966 3190 \nQ 3341 2797 3341 1997 \nz\n\" transform=\"scale(0.015625)\"/>\n      <path id=\"DejaVuSans-6a\" d=\"M 603 3500 \nL 1178 3500 \nL 1178 -63 \nQ 1178 -731 923 -1031 \nQ 669 -1331 103 -1331 \nL -116 -1331 \nL -116 -844 \nL 38 -844 \nQ 366 -844 484 -692 \nQ 603 -541 603 -63 \nL 603 3500 \nz\nM 603 4863 \nL 1178 4863 \nL 1178 4134 \nL 603 4134 \nL 603 4863 \nz\n\" transform=\"scale(0.015625)\"/>\n      <path id=\"DejaVuSans-65\" d=\"M 3597 1894 \nL 3597 1613 \nL 953 1613 \nQ 991 1019 1311 708 \nQ 1631 397 2203 397 \nQ 2534 397 2845 478 \nQ 3156 559 3463 722 \nL 3463 178 \nQ 3153 47 2828 -22 \nQ 2503 -91 2169 -91 \nQ 1331 -91 842 396 \nQ 353 884 353 1716 \nQ 353 2575 817 3079 \nQ 1281 3584 2069 3584 \nQ 2775 3584 3186 3129 \nQ 3597 2675 3597 1894 \nz\nM 3022 2063 \nQ 3016 2534 2758 2815 \nQ 2500 3097 2075 3097 \nQ 1594 3097 1305 2825 \nQ 1016 2553 972 2059 \nL 3022 2063 \nz\n\" transform=\"scale(0.015625)\"/>\n      <path id=\"DejaVuSans-63\" d=\"M 3122 3366 \nL 3122 2828 \nQ 2878 2963 2633 3030 \nQ 2388 3097 2138 3097 \nQ 1578 3097 1268 2742 \nQ 959 2388 959 1747 \nQ 959 1106 1268 751 \nQ 1578 397 2138 397 \nQ 2388 397 2633 464 \nQ 2878 531 3122 666 \nL 3122 134 \nQ 2881 22 2623 -34 \nQ 2366 -91 2075 -91 \nQ 1284 -91 818 406 \nQ 353 903 353 1747 \nQ 353 2603 823 3093 \nQ 1294 3584 2113 3584 \nQ 2378 3584 2631 3529 \nQ 2884 3475 3122 3366 \nz\n\" transform=\"scale(0.015625)\"/>\n      <path id=\"DejaVuSans-74\" d=\"M 1172 4494 \nL 1172 3500 \nL 2356 3500 \nL 2356 3053 \nL 1172 3053 \nL 1172 1153 \nQ 1172 725 1289 603 \nQ 1406 481 1766 481 \nL 2356 481 \nL 2356 0 \nL 1766 0 \nQ 1100 0 847 248 \nQ 594 497 594 1153 \nL 594 3053 \nL 172 3053 \nL 172 3500 \nL 594 3500 \nL 594 4494 \nL 1172 4494 \nz\n\" transform=\"scale(0.015625)\"/>\n      <path id=\"DejaVuSans-6f\" d=\"M 1959 3097 \nQ 1497 3097 1228 2736 \nQ 959 2375 959 1747 \nQ 959 1119 1226 758 \nQ 1494 397 1959 397 \nQ 2419 397 2687 759 \nQ 2956 1122 2956 1747 \nQ 2956 2369 2687 2733 \nQ 2419 3097 1959 3097 \nz\nM 1959 3584 \nQ 2709 3584 3137 3096 \nQ 3566 2609 3566 1747 \nQ 3566 888 3137 398 \nQ 2709 -91 1959 -91 \nQ 1206 -91 779 398 \nQ 353 888 353 1747 \nQ 353 2609 779 3096 \nQ 1206 3584 1959 3584 \nz\n\" transform=\"scale(0.015625)\"/>\n      <path id=\"DejaVuSans-79\" d=\"M 2059 -325 \nQ 1816 -950 1584 -1140 \nQ 1353 -1331 966 -1331 \nL 506 -1331 \nL 506 -850 \nL 844 -850 \nQ 1081 -850 1212 -737 \nQ 1344 -625 1503 -206 \nL 1606 56 \nL 191 3500 \nL 800 3500 \nL 1894 763 \nL 2988 3500 \nL 3597 3500 \nL 2059 -325 \nz\n\" transform=\"scale(0.015625)\"/>\n      <path id=\"DejaVuSans-20\" transform=\"scale(0.015625)\"/>\n      <path id=\"DejaVuSans-75\" d=\"M 544 1381 \nL 544 3500 \nL 1119 3500 \nL 1119 1403 \nQ 1119 906 1312 657 \nQ 1506 409 1894 409 \nQ 2359 409 2629 706 \nQ 2900 1003 2900 1516 \nL 2900 3500 \nL 3475 3500 \nL 3475 0 \nL 2900 0 \nL 2900 538 \nQ 2691 219 2414 64 \nQ 2138 -91 1772 -91 \nQ 1169 -91 856 284 \nQ 544 659 544 1381 \nz\nM 1991 3584 \nL 1991 3584 \nz\n\" transform=\"scale(0.015625)\"/>\n      <path id=\"DejaVuSans-73\" d=\"M 2834 3397 \nL 2834 2853 \nQ 2591 2978 2328 3040 \nQ 2066 3103 1784 3103 \nQ 1356 3103 1142 2972 \nQ 928 2841 928 2578 \nQ 928 2378 1081 2264 \nQ 1234 2150 1697 2047 \nL 1894 2003 \nQ 2506 1872 2764 1633 \nQ 3022 1394 3022 966 \nQ 3022 478 2636 193 \nQ 2250 -91 1575 -91 \nQ 1294 -91 989 -36 \nQ 684 19 347 128 \nL 347 722 \nQ 666 556 975 473 \nQ 1284 391 1588 391 \nQ 1994 391 2212 530 \nQ 2431 669 2431 922 \nQ 2431 1156 2273 1281 \nQ 2116 1406 1581 1522 \nL 1381 1569 \nQ 847 1681 609 1914 \nQ 372 2147 372 2553 \nQ 372 3047 722 3315 \nQ 1072 3584 1716 3584 \nQ 2034 3584 2315 3537 \nQ 2597 3491 2834 3397 \nz\n\" transform=\"scale(0.015625)\"/>\n      <path id=\"DejaVuSans-64\" d=\"M 2906 2969 \nL 2906 4863 \nL 3481 4863 \nL 3481 0 \nL 2906 0 \nL 2906 525 \nQ 2725 213 2448 61 \nQ 2172 -91 1784 -91 \nQ 1150 -91 751 415 \nQ 353 922 353 1747 \nQ 353 2572 751 3078 \nQ 1150 3584 1784 3584 \nQ 2172 3584 2448 3432 \nQ 2725 3281 2906 2969 \nz\nM 947 1747 \nQ 947 1113 1208 752 \nQ 1469 391 1925 391 \nQ 2381 391 2643 752 \nQ 2906 1113 2906 1747 \nQ 2906 2381 2643 2742 \nQ 2381 3103 1925 3103 \nQ 1469 3103 1208 2742 \nQ 947 2381 947 1747 \nz\n\" transform=\"scale(0.015625)\"/>\n      <path id=\"DejaVuSans-69\" d=\"M 603 3500 \nL 1178 3500 \nL 1178 0 \nL 603 0 \nL 603 3500 \nz\nM 603 4863 \nL 1178 4863 \nL 1178 4134 \nL 603 4134 \nL 603 4863 \nz\n\" transform=\"scale(0.015625)\"/>\n      <path id=\"DejaVuSans-6e\" d=\"M 3513 2113 \nL 3513 0 \nL 2938 0 \nL 2938 2094 \nQ 2938 2591 2744 2837 \nQ 2550 3084 2163 3084 \nQ 1697 3084 1428 2787 \nQ 1159 2491 1159 1978 \nL 1159 0 \nL 581 0 \nL 581 3500 \nL 1159 3500 \nL 1159 2956 \nQ 1366 3272 1645 3428 \nQ 1925 3584 2291 3584 \nQ 2894 3584 3203 3211 \nQ 3513 2838 3513 2113 \nz\n\" transform=\"scale(0.015625)\"/>\n      <path id=\"DejaVuSans-67\" d=\"M 2906 1791 \nQ 2906 2416 2648 2759 \nQ 2391 3103 1925 3103 \nQ 1463 3103 1205 2759 \nQ 947 2416 947 1791 \nQ 947 1169 1205 825 \nQ 1463 481 1925 481 \nQ 2391 481 2648 825 \nQ 2906 1169 2906 1791 \nz\nM 3481 434 \nQ 3481 -459 3084 -895 \nQ 2688 -1331 1869 -1331 \nQ 1566 -1331 1297 -1286 \nQ 1028 -1241 775 -1147 \nL 775 -588 \nQ 1028 -725 1275 -790 \nQ 1522 -856 1778 -856 \nQ 2344 -856 2625 -561 \nQ 2906 -266 2906 331 \nL 2906 616 \nQ 2728 306 2450 153 \nQ 2172 0 1784 0 \nQ 1141 0 747 490 \nQ 353 981 353 1791 \nQ 353 2603 747 3093 \nQ 1141 3584 1784 3584 \nQ 2172 3584 2450 3431 \nQ 2728 3278 2906 2969 \nL 2906 3500 \nL 3481 3500 \nL 3481 434 \nz\n\" transform=\"scale(0.015625)\"/>\n      <path id=\"DejaVuSans-70\" d=\"M 1159 525 \nL 1159 -1331 \nL 581 -1331 \nL 581 3500 \nL 1159 3500 \nL 1159 2969 \nQ 1341 3281 1617 3432 \nQ 1894 3584 2278 3584 \nQ 2916 3584 3314 3078 \nQ 3713 2572 3713 1747 \nQ 3713 922 3314 415 \nQ 2916 -91 2278 -91 \nQ 1894 -91 1617 61 \nQ 1341 213 1159 525 \nz\nM 3116 1747 \nQ 3116 2381 2855 2742 \nQ 2594 3103 2138 3103 \nQ 1681 3103 1420 2742 \nQ 1159 2381 1159 1747 \nQ 1159 1113 1420 752 \nQ 1681 391 2138 391 \nQ 2594 391 2855 752 \nQ 3116 1113 3116 1747 \nz\n\" transform=\"scale(0.015625)\"/>\n      <path id=\"DejaVuSans-62\" d=\"M 3116 1747 \nQ 3116 2381 2855 2742 \nQ 2594 3103 2138 3103 \nQ 1681 3103 1420 2742 \nQ 1159 2381 1159 1747 \nQ 1159 1113 1420 752 \nQ 1681 391 2138 391 \nQ 2594 391 2855 752 \nQ 3116 1113 3116 1747 \nz\nM 1159 2969 \nQ 1341 3281 1617 3432 \nQ 1894 3584 2278 3584 \nQ 2916 3584 3314 3078 \nQ 3713 2572 3713 1747 \nQ 3713 922 3314 415 \nQ 2916 -91 2278 -91 \nQ 1894 -91 1617 61 \nQ 1341 213 1159 525 \nL 1159 0 \nL 581 0 \nL 581 4863 \nL 1159 4863 \nL 1159 2969 \nz\n\" transform=\"scale(0.015625)\"/>\n      <path id=\"DejaVuSans-6c\" d=\"M 603 4863 \nL 1178 4863 \nL 1178 0 \nL 603 0 \nL 603 4863 \nz\n\" transform=\"scale(0.015625)\"/>\n      <path id=\"DejaVuSans-6d\" d=\"M 3328 2828 \nQ 3544 3216 3844 3400 \nQ 4144 3584 4550 3584 \nQ 5097 3584 5394 3201 \nQ 5691 2819 5691 2113 \nL 5691 0 \nL 5113 0 \nL 5113 2094 \nQ 5113 2597 4934 2840 \nQ 4756 3084 4391 3084 \nQ 3944 3084 3684 2787 \nQ 3425 2491 3425 1978 \nL 3425 0 \nL 2847 0 \nL 2847 2094 \nQ 2847 2600 2669 2842 \nQ 2491 3084 2119 3084 \nQ 1678 3084 1418 2786 \nQ 1159 2488 1159 1978 \nL 1159 0 \nL 581 0 \nL 581 3500 \nL 1159 3500 \nL 1159 2956 \nQ 1356 3278 1631 3431 \nQ 1906 3584 2284 3584 \nQ 2666 3584 2933 3390 \nQ 3200 3197 3328 2828 \nz\n\" transform=\"scale(0.015625)\"/>\n      <path id=\"DejaVuSans-2d\" d=\"M 313 2009 \nL 1997 2009 \nL 1997 1497 \nL 313 1497 \nL 313 2009 \nz\n\" transform=\"scale(0.015625)\"/>\n      <path id=\"DejaVuSans-53\" d=\"M 3425 4513 \nL 3425 3897 \nQ 3066 4069 2747 4153 \nQ 2428 4238 2131 4238 \nQ 1616 4238 1336 4038 \nQ 1056 3838 1056 3469 \nQ 1056 3159 1242 3001 \nQ 1428 2844 1947 2747 \nL 2328 2669 \nQ 3034 2534 3370 2195 \nQ 3706 1856 3706 1288 \nQ 3706 609 3251 259 \nQ 2797 -91 1919 -91 \nQ 1588 -91 1214 -16 \nQ 841 59 441 206 \nL 441 856 \nQ 825 641 1194 531 \nQ 1563 422 1919 422 \nQ 2459 422 2753 634 \nQ 3047 847 3047 1241 \nQ 3047 1584 2836 1778 \nQ 2625 1972 2144 2069 \nL 1759 2144 \nQ 1053 2284 737 2584 \nQ 422 2884 422 3419 \nQ 422 4038 858 4394 \nQ 1294 4750 2059 4750 \nQ 2388 4750 2728 4690 \nQ 3069 4631 3425 4513 \nz\n\" transform=\"scale(0.015625)\"/>\n      <path id=\"DejaVuSans-68\" d=\"M 3513 2113 \nL 3513 0 \nL 2938 0 \nL 2938 2094 \nQ 2938 2591 2744 2837 \nQ 2550 3084 2163 3084 \nQ 1697 3084 1428 2787 \nQ 1159 2491 1159 1978 \nL 1159 0 \nL 581 0 \nL 581 4863 \nL 1159 4863 \nL 1159 2956 \nQ 1366 3272 1645 3428 \nQ 1925 3584 2291 3584 \nQ 2894 3584 3203 3211 \nQ 3513 2838 3513 2113 \nz\n\" transform=\"scale(0.015625)\"/>\n     </defs>\n     <use xlink:href=\"#DejaVuSans-54\"/>\n     <use xlink:href=\"#DejaVuSans-72\" x=\"46.333984\"/>\n     <use xlink:href=\"#DejaVuSans-61\" x=\"87.447266\"/>\n     <use xlink:href=\"#DejaVuSans-6a\" x=\"148.726562\"/>\n     <use xlink:href=\"#DejaVuSans-65\" x=\"176.509766\"/>\n     <use xlink:href=\"#DejaVuSans-63\" x=\"238.033203\"/>\n     <use xlink:href=\"#DejaVuSans-74\" x=\"293.013672\"/>\n     <use xlink:href=\"#DejaVuSans-6f\" x=\"332.222656\"/>\n     <use xlink:href=\"#DejaVuSans-72\" x=\"393.404297\"/>\n     <use xlink:href=\"#DejaVuSans-79\" x=\"434.517578\"/>\n     <use xlink:href=\"#DejaVuSans-20\" x=\"493.697266\"/>\n     <use xlink:href=\"#DejaVuSans-75\" x=\"525.484375\"/>\n     <use xlink:href=\"#DejaVuSans-73\" x=\"588.863281\"/>\n     <use xlink:href=\"#DejaVuSans-65\" x=\"640.962891\"/>\n     <use xlink:href=\"#DejaVuSans-64\" x=\"702.486328\"/>\n     <use xlink:href=\"#DejaVuSans-20\" x=\"765.962891\"/>\n     <use xlink:href=\"#DejaVuSans-69\" x=\"797.75\"/>\n     <use xlink:href=\"#DejaVuSans-6e\" x=\"825.533203\"/>\n     <use xlink:href=\"#DejaVuSans-20\" x=\"888.912109\"/>\n     <use xlink:href=\"#DejaVuSans-72\" x=\"920.699219\"/>\n     <use xlink:href=\"#DejaVuSans-65\" x=\"959.5625\"/>\n     <use xlink:href=\"#DejaVuSans-67\" x=\"1021.085938\"/>\n     <use xlink:href=\"#DejaVuSans-72\" x=\"1084.5625\"/>\n     <use xlink:href=\"#DejaVuSans-65\" x=\"1123.425781\"/>\n     <use xlink:href=\"#DejaVuSans-73\" x=\"1184.949219\"/>\n     <use xlink:href=\"#DejaVuSans-73\" x=\"1237.048828\"/>\n     <use xlink:href=\"#DejaVuSans-69\" x=\"1289.148438\"/>\n     <use xlink:href=\"#DejaVuSans-6f\" x=\"1316.931641\"/>\n     <use xlink:href=\"#DejaVuSans-6e\" x=\"1378.113281\"/>\n     <use xlink:href=\"#DejaVuSans-20\" x=\"1441.492188\"/>\n     <use xlink:href=\"#DejaVuSans-70\" x=\"1473.279297\"/>\n     <use xlink:href=\"#DejaVuSans-72\" x=\"1536.755859\"/>\n     <use xlink:href=\"#DejaVuSans-6f\" x=\"1575.619141\"/>\n     <use xlink:href=\"#DejaVuSans-62\" x=\"1636.800781\"/>\n     <use xlink:href=\"#DejaVuSans-6c\" x=\"1700.277344\"/>\n     <use xlink:href=\"#DejaVuSans-65\" x=\"1728.060547\"/>\n     <use xlink:href=\"#DejaVuSans-6d\" x=\"1789.583984\"/>\n     <use xlink:href=\"#DejaVuSans-20\" x=\"1886.996094\"/>\n     <use xlink:href=\"#DejaVuSans-2d\" x=\"1918.783203\"/>\n     <use xlink:href=\"#DejaVuSans-53\" x=\"1954.867188\"/>\n     <use xlink:href=\"#DejaVuSans-73\" x=\"2018.34375\"/>\n     <use xlink:href=\"#DejaVuSans-68\" x=\"2070.443359\"/>\n     <use xlink:href=\"#DejaVuSans-61\" x=\"2133.822266\"/>\n     <use xlink:href=\"#DejaVuSans-70\" x=\"2195.101562\"/>\n     <use xlink:href=\"#DejaVuSans-65\" x=\"2258.578125\"/>\n    </g>\n   </g>\n  </g>\n </g>\n</svg>\n",
      "text/plain": [
       "<Figure size 640x480 with 1 Axes>"
      ]
     },
     "metadata": {},
     "output_type": "display_data"
    }
   ],
   "source": [
    "fig_dataset = plt.figure()\n",
    "plt.style.use('default')\n",
    "plt.title('Trajectory used in regression problem -' + name_of_dataset)\n",
    "plt.plot(x_train[0,:], x_train[1,:], y_train[0,:], y_train[1,:])\n",
    "plt.xlabel('x1')\n",
    "plt.ylabel('x2')\n",
    "plt.legend(['Trajectory', 'Velocities'])"
   ]
  },
  {
   "cell_type": "markdown",
   "metadata": {},
   "source": [
    "### From notebook: vector_valued_with_rff"
   ]
  },
  {
   "cell_type": "code",
   "execution_count": null,
   "metadata": {},
   "outputs": [],
   "source": [
    "def psi(x, w, b):\n",
    "    return np.sqrt(2) * np.cos(w.T@x + b)\n",
    "\n",
    "def psi_vector(x, w, b, m):\n",
    "    psi_vector = np.zeros(m)\n",
    "    for i in range(m):\n",
    "        psi_vector[i] = psi(x, w[:, i], b[:,i])\n",
    "    return np.array(psi_vector)\n",
    "\n",
    "def capital_psi(x, w, b, m, dim):\n",
    "    psi = psi_vector(x,w,b,m)\n",
    "    return np.kron(psi, np.eye(dim))\n",
    "\n",
    "\n",
    "def phi(x, w, b, n, m, dim):\n",
    "    phi = np.zeros((dim*n, dim*m))\n",
    "    for i in range(0, n):\n",
    "        psi = capital_psi(x[:,i], w, b, m, dim)\n",
    "        phi[dim*i] = psi[0]\n",
    "        phi[dim*i+1] = psi[1]\n",
    "    return phi\n",
    "\n",
    "def alpha_approx(x_vector, y, dim, m, lam, n):\n",
    "    start_time = time()\n",
    "    phi_ = phi(x_vector, w, b, n, m, dim)\n",
    "    alpha_inv_part = np.linalg.inv(phi_.T @ phi_ + lam*np.eye(dim*m))\n",
    "    y_reshaped = np.reshape(y, (-1,1))\n",
    "    alpha = alpha_inv_part @ (phi_.T @ y_reshaped)\n",
    "    end_time = time()\n",
    "    interval = start_time-end_time\n",
    "    return alpha, \"Runtime:\", interval"
   ]
  },
  {
   "cell_type": "markdown",
   "metadata": {},
   "source": [
    "### Random Fourier Features & Regression"
   ]
  },
  {
   "cell_type": "code",
   "execution_count": null,
   "metadata": {},
   "outputs": [],
   "source": [
    "sigma = 5\n",
    "num_of_samples = 50\n",
    "\n",
    "w = randn(size_of_state, num_of_samples)/sigma\n",
    "b = rand(1,num_of_samples)*2*np.pi\n",
    "\n",
    "# Random Fourier features approx\n",
    "lambda_ = 0.001 # regularization parameter lamda\n",
    "\n",
    "alpha_array_rff = alpha_approx(x_train, y_train, dim_of_function, num_of_samples, lambda_, num_of_points)\n",
    "\n",
    "# Create callable function for learnt dynamics (straight from working note)\n",
    "def learnt_model(t, x):\n",
    "    func = capital_psi(x_train[:, i], w, b, num_of_samples, dim_of_function) @ alpha_array_rff\n",
    "    return func.T"
   ]
  },
  {
   "cell_type": "markdown",
   "metadata": {},
   "source": [
    "#### Solve diff. equation using learnt model w. solver_ivp"
   ]
  },
  {
   "cell_type": "code",
   "execution_count": 57,
   "metadata": {},
   "outputs": [
    {
     "ename": "NameError",
     "evalue": "name 'learnt_model' is not defined",
     "output_type": "error",
     "traceback": [
      "\u001b[1;31m---------------------------------------------------------------------------\u001b[0m",
      "\u001b[1;31mNameError\u001b[0m                                 Traceback (most recent call last)",
      "Cell \u001b[1;32mIn [57], line 1\u001b[0m\n\u001b[1;32m----> 1\u001b[0m [time_series, data_series] \u001b[39m=\u001b[39m solve_ivp(learnt_model, time_series, init_condition)\u001b[39m.\u001b[39my\n",
      "\u001b[1;31mNameError\u001b[0m: name 'learnt_model' is not defined"
     ]
    }
   ],
   "source": [
    "[time_series, data_series] = solve_ivp(learnt_model, time_series, init_condition).y"
   ]
  },
  {
   "cell_type": "markdown",
   "metadata": {},
   "source": [
    "### Plot simulated trajectory and streamslices for learnt model"
   ]
  },
  {
   "cell_type": "code",
   "execution_count": null,
   "metadata": {},
   "outputs": [],
   "source": [
    "# Get lower and upper bound for plotting from dataset figure\n",
    "\n",
    "lower_bound_x1 = fig_dataset.axes.x_limit[0]\n",
    "upper_bound_x1 = fig_dataset.axes.x_limit[1]\n",
    "lower_bound_x2 = fig_dataset.axes.y_limit[0]\n",
    "upper_bound_x2 = fig_dataset.axes.y_limit[1]\n",
    "\n",
    "num_of_points = 17\n",
    "\n",
    "x1 = np.linspace(lower_bound_x1, upper_bound_x1, num_of_points)\n",
    "x2 = np.linspace(lower_bound_x2, upper_bound_x2, num_of_points)\n",
    "\n",
    "# Base point or starting point for each vector of the vector field\n",
    "[X1, X2] = np.meshgrid(x1, x2)\n",
    "\n",
    "# Calculate df/dt for each point\n",
    "t = 0\n",
    "\n",
    "u_learnt = np.zeros(X1.shape)\n",
    "v_learnt = np.zeros(X1.shape)\n",
    "\n",
    "# for loop to get the velocity at each point witht the learnt model\n",
    "for (i,j), value in np.ndenumerate(X1):\n",
    "\n",
    "    # get velocities at each point with the learnt model\n",
    "    Y_prime = learnt_model(t, np.array([value, X2[i, j]]))\n",
    "    u_learnt[i,j] = Y_prime[:,0]\n",
    "    v_learnt[i,j] = Y_prime[:,1]"
   ]
  },
  {
   "cell_type": "markdown",
   "metadata": {},
   "source": [
    "#### Combined solution and vector field for learnt model"
   ]
  },
  {
   "cell_type": "code",
   "execution_count": null,
   "metadata": {},
   "outputs": [
    {
     "ename": "NameError",
     "evalue": "name 'data_series' is not defined",
     "output_type": "error",
     "traceback": [
      "\u001b[1;31m---------------------------------------------------------------------------\u001b[0m",
      "\u001b[1;31mNameError\u001b[0m                                 Traceback (most recent call last)",
      "Cell \u001b[1;32mIn [24], line 4\u001b[0m\n\u001b[0;32m      2\u001b[0m plt\u001b[39m.\u001b[39mstyle\u001b[39m.\u001b[39muse(\u001b[39m'\u001b[39m\u001b[39mdefault\u001b[39m\u001b[39m'\u001b[39m)\n\u001b[0;32m      3\u001b[0m plt\u001b[39m.\u001b[39mtitle(\u001b[39m'\u001b[39m\u001b[39mCombined plot - Learnt model\u001b[39m\u001b[39m'\u001b[39m)\n\u001b[1;32m----> 4\u001b[0m plt\u001b[39m.\u001b[39mplot(data_series[:, \u001b[39m0\u001b[39m], data_series[:, \u001b[39m1\u001b[39m], \u001b[39m'\u001b[39m\u001b[39m.\u001b[39m\u001b[39m'\u001b[39m, linewidth\u001b[39m=\u001b[39m\u001b[39m1\u001b[39m)\n\u001b[0;32m      5\u001b[0m plt\u001b[39m.\u001b[39mstreamplot(X1, X2, u_learnt, v_learnt)\n\u001b[0;32m      6\u001b[0m plt\u001b[39m.\u001b[39mxlabel(\u001b[39m'\u001b[39m\u001b[39mx1\u001b[39m\u001b[39m'\u001b[39m)\n",
      "\u001b[1;31mNameError\u001b[0m: name 'data_series' is not defined"
     ]
    },
    {
     "data": {
      "image/png": "[encoded data removed]",
      "image/svg+xml": "<?xml version=\"1.0\" encoding=\"utf-8\" standalone=\"no\"?>\n<!DOCTYPE svg PUBLIC \"-//W3C//DTD SVG 1.1//EN\"\n  \"http://www.w3.org/Graphics/SVG/1.1/DTD/svg11.dtd\">\n<svg xmlns:xlink=\"http://www.w3.org/1999/xlink\" width=\"402.374687pt\" height=\"312.30825pt\" viewBox=\"0 0 402.374687 312.30825\" xmlns=\"http://www.w3.org/2000/svg\" version=\"1.1\">\n <metadata>\n  <rdf:RDF xmlns:dc=\"http://purl.org/dc/elements/1.1/\" xmlns:cc=\"http://creativecommons.org/ns#\" xmlns:rdf=\"http://www.w3.org/1999/02/22-rdf-syntax-ns#\">\n   <cc:Work>\n    <dc:type rdf:resource=\"http://purl.org/dc/dcmitype/StillImage\"/>\n    <dc:date>2022-11-17T21:41:04.914427</dc:date>\n    <dc:format>image/svg+xml</dc:format>\n    <dc:creator>\n     <cc:Agent>\n      <dc:title>Matplotlib v3.6.2, https://matplotlib.org/</dc:title>\n     </cc:Agent>\n    </dc:creator>\n   </cc:Work>\n  </rdf:RDF>\n </metadata>\n <defs>\n  <style type=\"text/css\">*{stroke-linejoin: round; stroke-linecap: butt}</style>\n </defs>\n <g id=\"figure_1\">\n  <g id=\"patch_1\">\n   <path d=\"M 0 312.30825 \nL 402.374687 312.30825 \nL 402.374687 0 \nL 0 0 \nz\n\" style=\"fill: #ffffff\"/>\n  </g>\n  <g id=\"axes_1\">\n   <g id=\"patch_2\">\n    <path d=\"M 30.103125 288.430125 \nL 387.223125 288.430125 \nL 387.223125 22.318125 \nL 30.103125 22.318125 \nz\n\" style=\"fill: #ffffff\"/>\n   </g>\n   <g id=\"matplotlib.axis_1\">\n    <g id=\"xtick_1\">\n     <g id=\"line2d_1\">\n      <defs>\n       <path id=\"m8fa04e8d72\" d=\"M 0 0 \nL 0 3.5 \n\" style=\"stroke: #000000; stroke-width: 0.8\"/>\n      </defs>\n      <g>\n       <use xlink:href=\"#m8fa04e8d72\" x=\"30.103125\" y=\"288.430125\" style=\"stroke: #000000; stroke-width: 0.8\"/>\n      </g>\n     </g>\n     <g id=\"text_1\">\n      <!-- 0.0 -->\n      <g transform=\"translate(22.151563 303.028562) scale(0.1 -0.1)\">\n       <defs>\n        <path id=\"DejaVuSans-30\" d=\"M 2034 4250 \nQ 1547 4250 1301 3770 \nQ 1056 3291 1056 2328 \nQ 1056 1369 1301 889 \nQ 1547 409 2034 409 \nQ 2525 409 2770 889 \nQ 3016 1369 3016 2328 \nQ 3016 3291 2770 3770 \nQ 2525 4250 2034 4250 \nz\nM 2034 4750 \nQ 2819 4750 3233 4129 \nQ 3647 3509 3647 2328 \nQ 3647 1150 3233 529 \nQ 2819 -91 2034 -91 \nQ 1250 -91 836 529 \nQ 422 1150 422 2328 \nQ 422 3509 836 4129 \nQ 1250 4750 2034 4750 \nz\n\" transform=\"scale(0.015625)\"/>\n        <path id=\"DejaVuSans-2e\" d=\"M 684 794 \nL 1344 794 \nL 1344 0 \nL 684 0 \nL 684 794 \nz\n\" transform=\"scale(0.015625)\"/>\n       </defs>\n       <use xlink:href=\"#DejaVuSans-30\"/>\n       <use xlink:href=\"#DejaVuSans-2e\" x=\"63.623047\"/>\n       <use xlink:href=\"#DejaVuSans-30\" x=\"95.410156\"/>\n      </g>\n     </g>\n    </g>\n    <g id=\"xtick_2\">\n     <g id=\"line2d_2\">\n      <g>\n       <use xlink:href=\"#m8fa04e8d72\" x=\"101.527125\" y=\"288.430125\" style=\"stroke: #000000; stroke-width: 0.8\"/>\n      </g>\n     </g>\n     <g id=\"text_2\">\n      <!-- 0.2 -->\n      <g transform=\"translate(93.575563 303.028562) scale(0.1 -0.1)\">\n       <defs>\n        <path id=\"DejaVuSans-32\" d=\"M 1228 531 \nL 3431 531 \nL 3431 0 \nL 469 0 \nL 469 531 \nQ 828 903 1448 1529 \nQ 2069 2156 2228 2338 \nQ 2531 2678 2651 2914 \nQ 2772 3150 2772 3378 \nQ 2772 3750 2511 3984 \nQ 2250 4219 1831 4219 \nQ 1534 4219 1204 4116 \nQ 875 4013 500 3803 \nL 500 4441 \nQ 881 4594 1212 4672 \nQ 1544 4750 1819 4750 \nQ 2544 4750 2975 4387 \nQ 3406 4025 3406 3419 \nQ 3406 3131 3298 2873 \nQ 3191 2616 2906 2266 \nQ 2828 2175 2409 1742 \nQ 1991 1309 1228 531 \nz\n\" transform=\"scale(0.015625)\"/>\n       </defs>\n       <use xlink:href=\"#DejaVuSans-30\"/>\n       <use xlink:href=\"#DejaVuSans-2e\" x=\"63.623047\"/>\n       <use xlink:href=\"#DejaVuSans-32\" x=\"95.410156\"/>\n      </g>\n     </g>\n    </g>\n    <g id=\"xtick_3\">\n     <g id=\"line2d_3\">\n      <g>\n       <use xlink:href=\"#m8fa04e8d72\" x=\"172.951125\" y=\"288.430125\" style=\"stroke: #000000; stroke-width: 0.8\"/>\n      </g>\n     </g>\n     <g id=\"text_3\">\n      <!-- 0.4 -->\n      <g transform=\"translate(164.999563 303.028562) scale(0.1 -0.1)\">\n       <defs>\n        <path id=\"DejaVuSans-34\" d=\"M 2419 4116 \nL 825 1625 \nL 2419 1625 \nL 2419 4116 \nz\nM 2253 4666 \nL 3047 4666 \nL 3047 1625 \nL 3713 1625 \nL 3713 1100 \nL 3047 1100 \nL 3047 0 \nL 2419 0 \nL 2419 1100 \nL 313 1100 \nL 313 1709 \nL 2253 4666 \nz\n\" transform=\"scale(0.015625)\"/>\n       </defs>\n       <use xlink:href=\"#DejaVuSans-30\"/>\n       <use xlink:href=\"#DejaVuSans-2e\" x=\"63.623047\"/>\n       <use xlink:href=\"#DejaVuSans-34\" x=\"95.410156\"/>\n      </g>\n     </g>\n    </g>\n    <g id=\"xtick_4\">\n     <g id=\"line2d_4\">\n      <g>\n       <use xlink:href=\"#m8fa04e8d72\" x=\"244.375125\" y=\"288.430125\" style=\"stroke: #000000; stroke-width: 0.8\"/>\n      </g>\n     </g>\n     <g id=\"text_4\">\n      <!-- 0.6 -->\n      <g transform=\"translate(236.423563 303.028562) scale(0.1 -0.1)\">\n       <defs>\n        <path id=\"DejaVuSans-36\" d=\"M 2113 2584 \nQ 1688 2584 1439 2293 \nQ 1191 2003 1191 1497 \nQ 1191 994 1439 701 \nQ 1688 409 2113 409 \nQ 2538 409 2786 701 \nQ 3034 994 3034 1497 \nQ 3034 2003 2786 2293 \nQ 2538 2584 2113 2584 \nz\nM 3366 4563 \nL 3366 3988 \nQ 3128 4100 2886 4159 \nQ 2644 4219 2406 4219 \nQ 1781 4219 1451 3797 \nQ 1122 3375 1075 2522 \nQ 1259 2794 1537 2939 \nQ 1816 3084 2150 3084 \nQ 2853 3084 3261 2657 \nQ 3669 2231 3669 1497 \nQ 3669 778 3244 343 \nQ 2819 -91 2113 -91 \nQ 1303 -91 875 529 \nQ 447 1150 447 2328 \nQ 447 3434 972 4092 \nQ 1497 4750 2381 4750 \nQ 2619 4750 2861 4703 \nQ 3103 4656 3366 4563 \nz\n\" transform=\"scale(0.015625)\"/>\n       </defs>\n       <use xlink:href=\"#DejaVuSans-30\"/>\n       <use xlink:href=\"#DejaVuSans-2e\" x=\"63.623047\"/>\n       <use xlink:href=\"#DejaVuSans-36\" x=\"95.410156\"/>\n      </g>\n     </g>\n    </g>\n    <g id=\"xtick_5\">\n     <g id=\"line2d_5\">\n      <g>\n       <use xlink:href=\"#m8fa04e8d72\" x=\"315.799125\" y=\"288.430125\" style=\"stroke: #000000; stroke-width: 0.8\"/>\n      </g>\n     </g>\n     <g id=\"text_5\">\n      <!-- 0.8 -->\n      <g transform=\"translate(307.847562 303.028562) scale(0.1 -0.1)\">\n       <defs>\n        <path id=\"DejaVuSans-38\" d=\"M 2034 2216 \nQ 1584 2216 1326 1975 \nQ 1069 1734 1069 1313 \nQ 1069 891 1326 650 \nQ 1584 409 2034 409 \nQ 2484 409 2743 651 \nQ 3003 894 3003 1313 \nQ 3003 1734 2745 1975 \nQ 2488 2216 2034 2216 \nz\nM 1403 2484 \nQ 997 2584 770 2862 \nQ 544 3141 544 3541 \nQ 544 4100 942 4425 \nQ 1341 4750 2034 4750 \nQ 2731 4750 3128 4425 \nQ 3525 4100 3525 3541 \nQ 3525 3141 3298 2862 \nQ 3072 2584 2669 2484 \nQ 3125 2378 3379 2068 \nQ 3634 1759 3634 1313 \nQ 3634 634 3220 271 \nQ 2806 -91 2034 -91 \nQ 1263 -91 848 271 \nQ 434 634 434 1313 \nQ 434 1759 690 2068 \nQ 947 2378 1403 2484 \nz\nM 1172 3481 \nQ 1172 3119 1398 2916 \nQ 1625 2713 2034 2713 \nQ 2441 2713 2670 2916 \nQ 2900 3119 2900 3481 \nQ 2900 3844 2670 4047 \nQ 2441 4250 2034 4250 \nQ 1625 4250 1398 4047 \nQ 1172 3844 1172 3481 \nz\n\" transform=\"scale(0.015625)\"/>\n       </defs>\n       <use xlink:href=\"#DejaVuSans-30\"/>\n       <use xlink:href=\"#DejaVuSans-2e\" x=\"63.623047\"/>\n       <use xlink:href=\"#DejaVuSans-38\" x=\"95.410156\"/>\n      </g>\n     </g>\n    </g>\n    <g id=\"xtick_6\">\n     <g id=\"line2d_6\">\n      <g>\n       <use xlink:href=\"#m8fa04e8d72\" x=\"387.223125\" y=\"288.430125\" style=\"stroke: #000000; stroke-width: 0.8\"/>\n      </g>\n     </g>\n     <g id=\"text_6\">\n      <!-- 1.0 -->\n      <g transform=\"translate(379.271562 303.028562) scale(0.1 -0.1)\">\n       <defs>\n        <path id=\"DejaVuSans-31\" d=\"M 794 531 \nL 1825 531 \nL 1825 4091 \nL 703 3866 \nL 703 4441 \nL 1819 4666 \nL 2450 4666 \nL 2450 531 \nL 3481 531 \nL 3481 0 \nL 794 0 \nL 794 531 \nz\n\" transform=\"scale(0.015625)\"/>\n       </defs>\n       <use xlink:href=\"#DejaVuSans-31\"/>\n       <use xlink:href=\"#DejaVuSans-2e\" x=\"63.623047\"/>\n       <use xlink:href=\"#DejaVuSans-30\" x=\"95.410156\"/>\n      </g>\n     </g>\n    </g>\n   </g>\n   <g id=\"matplotlib.axis_2\">\n    <g id=\"ytick_1\">\n     <g id=\"line2d_7\">\n      <defs>\n       <path id=\"me1e5bd8cb1\" d=\"M 0 0 \nL -3.5 0 \n\" style=\"stroke: #000000; stroke-width: 0.8\"/>\n      </defs>\n      <g>\n       <use xlink:href=\"#me1e5bd8cb1\" x=\"30.103125\" y=\"288.430125\" style=\"stroke: #000000; stroke-width: 0.8\"/>\n      </g>\n     </g>\n     <g id=\"text_7\">\n      <!-- 0.0 -->\n      <g transform=\"translate(7.2 292.229344) scale(0.1 -0.1)\">\n       <use xlink:href=\"#DejaVuSans-30\"/>\n       <use xlink:href=\"#DejaVuSans-2e\" x=\"63.623047\"/>\n       <use xlink:href=\"#DejaVuSans-30\" x=\"95.410156\"/>\n      </g>\n     </g>\n    </g>\n    <g id=\"ytick_2\">\n     <g id=\"line2d_8\">\n      <g>\n       <use xlink:href=\"#me1e5bd8cb1\" x=\"30.103125\" y=\"235.207725\" style=\"stroke: #000000; stroke-width: 0.8\"/>\n      </g>\n     </g>\n     <g id=\"text_8\">\n      <!-- 0.2 -->\n      <g transform=\"translate(7.2 239.006944) scale(0.1 -0.1)\">\n       <use xlink:href=\"#DejaVuSans-30\"/>\n       <use xlink:href=\"#DejaVuSans-2e\" x=\"63.623047\"/>\n       <use xlink:href=\"#DejaVuSans-32\" x=\"95.410156\"/>\n      </g>\n     </g>\n    </g>\n    <g id=\"ytick_3\">\n     <g id=\"line2d_9\">\n      <g>\n       <use xlink:href=\"#me1e5bd8cb1\" x=\"30.103125\" y=\"181.985325\" style=\"stroke: #000000; stroke-width: 0.8\"/>\n      </g>\n     </g>\n     <g id=\"text_9\">\n      <!-- 0.4 -->\n      <g transform=\"translate(7.2 185.784544) scale(0.1 -0.1)\">\n       <use xlink:href=\"#DejaVuSans-30\"/>\n       <use xlink:href=\"#DejaVuSans-2e\" x=\"63.623047\"/>\n       <use xlink:href=\"#DejaVuSans-34\" x=\"95.410156\"/>\n      </g>\n     </g>\n    </g>\n    <g id=\"ytick_4\">\n     <g id=\"line2d_10\">\n      <g>\n       <use xlink:href=\"#me1e5bd8cb1\" x=\"30.103125\" y=\"128.762925\" style=\"stroke: #000000; stroke-width: 0.8\"/>\n      </g>\n     </g>\n     <g id=\"text_10\">\n      <!-- 0.6 -->\n      <g transform=\"translate(7.2 132.562144) scale(0.1 -0.1)\">\n       <use xlink:href=\"#DejaVuSans-30\"/>\n       <use xlink:href=\"#DejaVuSans-2e\" x=\"63.623047\"/>\n       <use xlink:href=\"#DejaVuSans-36\" x=\"95.410156\"/>\n      </g>\n     </g>\n    </g>\n    <g id=\"ytick_5\">\n     <g id=\"line2d_11\">\n      <g>\n       <use xlink:href=\"#me1e5bd8cb1\" x=\"30.103125\" y=\"75.540525\" style=\"stroke: #000000; stroke-width: 0.8\"/>\n      </g>\n     </g>\n     <g id=\"text_11\">\n      <!-- 0.8 -->\n      <g transform=\"translate(7.2 79.339744) scale(0.1 -0.1)\">\n       <use xlink:href=\"#DejaVuSans-30\"/>\n       <use xlink:href=\"#DejaVuSans-2e\" x=\"63.623047\"/>\n       <use xlink:href=\"#DejaVuSans-38\" x=\"95.410156\"/>\n      </g>\n     </g>\n    </g>\n    <g id=\"ytick_6\">\n     <g id=\"line2d_12\">\n      <g>\n       <use xlink:href=\"#me1e5bd8cb1\" x=\"30.103125\" y=\"22.318125\" style=\"stroke: #000000; stroke-width: 0.8\"/>\n      </g>\n     </g>\n     <g id=\"text_12\">\n      <!-- 1.0 -->\n      <g transform=\"translate(7.2 26.117344) scale(0.1 -0.1)\">\n       <use xlink:href=\"#DejaVuSans-31\"/>\n       <use xlink:href=\"#DejaVuSans-2e\" x=\"63.623047\"/>\n       <use xlink:href=\"#DejaVuSans-30\" x=\"95.410156\"/>\n      </g>\n     </g>\n    </g>\n   </g>\n   <g id=\"patch_3\">\n    <path d=\"M 30.103125 288.430125 \nL 30.103125 22.318125 \n\" style=\"fill: none; stroke: #000000; stroke-width: 0.8; stroke-linejoin: miter; stroke-linecap: square\"/>\n   </g>\n   <g id=\"patch_4\">\n    <path d=\"M 387.223125 288.430125 \nL 387.223125 22.318125 \n\" style=\"fill: none; stroke: #000000; stroke-width: 0.8; stroke-linejoin: miter; stroke-linecap: square\"/>\n   </g>\n   <g id=\"patch_5\">\n    <path d=\"M 30.103125 288.430125 \nL 387.223125 288.430125 \n\" style=\"fill: none; stroke: #000000; stroke-width: 0.8; stroke-linejoin: miter; stroke-linecap: square\"/>\n   </g>\n   <g id=\"patch_6\">\n    <path d=\"M 30.103125 22.318125 \nL 387.223125 22.318125 \n\" style=\"fill: none; stroke: #000000; stroke-width: 0.8; stroke-linejoin: miter; stroke-linecap: square\"/>\n   </g>\n   <g id=\"text_13\">\n    <!-- Combined plot - Learnt model -->\n    <g transform=\"translate(119.080313 16.318125) scale(0.12 -0.12)\">\n     <defs>\n      <path id=\"DejaVuSans-43\" d=\"M 4122 4306 \nL 4122 3641 \nQ 3803 3938 3442 4084 \nQ 3081 4231 2675 4231 \nQ 1875 4231 1450 3742 \nQ 1025 3253 1025 2328 \nQ 1025 1406 1450 917 \nQ 1875 428 2675 428 \nQ 3081 428 3442 575 \nQ 3803 722 4122 1019 \nL 4122 359 \nQ 3791 134 3420 21 \nQ 3050 -91 2638 -91 \nQ 1578 -91 968 557 \nQ 359 1206 359 2328 \nQ 359 3453 968 4101 \nQ 1578 4750 2638 4750 \nQ 3056 4750 3426 4639 \nQ 3797 4528 4122 4306 \nz\n\" transform=\"scale(0.015625)\"/>\n      <path id=\"DejaVuSans-6f\" d=\"M 1959 3097 \nQ 1497 3097 1228 2736 \nQ 959 2375 959 1747 \nQ 959 1119 1226 758 \nQ 1494 397 1959 397 \nQ 2419 397 2687 759 \nQ 2956 1122 2956 1747 \nQ 2956 2369 2687 2733 \nQ 2419 3097 1959 3097 \nz\nM 1959 3584 \nQ 2709 3584 3137 3096 \nQ 3566 2609 3566 1747 \nQ 3566 888 3137 398 \nQ 2709 -91 1959 -91 \nQ 1206 -91 779 398 \nQ 353 888 353 1747 \nQ 353 2609 779 3096 \nQ 1206 3584 1959 3584 \nz\n\" transform=\"scale(0.015625)\"/>\n      <path id=\"DejaVuSans-6d\" d=\"M 3328 2828 \nQ 3544 3216 3844 3400 \nQ 4144 3584 4550 3584 \nQ 5097 3584 5394 3201 \nQ 5691 2819 5691 2113 \nL 5691 0 \nL 5113 0 \nL 5113 2094 \nQ 5113 2597 4934 2840 \nQ 4756 3084 4391 3084 \nQ 3944 3084 3684 2787 \nQ 3425 2491 3425 1978 \nL 3425 0 \nL 2847 0 \nL 2847 2094 \nQ 2847 2600 2669 2842 \nQ 2491 3084 2119 3084 \nQ 1678 3084 1418 2786 \nQ 1159 2488 1159 1978 \nL 1159 0 \nL 581 0 \nL 581 3500 \nL 1159 3500 \nL 1159 2956 \nQ 1356 3278 1631 3431 \nQ 1906 3584 2284 3584 \nQ 2666 3584 2933 3390 \nQ 3200 3197 3328 2828 \nz\n\" transform=\"scale(0.015625)\"/>\n      <path id=\"DejaVuSans-62\" d=\"M 3116 1747 \nQ 3116 2381 2855 2742 \nQ 2594 3103 2138 3103 \nQ 1681 3103 1420 2742 \nQ 1159 2381 1159 1747 \nQ 1159 1113 1420 752 \nQ 1681 391 2138 391 \nQ 2594 391 2855 752 \nQ 3116 1113 3116 1747 \nz\nM 1159 2969 \nQ 1341 3281 1617 3432 \nQ 1894 3584 2278 3584 \nQ 2916 3584 3314 3078 \nQ 3713 2572 3713 1747 \nQ 3713 922 3314 415 \nQ 2916 -91 2278 -91 \nQ 1894 -91 1617 61 \nQ 1341 213 1159 525 \nL 1159 0 \nL 581 0 \nL 581 4863 \nL 1159 4863 \nL 1159 2969 \nz\n\" transform=\"scale(0.015625)\"/>\n      <path id=\"DejaVuSans-69\" d=\"M 603 3500 \nL 1178 3500 \nL 1178 0 \nL 603 0 \nL 603 3500 \nz\nM 603 4863 \nL 1178 4863 \nL 1178 4134 \nL 603 4134 \nL 603 4863 \nz\n\" transform=\"scale(0.015625)\"/>\n      <path id=\"DejaVuSans-6e\" d=\"M 3513 2113 \nL 3513 0 \nL 2938 0 \nL 2938 2094 \nQ 2938 2591 2744 2837 \nQ 2550 3084 2163 3084 \nQ 1697 3084 1428 2787 \nQ 1159 2491 1159 1978 \nL 1159 0 \nL 581 0 \nL 581 3500 \nL 1159 3500 \nL 1159 2956 \nQ 1366 3272 1645 3428 \nQ 1925 3584 2291 3584 \nQ 2894 3584 3203 3211 \nQ 3513 2838 3513 2113 \nz\n\" transform=\"scale(0.015625)\"/>\n      <path id=\"DejaVuSans-65\" d=\"M 3597 1894 \nL 3597 1613 \nL 953 1613 \nQ 991 1019 1311 708 \nQ 1631 397 2203 397 \nQ 2534 397 2845 478 \nQ 3156 559 3463 722 \nL 3463 178 \nQ 3153 47 2828 -22 \nQ 2503 -91 2169 -91 \nQ 1331 -91 842 396 \nQ 353 884 353 1716 \nQ 353 2575 817 3079 \nQ 1281 3584 2069 3584 \nQ 2775 3584 3186 3129 \nQ 3597 2675 3597 1894 \nz\nM 3022 2063 \nQ 3016 2534 2758 2815 \nQ 2500 3097 2075 3097 \nQ 1594 3097 1305 2825 \nQ 1016 2553 972 2059 \nL 3022 2063 \nz\n\" transform=\"scale(0.015625)\"/>\n      <path id=\"DejaVuSans-64\" d=\"M 2906 2969 \nL 2906 4863 \nL 3481 4863 \nL 3481 0 \nL 2906 0 \nL 2906 525 \nQ 2725 213 2448 61 \nQ 2172 -91 1784 -91 \nQ 1150 -91 751 415 \nQ 353 922 353 1747 \nQ 353 2572 751 3078 \nQ 1150 3584 1784 3584 \nQ 2172 3584 2448 3432 \nQ 2725 3281 2906 2969 \nz\nM 947 1747 \nQ 947 1113 1208 752 \nQ 1469 391 1925 391 \nQ 2381 391 2643 752 \nQ 2906 1113 2906 1747 \nQ 2906 2381 2643 2742 \nQ 2381 3103 1925 3103 \nQ 1469 3103 1208 2742 \nQ 947 2381 947 1747 \nz\n\" transform=\"scale(0.015625)\"/>\n      <path id=\"DejaVuSans-20\" transform=\"scale(0.015625)\"/>\n      <path id=\"DejaVuSans-70\" d=\"M 1159 525 \nL 1159 -1331 \nL 581 -1331 \nL 581 3500 \nL 1159 3500 \nL 1159 2969 \nQ 1341 3281 1617 3432 \nQ 1894 3584 2278 3584 \nQ 2916 3584 3314 3078 \nQ 3713 2572 3713 1747 \nQ 3713 922 3314 415 \nQ 2916 -91 2278 -91 \nQ 1894 -91 1617 61 \nQ 1341 213 1159 525 \nz\nM 3116 1747 \nQ 3116 2381 2855 2742 \nQ 2594 3103 2138 3103 \nQ 1681 3103 1420 2742 \nQ 1159 2381 1159 1747 \nQ 1159 1113 1420 752 \nQ 1681 391 2138 391 \nQ 2594 391 2855 752 \nQ 3116 1113 3116 1747 \nz\n\" transform=\"scale(0.015625)\"/>\n      <path id=\"DejaVuSans-6c\" d=\"M 603 4863 \nL 1178 4863 \nL 1178 0 \nL 603 0 \nL 603 4863 \nz\n\" transform=\"scale(0.015625)\"/>\n      <path id=\"DejaVuSans-74\" d=\"M 1172 4494 \nL 1172 3500 \nL 2356 3500 \nL 2356 3053 \nL 1172 3053 \nL 1172 1153 \nQ 1172 725 1289 603 \nQ 1406 481 1766 481 \nL 2356 481 \nL 2356 0 \nL 1766 0 \nQ 1100 0 847 248 \nQ 594 497 594 1153 \nL 594 3053 \nL 172 3053 \nL 172 3500 \nL 594 3500 \nL 594 4494 \nL 1172 4494 \nz\n\" transform=\"scale(0.015625)\"/>\n      <path id=\"DejaVuSans-2d\" d=\"M 313 2009 \nL 1997 2009 \nL 1997 1497 \nL 313 1497 \nL 313 2009 \nz\n\" transform=\"scale(0.015625)\"/>\n      <path id=\"DejaVuSans-4c\" d=\"M 628 4666 \nL 1259 4666 \nL 1259 531 \nL 3531 531 \nL 3531 0 \nL 628 0 \nL 628 4666 \nz\n\" transform=\"scale(0.015625)\"/>\n      <path id=\"DejaVuSans-61\" d=\"M 2194 1759 \nQ 1497 1759 1228 1600 \nQ 959 1441 959 1056 \nQ 959 750 1161 570 \nQ 1363 391 1709 391 \nQ 2188 391 2477 730 \nQ 2766 1069 2766 1631 \nL 2766 1759 \nL 2194 1759 \nz\nM 3341 1997 \nL 3341 0 \nL 2766 0 \nL 2766 531 \nQ 2569 213 2275 61 \nQ 1981 -91 1556 -91 \nQ 1019 -91 701 211 \nQ 384 513 384 1019 \nQ 384 1609 779 1909 \nQ 1175 2209 1959 2209 \nL 2766 2209 \nL 2766 2266 \nQ 2766 2663 2505 2880 \nQ 2244 3097 1772 3097 \nQ 1472 3097 1187 3025 \nQ 903 2953 641 2809 \nL 641 3341 \nQ 956 3463 1253 3523 \nQ 1550 3584 1831 3584 \nQ 2591 3584 2966 3190 \nQ 3341 2797 3341 1997 \nz\n\" transform=\"scale(0.015625)\"/>\n      <path id=\"DejaVuSans-72\" d=\"M 2631 2963 \nQ 2534 3019 2420 3045 \nQ 2306 3072 2169 3072 \nQ 1681 3072 1420 2755 \nQ 1159 2438 1159 1844 \nL 1159 0 \nL 581 0 \nL 581 3500 \nL 1159 3500 \nL 1159 2956 \nQ 1341 3275 1631 3429 \nQ 1922 3584 2338 3584 \nQ 2397 3584 2469 3576 \nQ 2541 3569 2628 3553 \nL 2631 2963 \nz\n\" transform=\"scale(0.015625)\"/>\n     </defs>\n     <use xlink:href=\"#DejaVuSans-43\"/>\n     <use xlink:href=\"#DejaVuSans-6f\" x=\"69.824219\"/>\n     <use xlink:href=\"#DejaVuSans-6d\" x=\"131.005859\"/>\n     <use xlink:href=\"#DejaVuSans-62\" x=\"228.417969\"/>\n     <use xlink:href=\"#DejaVuSans-69\" x=\"291.894531\"/>\n     <use xlink:href=\"#DejaVuSans-6e\" x=\"319.677734\"/>\n     <use xlink:href=\"#DejaVuSans-65\" x=\"383.056641\"/>\n     <use xlink:href=\"#DejaVuSans-64\" x=\"444.580078\"/>\n     <use xlink:href=\"#DejaVuSans-20\" x=\"508.056641\"/>\n     <use xlink:href=\"#DejaVuSans-70\" x=\"539.84375\"/>\n     <use xlink:href=\"#DejaVuSans-6c\" x=\"603.320312\"/>\n     <use xlink:href=\"#DejaVuSans-6f\" x=\"631.103516\"/>\n     <use xlink:href=\"#DejaVuSans-74\" x=\"692.285156\"/>\n     <use xlink:href=\"#DejaVuSans-20\" x=\"731.494141\"/>\n     <use xlink:href=\"#DejaVuSans-2d\" x=\"763.28125\"/>\n     <use xlink:href=\"#DejaVuSans-20\" x=\"799.365234\"/>\n     <use xlink:href=\"#DejaVuSans-4c\" x=\"831.152344\"/>\n     <use xlink:href=\"#DejaVuSans-65\" x=\"885.115234\"/>\n     <use xlink:href=\"#DejaVuSans-61\" x=\"946.638672\"/>\n     <use xlink:href=\"#DejaVuSans-72\" x=\"1007.917969\"/>\n     <use xlink:href=\"#DejaVuSans-6e\" x=\"1047.28125\"/>\n     <use xlink:href=\"#DejaVuSans-74\" x=\"1110.660156\"/>\n     <use xlink:href=\"#DejaVuSans-20\" x=\"1149.869141\"/>\n     <use xlink:href=\"#DejaVuSans-6d\" x=\"1181.65625\"/>\n     <use xlink:href=\"#DejaVuSans-6f\" x=\"1279.068359\"/>\n     <use xlink:href=\"#DejaVuSans-64\" x=\"1340.25\"/>\n     <use xlink:href=\"#DejaVuSans-65\" x=\"1403.726562\"/>\n     <use xlink:href=\"#DejaVuSans-6c\" x=\"1465.25\"/>\n    </g>\n   </g>\n  </g>\n </g>\n</svg>\n",
      "text/plain": [
       "<Figure size 640x480 with 1 Axes>"
      ]
     },
     "metadata": {},
     "output_type": "display_data"
    }
   ],
   "source": [
    "plt.figure()\n",
    "plt.style.use('default')\n",
    "plt.title('Combined plot - Learnt model')\n",
    "plt.plot(data_series[:, 0], data_series[:, 1], '.', linewidth=1)\n",
    "plt.streamplot(X1, X2, u_learnt, v_learnt)\n",
    "plt.xlabel('x1')\n",
    "plt.ylabel('x2')\n",
    "plt.legend(['Trajectory', 'Streamlines'])\n",
    "plt.xlim([lower_bound_x1, upper_bound_x1])\n",
    "plt.ylim([lower_bound_x2, upper_bound_x2])"
   ]
  },
  {
   "cell_type": "code",
   "execution_count": null,
   "metadata": {},
   "outputs": [],
   "source": []
  }
 ],
 "metadata": {
  "kernelspec": {
   "display_name": "Python 3.11.0 64-bit",
   "language": "python",
   "name": "python3"
  },
  "language_info": {
   "codemirror_mode": {
    "name": "ipython",
    "version": 3
   },
   "file_extension": ".py",
   "mimetype": "text/x-python",
   "name": "python",
   "nbconvert_exporter": "python",
   "pygments_lexer": "ipython3",
   "version": "3.11.0"
  },
  "orig_nbformat": 4,
  "vscode": {
   "interpreter": {
    "hash": "2bba0b4c4e4d58345b53e5921abd2d3058b922f4e0bc24627a8b4c4ca7e4f1ef"
   }
  }
 },
 "nbformat": 4,
 "nbformat_minor": 2
}
