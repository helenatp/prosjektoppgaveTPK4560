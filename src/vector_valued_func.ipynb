{
 "cells": [
  {
   "cell_type": "markdown",
   "metadata": {},
   "source": [
    "### Imports"
   ]
  },
  {
   "cell_type": "code",
   "execution_count": 399,
   "metadata": {},
   "outputs": [],
   "source": [
    "import numpy as np\n",
    "import sympy as sym\n",
    "from numpy.random import randn\n",
    "np.set_printoptions(threshold=np.inf)\n"
   ]
  },
  {
   "cell_type": "markdown",
   "metadata": {},
   "source": [
    "### Values"
   ]
  },
  {
   "cell_type": "code",
   "execution_count": 400,
   "metadata": {},
   "outputs": [
    {
     "name": "stdout",
     "output_type": "stream",
     "text": [
      "x:  [ 0.43716881 -0.84503379  0.20729834  0.08254591  0.25320426 -0.20729648\n",
      " -0.24219505 -0.19546464  0.29174124 -0.08507908]\n",
      "y:  [ 0.90595395  0.66370601  0.97859053  0.99659502  0.9681147  -0.20581501\n",
      " -0.23983419 -0.19422234  0.28762033 -0.08497647]\n"
     ]
    }
   ],
   "source": [
    "m = 5 # number of points that we want to use\n",
    "sigma = 2\n",
    "sigma2 = 2*sigma**2\n",
    "w = randn(m) / sigma\n",
    "b = np.random.rand(m)*2*np.pi\n",
    "\n",
    "n = 5 # so many points that we have (Gauss uses all n points)\n",
    "x = randn(n)/2\n",
    "z = randn(n)/2 # function y\n",
    "\n",
    "lam = 0.000001\n",
    "\n",
    "d = 5\n",
    "\n",
    "x1 = randn(n)/2\n",
    "x2 =  randn(n)/2\n",
    "x_vector = np.block([x1,x2])\n",
    "print(\"x: \", x_vector)\n",
    "\n",
    "y1 = np.cos(x1)\n",
    "y2 = np.sin(x2)\n",
    "\n",
    "y = np.block([y1, y2])\n",
    "print(\"y: \", y)"
   ]
  },
  {
   "cell_type": "markdown",
   "metadata": {},
   "source": [
    "### Gaussian Kernel"
   ]
  },
  {
   "cell_type": "code",
   "execution_count": 401,
   "metadata": {},
   "outputs": [
    {
     "name": "stdout",
     "output_type": "stream",
     "text": [
      "0.9340607761199916\n"
     ]
    }
   ],
   "source": [
    "def k_gauss(x,z):\n",
    "    \"\"\"R^n x R^n -> R - should be one number\n",
    "    # vector is multi-dimensional\n",
    "\n",
    "    Args:\n",
    "        x (float): real value numbers\n",
    "        z (float): real value numbers\n",
    "\n",
    "    Returns:\n",
    "        (vector with length n): a scalar shift-invariant Gaussian kernel\n",
    "    \"\"\"\n",
    "    return np.exp(-((np.linalg.norm(x-z))**2)/(sigma2)) \n",
    "\n",
    "print(k_gauss(x,z))"
   ]
  },
  {
   "cell_type": "markdown",
   "metadata": {},
   "source": [
    "###  Scalar kernel"
   ]
  },
  {
   "cell_type": "code",
   "execution_count": 402,
   "metadata": {},
   "outputs": [],
   "source": [
    "def k_approx(k, x, z):\n",
    "    \"\"\"scalar kernel\n",
    "\n",
    "    Args:\n",
    "        k (kernel): to test with different kernels\n",
    "\n",
    "    Returns:\n",
    "        approximated kernel: sum of feature vectors\n",
    "    \"\"\"\n",
    "    n = len(x)\n",
    "    Kxz = np.zeros((n,m))\n",
    "    for i in range(n):\n",
    "        for j in range(m):\n",
    "            Kxz[i, j] = k(x[i], z[j])\n",
    "    return Kxz"
   ]
  },
  {
   "cell_type": "markdown",
   "metadata": {},
   "source": [
    "### Approximation 1"
   ]
  },
  {
   "cell_type": "code",
   "execution_count": 403,
   "metadata": {},
   "outputs": [
    {
     "name": "stdout",
     "output_type": "stream",
     "text": [
      "[[ 0.58317932 -1.04924705  0.32836584  0.25770115 -0.50400597]\n",
      " [ 0.53101953 -1.02537059  0.49098714  0.32919502 -0.49636154]\n",
      " [ 0.19982447 -0.8677342   1.24930289  0.73688108 -0.44969967]\n",
      " [ 0.27043204 -0.90230607  1.13479112  0.65665024 -0.45946464]\n",
      " [ 0.51703933 -1.01893156  0.53302079  0.34801615 -0.49433138]]\n"
     ]
    }
   ],
   "source": [
    "def psi_approx1(x, w):\n",
    "   \"\"\"\n",
    "   Args:\n",
    "       x (vector): vector with length m\n",
    "\n",
    "   Returns:\n",
    "       vector: vector with length m\n",
    "   \"\"\"\n",
    "   return np.sqrt(2)*np.cos(w.T*x + b)\n",
    "\n",
    "\"\"\"\n",
    "def psi(x, d, list_w):\n",
    "    Args:\n",
    "        list_w (list): list of size d of all w, every w is of size n\n",
    "\n",
    "    Returns:\n",
    "        list: a list of cos and sin from 1 to 2d\n",
    "    new_list = []\n",
    "    for w in list_w:\n",
    "        new_list.append(phi_cos(x,w))\n",
    "        new_list.append(phi_sin(x,w))\n",
    "    return (1/np.sqrt(d)) * np.array(new_list)\n",
    "\n",
    "list_w = list_w_of_size_d(d)\n",
    "print(list_w)\n",
    "print(\"psi list:\", psi(x, d, list_w))\n",
    "\"\"\"\n",
    "\n",
    "def psi_approx1_w(x, list_w):\n",
    "    new_list = []\n",
    "    for w in list_w:\n",
    "        new_list.append(psi_approx1(x, w))\n",
    "    return np.array(new_list)\n",
    "\n",
    "print(psi_approx1_w(x, w))\n"
   ]
  },
  {
   "cell_type": "markdown",
   "metadata": {},
   "source": [
    "### Approximation 2"
   ]
  },
  {
   "cell_type": "code",
   "execution_count": 404,
   "metadata": {},
   "outputs": [
    {
     "data": {
      "text/plain": [
       "'\\nprint(K_approx2(x,z))\\n'"
      ]
     },
     "execution_count": 404,
     "metadata": {},
     "output_type": "execute_result"
    }
   ],
   "source": [
    "def phi_cos(x, w):\n",
    "    return np.cos(w.T@x)\n",
    "\n",
    "def phi_sin(x, w):\n",
    "    return np.sin(w.T@x)\n",
    "\n",
    "def K_approx2(x, z, w):\n",
    "    \"\"\"The scalar kernel\n",
    "\n",
    "    Args:\n",
    "        x (float): random generated numbers\n",
    "        z (float): random generated numbers\n",
    "\n",
    "    Returns:\n",
    "        (float): a number, which is the scalar kernel\n",
    "    \"\"\"\n",
    "    return np.sum(phi_cos(x, w) * phi_cos(z, w)) + np.sum(phi_sin(x, w) * phi_sin(z, w))\n",
    "\n",
    "\"\"\"\n",
    "print(K_approx2(x,z))\n",
    "\"\"\""
   ]
  },
  {
   "cell_type": "markdown",
   "metadata": {},
   "source": [
    "### Matrix kernels"
   ]
  },
  {
   "cell_type": "markdown",
   "metadata": {},
   "source": []
  },
  {
   "cell_type": "code",
   "execution_count": 405,
   "metadata": {},
   "outputs": [
    {
     "name": "stdout",
     "output_type": "stream",
     "text": [
      "[[0.93406078 0.         0.         0.         0.        ]\n",
      " [0.         0.93406078 0.         0.         0.        ]\n",
      " [0.         0.         0.93406078 0.         0.        ]\n",
      " [0.         0.         0.         0.93406078 0.        ]\n",
      " [0.         0.         0.         0.         0.93406078]]\n",
      "\n",
      " matrix kernel\n",
      "[[0.97157872 0.         0.         0.         0.        ]\n",
      " [0.         0.97157872 0.         0.         0.        ]\n",
      " [0.         0.         0.97157872 0.         0.        ]\n",
      " [0.         0.         0.         0.97157872 0.        ]\n",
      " [0.         0.         0.         0.         0.97157872]]\n"
     ]
    }
   ],
   "source": [
    "# Matrix kernel\n",
    "def K(k, *args): # *args: can give as many arguments as you want\n",
    "    return k(*args) * np.eye(m)\n",
    "\n",
    "# Testing for gaussian kernel\n",
    "gauss_sep_ker = K(k_gauss, x, z)\n",
    "print(gauss_sep_ker)\n",
    "\n",
    "# Testing for approximation with RFF (random fourier features)\n",
    "print(\"\\n\", \"matrix kernel\")\n",
    "matrix_ker = K(K_approx2, x, z, w)\n",
    "print(matrix_ker)"
   ]
  },
  {
   "cell_type": "markdown",
   "metadata": {},
   "source": [
    "### Approximate function f"
   ]
  },
  {
   "cell_type": "code",
   "execution_count": 406,
   "metadata": {},
   "outputs": [
    {
     "name": "stdout",
     "output_type": "stream",
     "text": [
      "[[ 1.1816333   0.51850647 -1.13127822  0.91401341  1.15905029]\n",
      " [-0.13501085  0.3778589   0.42745275  1.20505983 -0.82969323]\n",
      " [ 0.45673803 -0.99239495  0.34751278 -0.3999147  -2.17369366]\n",
      " [-0.32412     0.808393   -0.32520323 -1.22286439  0.29158551]\n",
      " [-1.48006964  0.67491242  0.92852561 -0.15152077  0.19559318]]\n",
      "psi list: [ 0.43886316  0.08601818  0.24052304 -0.37702609  0.44712592 -0.00885514\n",
      "  0.3013671   0.33042075  0.38038119 -0.23518109]\n"
     ]
    }
   ],
   "source": [
    "# create a list of all the w_1...w_d\n",
    "def list_w_of_size_d(d):\n",
    "    list_w = []\n",
    "    for i in range(d):\n",
    "        w = np.random.normal(size = d) # should be N or d times\n",
    "        list_w.append(w)\n",
    "    return np.array(list_w)\n",
    "\n",
    "# Approximation 2\n",
    "def psi(x, d, list_w):\n",
    "    \"\"\"\n",
    "    Args:\n",
    "        list_w (list): list of size d of all w, every w is of size n\n",
    "\n",
    "    Returns:\n",
    "        list: a list of cos and sin from 1 to 2d\n",
    "    \"\"\"\n",
    "    new_list = []\n",
    "    for w in list_w:\n",
    "        new_list.append(phi_cos(x,w))\n",
    "        new_list.append(phi_sin(x,w))\n",
    "    return (1/np.sqrt(d)) * np.array(new_list)\n",
    "\n",
    "list_w = list_w_of_size_d(d)\n",
    "print(list_w)\n",
    "print(\"psi list:\", psi(x, d, list_w))"
   ]
  },
  {
   "cell_type": "markdown",
   "metadata": {},
   "source": [
    "### Phi"
   ]
  },
  {
   "cell_type": "code",
   "execution_count": 407,
   "metadata": {},
   "outputs": [
    {
     "name": "stdout",
     "output_type": "stream",
     "text": [
      "phi:  [[ 0.26530097 -0.48707915  1.23266386  0.45863313 -0.82322117]\n",
      " [ 0.26076633 -1.37704524  0.94074037  1.01053521  0.32585903]\n",
      " [ 0.26448821 -0.71370677  1.18941813  0.56860026 -0.63826305]\n",
      " [ 0.26404709 -0.82775143  1.16418798  0.62666976 -0.53134522]\n",
      " [ 0.26465053 -0.67001969  1.1983936   0.54693189 -0.67653646]\n",
      " [ 0.2630221  -1.06145865  1.10096276  0.7564204  -0.27009212]\n",
      " [ 0.26289868 -1.08623641  1.09292785  0.77150563 -0.23776207]\n",
      " [ 0.26306395 -1.05288249  1.10366666  0.75127827 -0.28102091]\n",
      " [ 0.26478679 -0.632694    1.20579861  0.52862413 -0.70817951]\n",
      " [ 0.26345432 -0.96874036  1.12839408  0.70264882 -0.38205049]]\n"
     ]
    }
   ],
   "source": [
    "def phi(x, m, d, list_w):\n",
    "    psi_vector = []\n",
    "    j = 0\n",
    "    for i in range(0, len(x)):\n",
    "        psi_vector.append(psi_approx1(x[i], list_w))\n",
    "    return np.array(psi_vector)\n",
    "\n",
    "list_w = np.random.normal(size = d)\n",
    "phi_ = phi(x_vector, m, d, list_w)\n",
    "print(\"phi: \", phi_)"
   ]
  },
  {
   "cell_type": "markdown",
   "metadata": {},
   "source": [
    "### Alpha"
   ]
  },
  {
   "cell_type": "code",
   "execution_count": 408,
   "metadata": {},
   "outputs": [
    {
     "name": "stdout",
     "output_type": "stream",
     "text": [
      "[ -4.76538916  33.73572826 -85.19524056 148.79864069 -67.13997651]\n"
     ]
    }
   ],
   "source": [
    "def alpha(phi, y, m, lam):\n",
    "    \"\"\"\n",
    "    input:\n",
    "        phi - 10x5 matrix, 10 is length mN, 5 is length d\n",
    "        y - [cos(x_vec) sin(x_vec)] dim: m*N\n",
    "\n",
    "    return:\n",
    "        alpha: we want alpha to be a matrix of len d\n",
    "    \"\"\"\n",
    "    N = len(y)/m\n",
    "    alpha = np.linalg.inv((np.transpose(phi) @ phi + lam * N * np.identity(m))) @ (np.transpose(phi) @ y)\n",
    "    return alpha\n",
    "\n",
    "alpha_ = alpha(phi_, y, m, lam)\n",
    "print(alpha_)"
   ]
  },
  {
   "cell_type": "markdown",
   "metadata": {},
   "source": [
    "### Optimization problem"
   ]
  },
  {
   "cell_type": "code",
   "execution_count": 409,
   "metadata": {},
   "outputs": [
    {
     "name": "stdout",
     "output_type": "stream",
     "text": [
      "0.3596904028005414\n"
     ]
    }
   ],
   "source": [
    "def loss_function(y, alpha, phi, lam):\n",
    "    N = len(y)/m\n",
    "    y_matrix = np.transpose(y)@y\n",
    "    phi_y = 2*(np.transpose(alpha)@np.transpose(phi)@y)\n",
    "    phi_phi = np.transpose(alpha)@np.transpose(phi)@phi@alpha\n",
    "    alpha_alpha = lam*(np.transpose(alpha)@alpha)\n",
    "    loss = 1/N *(y_matrix-phi_y+phi_phi)+alpha_alpha\n",
    "    return loss\n",
    "\n",
    "loss_func = loss_function(y, alpha_, phi_, lam)\n",
    "print(loss_func)"
   ]
  },
  {
   "cell_type": "markdown",
   "metadata": {},
   "source": [
    "### Function"
   ]
  },
  {
   "cell_type": "code",
   "execution_count": 410,
   "metadata": {},
   "outputs": [
    {
     "name": "stdout",
     "output_type": "stream",
     "text": [
      "[ 0.80170978  0.64321925  0.78934128  0.55575525  0.84316849 -0.17096388\n",
      " -0.24771282 -0.14358312  0.87120065  0.13362138]\n"
     ]
    }
   ],
   "source": [
    "def func(phi, alpha):\n",
    "    return phi@alpha\n",
    "\n",
    "def psi_vector(x, list_w):\n",
    "    psi = []\n",
    "    for i in range(len(x)):\n",
    "        psi.append(psi_approx1(x[i], list_w))\n",
    "    return psi\n",
    "\n",
    "psi_ = psi_vector(x_vector, list_w)  \n",
    "\n",
    "vector_F = func(phi_, alpha_)\n",
    "\n",
    "print(vector_F)"
   ]
  }
 ],
 "metadata": {
  "kernelspec": {
   "display_name": "Python 3.8.1 32-bit",
   "language": "python",
   "name": "python3"
  },
  "language_info": {
   "codemirror_mode": {
    "name": "ipython",
    "version": 3
   },
   "file_extension": ".py",
   "mimetype": "text/x-python",
   "name": "python",
   "nbconvert_exporter": "python",
   "pygments_lexer": "ipython3",
   "version": "3.8.1"
  },
  "orig_nbformat": 4,
  "vscode": {
   "interpreter": {
    "hash": "141ff6ceaf6cd9d5f09b7c3dc742baf39b1c18dfc3a488d16317bf0a7860a04c"
   }
  }
 },
 "nbformat": 4,
 "nbformat_minor": 2
}
