{
 "cells": [
  {
   "cell_type": "markdown",
   "metadata": {},
   "source": [
    "### Imports"
   ]
  },
  {
   "cell_type": "code",
   "execution_count": null,
   "metadata": {},
   "outputs": [],
   "source": [
    "import numpy as np\n",
    "import pandas as pd\n",
    "import matplotlib.pyplot as plt\n",
    "from scipy.integrate import solve_ivp\n",
    "import ipywidgets as ipw\n",
    "from numpy.random import randn, randint\n",
    "import plotly.figure_factory as ff\n",
    "\n",
    "import import_ipynb, matplotlib\n",
    "#matplotlib.rcParams['figure.facecolor'] = 'white'\n",
    "import vector_valued_with_RFF\n",
    "\n",
    "from vector_valued_with_RFF import capital_psi, alpha_approx"
   ]
  },
  {
   "cell_type": "markdown",
   "metadata": {},
   "source": [
    "### Simulation parameters"
   ]
  },
  {
   "cell_type": "code",
   "execution_count": null,
   "metadata": {},
   "outputs": [],
   "source": [
    "w_0 = 0.1*2*np.pi\n",
    "zeta = 1/np.sqrt(2)\n",
    "# np.zeroes_like - return array of zeros w. same shape and type as a given array\n",
    "\n",
    "time_start = 0\n",
    "time_end = 100\n",
    "time_step = 0.05 # this gives 2000 steps\n",
    "\n",
    "time_series = np.arange(time_start, time_end, time_step)\n",
    "\n",
    "number_of_timesteps = len(time_series)\n",
    "\n",
    "init_condition = np.array([2, -2])\n",
    "\n",
    "size_of_state = 2"
   ]
  },
  {
   "cell_type": "markdown",
   "metadata": {},
   "source": [
    "### Van der Pol Oscillator"
   ]
  },
  {
   "cell_type": "code",
   "execution_count": null,
   "metadata": {},
   "outputs": [],
   "source": [
    "epsilon = 2\n",
    "\n",
    "def model_van_der_pol(t, x):\n",
    "    list = [x[1], epsilon * (1 - x[0]**2) * x[1] - x[0]]\n",
    "    return np.array(list)"
   ]
  },
  {
   "cell_type": "code",
   "execution_count": null,
   "metadata": {},
   "outputs": [],
   "source": [
    "# Solve diff. equations with ODE\n",
    "# similar to ODE45 in python: results = solve_ivp(obj_func, t_span, y0, t_eval = time_series)\n",
    "\n",
    "# noise for a bit of challange\n",
    "noise_sigma = 0.1\n",
    "\n",
    "# init data containers\n",
    "x = np.zeros((size_of_state, number_of_timesteps))\n",
    "y = np.zeros((size_of_state, number_of_timesteps))\n",
    "\n",
    "x[:, 0] = init_condition + np.multiply(noise_sigma, np.array(randn(size_of_state)))\n",
    "y[:, 0] = model_van_der_pol(time_start, init_condition)\n",
    "\n",
    "for i in range(0, number_of_timesteps - 1):\n",
    "    timespan = [time_series[i], time_series[i + 1]]\n",
    "    start_state = x[:, i]\n",
    "\n",
    "    # Sample dynamics at current time step\n",
    "    y[:, i] = model_van_der_pol(time_series[i], start_state)\n",
    "    \n",
    "    # Propogate the state trajectory to next the time step using ODE-solver\n",
    "    # solve_ivp is to replace the ode45 - solving odes\n",
    "    partial_trajectory = solve_ivp(model_van_der_pol, timespan, start_state).y\n",
    "    \n",
    "    x[:, i+1] = partial_trajectory[:, -1] + np.multiply(noise_sigma, np.array(randn(size_of_state)))"
   ]
  },
  {
   "cell_type": "markdown",
   "metadata": {},
   "source": [
    "### Free Harmonic Oscillator"
   ]
  },
  {
   "cell_type": "code",
   "execution_count": null,
   "metadata": {},
   "outputs": [],
   "source": [
    "def model_free_harmonic_oscillator(func, t, zeta, w_0):\n",
    "    \"\"\"Free Harmonic Oscillator ODE (Ordinary Differential equation)\"\"\"\n",
    "    pass"
   ]
  },
  {
   "cell_type": "markdown",
   "metadata": {},
   "source": [
    "### Generate data for vector field and streamlines"
   ]
  },
  {
   "cell_type": "code",
   "execution_count": null,
   "metadata": {},
   "outputs": [],
   "source": [
    "lower_bound_x1 = -4\n",
    "upper_bound_x1 = 4\n",
    "lower_bound_x2 = -4\n",
    "upper_bound_x2 = 4\n",
    "\n",
    "num_of_points = 11\n",
    "\n",
    "x1 = np.linspace(lower_bound_x1, upper_bound_x1, num_of_points)\n",
    "x2 = np.linspace(lower_bound_x2, upper_bound_x2, num_of_points)\n",
    "\n",
    "# Base point or starting points for each vector of the vector field\n",
    "[X1, X2] = np.meshgrid(x1, x2)\n",
    "\n",
    "# Calculate df/dt for each point\n",
    "t = 0\n",
    "\n",
    "u = np.zeros(X1.shape)\n",
    "v = np.zeros(X1.shape)\n",
    "u_norm = np.zeros(X1.shape)\n",
    "v_norm = np.zeros(X1.shape)\n",
    "\n",
    "for (i,j), value in np.ndenumerate(X1):\n",
    "    # get velocities at each point\n",
    "    Y_prime = model_van_der_pol(t, np.array([value, X2[i, j]]))\n",
    "    u[i,j] = Y_prime[0]\n",
    "    v[i,j] = Y_prime[1]\n",
    "\n",
    "    # normalize vector length\n",
    "    V_mod = np.sqrt(u[i,j]**2 + v[i,j]**2)\n",
    "    u_norm[i,j] = u[i,j] / V_mod\n",
    "    v_norm[i,j] = v[i,j] / V_mod"
   ]
  },
  {
   "cell_type": "markdown",
   "metadata": {},
   "source": [
    "### Plot Van der Pol model"
   ]
  },
  {
   "cell_type": "code",
   "execution_count": null,
   "metadata": {},
   "outputs": [],
   "source": [
    "# Plot resulting trajectory in the data set and belonging streamlines\n",
    "# Combine solution and vector field\n",
    "plt.figure()\n",
    "plt.style.use('default')\n",
    "plt.title('Combined plot - Van der Pol oscillator')\n",
    "plt.plot(x[0,:],x[1,:],'.', linewidth=2, color='c')\n",
    "\n",
    "#ff.create_streamline(X1, X2, u, v)\n",
    "plt.streamplot(X1, X2, u, v, density = 1)\n",
    "plt.quiver(x[0,:], x[1,:], y[0,:], y[1,:])\n",
    "plt.xlabel('x1')\n",
    "plt.ylabel('x2')\n",
    "plt.xlim([lower_bound_x1, upper_bound_x1])\n",
    "plt.ylim([lower_bound_x2, upper_bound_x2])"
   ]
  },
  {
   "cell_type": "markdown",
   "metadata": {},
   "source": [
    "### Regression problem"
   ]
  },
  {
   "cell_type": "code",
   "execution_count": null,
   "metadata": {},
   "outputs": [],
   "source": [
    "# Extract data series for y in the regression problem\n",
    "data_series_start = np.argwhere(time_series == 15)[0,0] # to take the first element\n",
    "data_series_end = np.argwhere(time_series == 22.6)[0,0]\n",
    "\n",
    "# Training data\n",
    "x_train = x[:,  data_series_start:data_series_end]\n",
    "y_train = y[:,  data_series_start:data_series_end]\n",
    "\n",
    "# Query only the length of the second dimension of x_train\n",
    "num_of_points = x_train.shape[0]\n",
    "dim_of_function = y_train.shape[0]\n",
    "num_of_points\n"
   ]
  },
  {
   "cell_type": "markdown",
   "metadata": {},
   "source": [
    "#### Plot resulting trajectory in the data set and belonging streamlines"
   ]
  },
  {
   "cell_type": "code",
   "execution_count": null,
   "metadata": {},
   "outputs": [],
   "source": [
    "plt.style.use('default')\n",
    "plt.figure()\n",
    "plt.title('Trajectory used in regression problem')\n",
    "plt.plot(x_train[0,:], x_train[1,:],'.', linewidth=2, color='c')\n",
    "plt.quiver(x_train[0,:],x_train[1,:],y_train[0,:],y_train[1,:])\n",
    "plt.xlabel('x1')\n",
    "plt.ylabel('x2')\n",
    "plt.legend(['Trajectory', 'Velocities'])\n",
    "plt.xlim([lower_bound_x1, upper_bound_x1])\n",
    "plt.ylim([lower_bound_x2, upper_bound_x2])"
   ]
  },
  {
   "cell_type": "markdown",
   "metadata": {},
   "source": [
    "### Regression"
   ]
  },
  {
   "cell_type": "code",
   "execution_count": null,
   "metadata": {},
   "outputs": [],
   "source": [
    "# Random Fourier Features\n",
    "sigma = 5\n",
    "num_of_samples = 20\n",
    "# ./ means right array division\n",
    "\n",
    "#TODO: double check w & b\n",
    "w = randn(size_of_state, num_of_samples)/sigma\n",
    "b = randint(1,num_of_samples)*2*np.pi\n",
    "\n",
    "print(x_train.shape, y_train.shape)"
   ]
  },
  {
   "cell_type": "markdown",
   "metadata": {},
   "source": [
    "### Regression"
   ]
  },
  {
   "cell_type": "code",
   "execution_count": null,
   "metadata": {},
   "outputs": [],
   "source": [
    "# Get alphas (coefficient vectors)\n",
    "lambda_ = 0.000001 # regularization parameter lamda\n",
    "alpha_array_rff = alpha_approx(x_train, y_train, dim_of_function, num_of_samples, lambda_, num_of_points)\n",
    "# Create callable function for learnt dynamics (straight from working note)\n",
    "def learnt_model(t, x):\n",
    "    f = np.zeros((dim_of_function, num_of_points))\n",
    "    for i in range(num_of_points):\n",
    "        f[:, i] = capital_psi(x_train[:, i], w, b, num_of_samples, dim_of_function).T @ alpha_array_rff\n",
    "    return f"
   ]
  },
  {
   "cell_type": "markdown",
   "metadata": {},
   "source": [
    "### Simulation paramters"
   ]
  },
  {
   "cell_type": "code",
   "execution_count": null,
   "metadata": {},
   "outputs": [],
   "source": [
    "init_time = 0\n",
    "end_time = 50\n",
    "timespan = np.array([init_time, end_time])\n",
    "init_condition = np.array([2, -2])\n",
    "\n",
    "# Solve diff. equations using learnt model with solve_ivp\n",
    "data_series = solve_ivp(learnt_model, timespan, init_condition).y"
   ]
  },
  {
   "cell_type": "markdown",
   "metadata": {},
   "source": [
    "### Plot simulated trajectory and streamslices for learnt model\n"
   ]
  },
  {
   "cell_type": "code",
   "execution_count": null,
   "metadata": {},
   "outputs": [],
   "source": [
    "u_learnt = np.zeros(X1.shape)\n",
    "v_learnt = np.zeros(X1.shape)\n",
    "\n",
    "# for loop to get the velocity at each point witht the learnt model\n",
    "for (i,j), value in np.ndenumerate(X1):\n",
    "    # get velocities at each point\n",
    "    Y_prime = learnt_model(t, np.array([value, X2[i, j]]))\n",
    "    u_learnt[i,j] = Y_prime[0]\n",
    "    v_learnt[i,j] = Y_prime[1]\n",
    "\n",
    "plt.figure()\n",
    "plt.title('Combined plot - Learnt model')\n",
    "plt.plot(data_series[:, 0], data_series[:, 1], '.', Linewidth=2)\n",
    "plt.streamplot(X1, X2, u_learnt, v_learnt)\n",
    "# (...)\n",
    "plt.xlabel('x1')\n",
    "plt.ylabel('x2')\n",
    "plt.legend(['Trajectory', 'Streamlines'])\n",
    "plt.xlim([lower_bound_x1, upper_bound_x1])\n",
    "plt.ylim([lower_bound_x2, upper_bound_x2])"
   ]
  }
 ],
 "metadata": {
  "kernelspec": {
   "display_name": "Python 3.11.0 64-bit",
   "language": "python",
   "name": "python3"
  },
  "language_info": {
   "codemirror_mode": {
    "name": "ipython",
    "version": 3
   },
   "file_extension": ".py",
   "mimetype": "text/x-python",
   "name": "python",
   "nbconvert_exporter": "python",
   "pygments_lexer": "ipython3",
   "version": "3.11.0"
  },
  "orig_nbformat": 4,
  "vscode": {
   "interpreter": {
    "hash": "2bba0b4c4e4d58345b53e5921abd2d3058b922f4e0bc24627a8b4c4ca7e4f1ef"
   }
  }
 },
 "nbformat": 4,
 "nbformat_minor": 2
}
