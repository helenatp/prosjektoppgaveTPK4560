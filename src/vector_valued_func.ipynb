{
 "cells": [
  {
   "cell_type": "markdown",
   "metadata": {},
   "source": [
    "### Imports"
   ]
  },
  {
   "cell_type": "code",
   "execution_count": 184,
   "metadata": {},
   "outputs": [],
   "source": [
    "import numpy as np\n",
    "import sympy as sym\n",
    "from numpy.random import randn\n",
    "np.set_printoptions(threshold=np.inf)\n"
   ]
  },
  {
   "cell_type": "markdown",
   "metadata": {},
   "source": [
    "### Values"
   ]
  },
  {
   "cell_type": "code",
   "execution_count": 185,
   "metadata": {},
   "outputs": [],
   "source": [
    "m = 5\n",
    "sigma = 2\n",
    "sigma2 = 2*sigma**2\n",
    "w = randn(m) / sigma\n",
    "b = np.random.rand(m)*2*np.pi\n",
    "\n",
    "n = 5\n",
    "x = randn(n)/2\n",
    "z = randn(n)/2 # function y"
   ]
  },
  {
   "cell_type": "markdown",
   "metadata": {},
   "source": [
    "### Gaussian Kernel"
   ]
  },
  {
   "cell_type": "code",
   "execution_count": 186,
   "metadata": {},
   "outputs": [
    {
     "name": "stdout",
     "output_type": "stream",
     "text": [
      "0.6491327293555063\n"
     ]
    }
   ],
   "source": [
    "def k_gauss(x,z):\n",
    "    \"\"\"R^n x R^n -> R - should be one number\n",
    "    # vector is multi-dimensional\n",
    "\n",
    "    Args:\n",
    "        x (float): real value numbers\n",
    "        z (float): real value numbers\n",
    "\n",
    "    Returns:\n",
    "        (vector with length n): a scalar shift-invariant Gaussian kernel\n",
    "    \"\"\"\n",
    "    return np.exp(-((np.linalg.norm(x-z))**2)/(sigma2)) \n",
    "\n",
    "print(k_gauss(x,z))"
   ]
  },
  {
   "cell_type": "markdown",
   "metadata": {},
   "source": [
    "###  Scalar kernel"
   ]
  },
  {
   "cell_type": "code",
   "execution_count": 187,
   "metadata": {},
   "outputs": [],
   "source": [
    "def k_approx(k, x, z):\n",
    "    \"\"\"scalar kernel\n",
    "\n",
    "    Args:\n",
    "        k (kernel): to test with different kernels\n",
    "\n",
    "    Returns:\n",
    "        approximated kernel: sum of feature vectors\n",
    "    \"\"\"\n",
    "    n = len(x)\n",
    "    Kxz = np.zeros((n,m))\n",
    "    for i in range(n):\n",
    "        for j in range(m):\n",
    "            Kxz[i, j] = k(x[i], z[j])\n",
    "    return Kxz"
   ]
  },
  {
   "cell_type": "markdown",
   "metadata": {},
   "source": [
    "### Approximation 1"
   ]
  },
  {
   "cell_type": "code",
   "execution_count": 188,
   "metadata": {},
   "outputs": [
    {
     "name": "stdout",
     "output_type": "stream",
     "text": [
      "[-1.34764167 -0.36945088  1.30386626 -0.98416649 -1.36015956]\n"
     ]
    }
   ],
   "source": [
    "def psi_approx1(x):\n",
    "   \"\"\"\n",
    "   Args:\n",
    "       x (vector): vector with length n\n",
    "\n",
    "   Returns:\n",
    "       vector: vector with length n\n",
    "   \"\"\"\n",
    "   return np.sqrt(2)*np.cos(w*x + b)\n",
    "\n",
    "print(psi_approx1(x))"
   ]
  },
  {
   "cell_type": "markdown",
   "metadata": {},
   "source": [
    "### Approximation 2"
   ]
  },
  {
   "cell_type": "code",
   "execution_count": 189,
   "metadata": {},
   "outputs": [
    {
     "data": {
      "text/plain": [
       "'\\nprint(K_approx2(x,z))\\n'"
      ]
     },
     "execution_count": 189,
     "metadata": {},
     "output_type": "execute_result"
    }
   ],
   "source": [
    "def phi_cos(x, w):\n",
    "    return 1/np.sqrt(m) * np.cos(w.T@x)\n",
    "\n",
    "def phi_sin(x, w):\n",
    "    return 1/np.sqrt(m) * np.sin(w.T@x)\n",
    "\n",
    "def add_phi_cos_sin(f, g, x):\n",
    "    \"\"\"\n",
    "        [1 2 3] and [1 2 3] -> [1 1 2 2 3 3]\n",
    "    \"\"\"\n",
    "    new_list = []\n",
    "    for i in range (m):\n",
    "        new_list.append(f(x))\n",
    "        new_list.append(g(x))\n",
    "    return new_list\n",
    "\"\"\"\n",
    "print(\"cos:\", phi_cos(x))\n",
    "print(\"sin:\", phi_sin(x))\n",
    "print(\"\\n added together:\", add_phi_cos_sin(phi_cos, phi_sin, x))\n",
    "print(\"w:\", w, w.T)\n",
    "print(\"x:\", x)\n",
    "\"\"\"\n",
    "def K_approx2(x, z, w):\n",
    "    \"\"\"The scalar kernel\n",
    "\n",
    "    Args:\n",
    "        x (float): random generated numbers\n",
    "        z (float): random generated numbers\n",
    "\n",
    "    Returns:\n",
    "        (float): a number, which is the scalar kernel\n",
    "    \"\"\"\n",
    "    return np.sum(phi_cos(x, w) * phi_cos(z, w)) + np.sum(phi_sin(x, w) * phi_sin(z, w))\n",
    "\n",
    "\"\"\"\n",
    "print(K_approx2(x,z))\n",
    "\"\"\""
   ]
  },
  {
   "cell_type": "markdown",
   "metadata": {},
   "source": [
    "### Matrix kernels"
   ]
  },
  {
   "cell_type": "markdown",
   "metadata": {},
   "source": []
  },
  {
   "cell_type": "code",
   "execution_count": 190,
   "metadata": {},
   "outputs": [
    {
     "name": "stdout",
     "output_type": "stream",
     "text": [
      "[[0.64913273 0.         0.         0.         0.        ]\n",
      " [0.         0.64913273 0.         0.         0.        ]\n",
      " [0.         0.         0.64913273 0.         0.        ]\n",
      " [0.         0.         0.         0.64913273 0.        ]\n",
      " [0.         0.         0.         0.         0.64913273]]\n",
      "\n",
      " matrix kernel\n",
      "[[0.19799876 0.         0.         0.         0.        ]\n",
      " [0.         0.19799876 0.         0.         0.        ]\n",
      " [0.         0.         0.19799876 0.         0.        ]\n",
      " [0.         0.         0.         0.19799876 0.        ]\n",
      " [0.         0.         0.         0.         0.19799876]]\n"
     ]
    }
   ],
   "source": [
    "# Matrix kernel\n",
    "def K(k, *args): # *args: can give as many arguments as you want\n",
    "    return k(*args) * np.eye(m)\n",
    "\n",
    "# Testing for gaussian kernel\n",
    "gauss_sep_ker = K(k_gauss, x, z)\n",
    "print(gauss_sep_ker)\n",
    "\n",
    "# Testing for approximation with RFF (random fourier features)\n",
    "print(\"\\n\", \"matrix kernel\")\n",
    "matrix_ker = K(K_approx2, x, z, w)\n",
    "print(matrix_ker)"
   ]
  },
  {
   "cell_type": "markdown",
   "metadata": {},
   "source": [
    "### Approximate function f"
   ]
  },
  {
   "cell_type": "code",
   "execution_count": 191,
   "metadata": {},
   "outputs": [
    {
     "name": "stdout",
     "output_type": "stream",
     "text": [
      "[array([-1.20955735,  1.34505997,  0.73845832,  0.26823018, -1.1741102 ]), array([ 0.09167165,  0.43758241,  2.07470648,  1.26568943, -0.80365787]), array([-0.84126845,  0.80366102, -0.39595866,  1.60950147, -1.2948082 ]), array([-0.33934301, -1.68601815, -0.11219988, -1.42947462, -1.44230515]), array([ 1.81953174, -0.20701292,  0.59890325,  0.80836904,  0.42113178])]\n",
      "psi list: [ 0.15922183  0.12103061 -0.11163964  0.16594153  0.19633594 -0.03810771\n",
      "  0.19848648 -0.02455844  0.18909027 -0.06515267]\n"
     ]
    }
   ],
   "source": [
    "# create a list of all the w_1...w_d\n",
    "d = 5\n",
    "def list_d(d, n):\n",
    "    list_w = []\n",
    "    for i in range(d):\n",
    "        w = np.random.normal(size = n) # should be N or d times\n",
    "        list_w.append(w)\n",
    "    return list_w\n",
    "\n",
    "def psi(x, d, list_w):\n",
    "    \"\"\"\n",
    "    Args:\n",
    "        list_w (list): list of size d of all w, every w is of size n\n",
    "\n",
    "    Returns:\n",
    "        list: a list of cos and sin from 1 to 2d\n",
    "    \"\"\"\n",
    "    new_list = []\n",
    "    for w in list_w:\n",
    "        new_list.append(phi_cos(x,w))\n",
    "        new_list.append(phi_sin(x,w))\n",
    "    return (1/np.sqrt(d)) * np.array(new_list)\n",
    "\n",
    "list_w = list_d(d,n)\n",
    "#print(\"psi list:\", psi(x, d, list_w))"
   ]
  }
 ],
 "metadata": {
  "kernelspec": {
   "display_name": "Python 3.10.6 64-bit",
   "language": "python",
   "name": "python3"
  },
  "language_info": {
   "codemirror_mode": {
    "name": "ipython",
    "version": 3
   },
   "file_extension": ".py",
   "mimetype": "text/x-python",
   "name": "python",
   "nbconvert_exporter": "python",
   "pygments_lexer": "ipython3",
   "version": "3.10.6"
  },
  "orig_nbformat": 4,
  "vscode": {
   "interpreter": {
    "hash": "364ce0aa04b075b5f9a8a87d4ba65b1dbc176d267b37027aa80213cb40fae0fc"
   }
  }
 },
 "nbformat": 4,
 "nbformat_minor": 2
}
