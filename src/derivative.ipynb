{
 "cells": [
  {
   "cell_type": "code",
   "execution_count": 26,
   "metadata": {},
   "outputs": [],
   "source": [
    "import sympy as sym\n",
    "import numpy as np\n",
    "from numpy.random import randn\n"
   ]
  },
  {
   "cell_type": "markdown",
   "metadata": {},
   "source": [
    "### Derivative of y's"
   ]
  },
  {
   "cell_type": "code",
   "execution_count": 30,
   "metadata": {},
   "outputs": [
    {
     "data": {
      "text/plain": [
       "(1000,)"
      ]
     },
     "execution_count": 30,
     "metadata": {},
     "output_type": "execute_result"
    }
   ],
   "source": [
    "x1, x2 = sym.symbols('x1 x2') \n",
    "\n",
    "n = 500\n",
    "x1_example = randn(n)/2\n",
    "x2_example = randn(n)/2\n",
    "\n",
    "noise = n * 1e-1\n",
    "y1 = 1+ sym.sin(x1/10) + x1**2 + noise\n",
    "y2 = 0.5 * x2**2 + sym.exp(x2) + noise\n",
    "\n",
    "y1_diff = y1.diff(x1)\n",
    "y2_diff = y2.diff(x2)\n",
    "\n",
    "y1_derivative = sym.lambdify(x1, y1_diff, 'numpy')\n",
    "y2_derivative = sym.lambdify(x2, y2_diff, 'numpy')\n",
    "\n",
    "y1_derivative = y1_derivative(x1_example)\n",
    "y2_derivative = y2_derivative(x2_example)\n",
    "\n",
    "y_derivative = np.array(np.ravel([y1_derivative, y2_derivative], 'F'))\n",
    "y_derivative.shape"
   ]
  }
 ],
 "metadata": {
  "kernelspec": {
   "display_name": "Python 3.11.0 64-bit",
   "language": "python",
   "name": "python3"
  },
  "language_info": {
   "codemirror_mode": {
    "name": "ipython",
    "version": 3
   },
   "file_extension": ".py",
   "mimetype": "text/x-python",
   "name": "python",
   "nbconvert_exporter": "python",
   "pygments_lexer": "ipython3",
   "version": "3.11.0"
  },
  "orig_nbformat": 4,
  "vscode": {
   "interpreter": {
    "hash": "2bba0b4c4e4d58345b53e5921abd2d3058b922f4e0bc24627a8b4c4ca7e4f1ef"
   }
  }
 },
 "nbformat": 4,
 "nbformat_minor": 2
}
