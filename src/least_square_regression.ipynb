{
 "cells": [
  {
   "cell_type": "markdown",
   "metadata": {},
   "source": [
    "## Least-sqaured regression"
   ]
  },
  {
   "cell_type": "markdown",
   "metadata": {},
   "source": [
    "### Imports"
   ]
  },
  {
   "cell_type": "code",
   "execution_count": null,
   "metadata": {},
   "outputs": [],
   "source": [
    "import numpy as np\n",
    "import matplotlib.pyplot as plt\n",
    "plt.style.use(\"seaborn-ticks\")\n",
    "from numpy.random import randn"
   ]
  },
  {
   "cell_type": "markdown",
   "metadata": {},
   "source": [
    "### Values"
   ]
  },
  {
   "cell_type": "code",
   "execution_count": null,
   "metadata": {},
   "outputs": [],
   "source": [
    "n = 200 # Number of points\n",
    "sigma = 2\n",
    "sigma2 = 2*sigma**2\n",
    "lam = 0.000001\n",
    "\n",
    "# Approximation parameters\n",
    "m = 20\n",
    "w = randn(m) / sigma\n",
    "b = np.random.rand(m) *2*np.pi\n",
    "\n",
    "# Example functions\n",
    "x = randn(n)/2\n",
    "y=np.sin(x) + randn(n) # randn(n) is noise"
   ]
  },
  {
   "cell_type": "markdown",
   "metadata": {},
   "source": [
    "### Gaussian kernel"
   ]
  },
  {
   "cell_type": "code",
   "execution_count": null,
   "metadata": {},
   "outputs": [],
   "source": [
    "def k_gauss(x, z): \n",
    "    k = np.exp(-((np.linalg.norm(x-z))**2)/(2*sigma**2))\n",
    "    return k\n",
    "\n",
    "def K_gauss(x, y, n):\n",
    "    Kxy = np.zeros((n,n))\n",
    "    for i in range(n):\n",
    "        for j in range(n):\n",
    "            Kxy[i, j] = k_gauss(x[i], y[j])\n",
    "    return Kxy\n",
    "\n",
    "print(K_gauss(x, y, n))"
   ]
  },
  {
   "cell_type": "markdown",
   "metadata": {},
   "source": [
    "#### Alpha"
   ]
  },
  {
   "cell_type": "code",
   "execution_count": null,
   "metadata": {},
   "outputs": [],
   "source": [
    "def alpha_gauss(x, y, n):\n",
    "    K = K_gauss(x, x, n)\n",
    "    return np.linalg.inv(K + lam*np.eye(n)) @ y\n",
    "\n",
    "alpha_ = alpha_gauss(x, y, n)\n",
    "print(alpha_gauss(x, y, n))"
   ]
  },
  {
   "cell_type": "markdown",
   "metadata": {},
   "source": [
    "#### Estimated function"
   ]
  },
  {
   "cell_type": "code",
   "execution_count": null,
   "metadata": {},
   "outputs": [],
   "source": [
    "def function_gauss(x, n, alpha):\n",
    "    x_sort = np.sort(x)\n",
    "    f = np.zeros(n)\n",
    "    for i in range(n):\n",
    "        sum = 0\n",
    "        for j in range(n):\n",
    "            sum += alpha[i] * k_gauss(x[j], x_sort[i])\n",
    "        f[i] = sum\n",
    "    return sum\n",
    "\n",
    "func = function_gauss(x, n, alpha_)\n",
    "print(function_gauss(x, n, alpha_))"
   ]
  }
 ],
 "metadata": {
  "kernelspec": {
   "display_name": "Python 3.11.0 64-bit",
   "language": "python",
   "name": "python3"
  },
  "language_info": {
   "codemirror_mode": {
    "name": "ipython",
    "version": 3
   },
   "file_extension": ".py",
   "mimetype": "text/x-python",
   "name": "python",
   "nbconvert_exporter": "python",
   "pygments_lexer": "ipython3",
   "version": "3.11.0"
  },
  "orig_nbformat": 4,
  "vscode": {
   "interpreter": {
    "hash": "2bba0b4c4e4d58345b53e5921abd2d3058b922f4e0bc24627a8b4c4ca7e4f1ef"
   }
  }
 },
 "nbformat": 4,
 "nbformat_minor": 2
}
