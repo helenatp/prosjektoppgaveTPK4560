{
 "cells": [
  {
   "cell_type": "code",
   "execution_count": 22,
   "metadata": {},
   "outputs": [],
   "source": [
    "import numpy as np\n",
    "import sympy as sym\n",
    "from numpy.random import randn"
   ]
  },
  {
   "cell_type": "markdown",
   "metadata": {},
   "source": [
    "### Values"
   ]
  },
  {
   "cell_type": "code",
   "execution_count": 19,
   "metadata": {},
   "outputs": [],
   "source": [
    "m = 20\n",
    "sigma = 2\n",
    "sigma2 = 2*sigma**2\n",
    "w = randn(m) / sigma\n",
    "b = np.random.rand(m) *2*np.pi\n",
    "\n",
    "n = 200\n",
    "x = randn(n)/2\n",
    "z = randn(n)/2"
   ]
  },
  {
   "cell_type": "markdown",
   "metadata": {},
   "source": [
    "### Gaussian Kernel"
   ]
  },
  {
   "cell_type": "code",
   "execution_count": 20,
   "metadata": {},
   "outputs": [
    {
     "ename": "TypeError",
     "evalue": "Bad argument type for Abs(): <class 'sympy.tensor.array.dense_ndim_array.ImmutableDenseNDimArray'>",
     "output_type": "error",
     "traceback": [
      "\u001b[1;31m---------------------------------------------------------------------------\u001b[0m",
      "\u001b[1;31mTypeError\u001b[0m                                 Traceback (most recent call last)",
      "File \u001b[1;32mc:\\Users\\Heli\\AppData\\Local\\Programs\\Python\\Python310\\lib\\site-packages\\sympy\\core\\cache.py:70\u001b[0m, in \u001b[0;36m__cacheit.<locals>.func_wrapper.<locals>.wrapper\u001b[1;34m(*args, **kwargs)\u001b[0m\n\u001b[0;32m     69\u001b[0m \u001b[39mtry\u001b[39;00m:\n\u001b[1;32m---> 70\u001b[0m     retval \u001b[39m=\u001b[39m cfunc(\u001b[39m*\u001b[39margs, \u001b[39m*\u001b[39m\u001b[39m*\u001b[39mkwargs)\n\u001b[0;32m     71\u001b[0m \u001b[39mexcept\u001b[39;00m \u001b[39mTypeError\u001b[39;00m \u001b[39mas\u001b[39;00m e:\n",
      "\u001b[1;31mTypeError\u001b[0m: unhashable type: 'numpy.ndarray'",
      "\nDuring handling of the above exception, another exception occurred:\n",
      "\u001b[1;31mTypeError\u001b[0m                                 Traceback (most recent call last)",
      "File \u001b[1;32mc:\\Users\\Heli\\AppData\\Local\\Programs\\Python\\Python310\\lib\\site-packages\\sympy\\core\\cache.py:70\u001b[0m, in \u001b[0;36m__cacheit.<locals>.func_wrapper.<locals>.wrapper\u001b[1;34m(*args, **kwargs)\u001b[0m\n\u001b[0;32m     69\u001b[0m \u001b[39mtry\u001b[39;00m:\n\u001b[1;32m---> 70\u001b[0m     retval \u001b[39m=\u001b[39m cfunc(\u001b[39m*\u001b[39margs, \u001b[39m*\u001b[39m\u001b[39m*\u001b[39mkwargs)\n\u001b[0;32m     71\u001b[0m \u001b[39mexcept\u001b[39;00m \u001b[39mTypeError\u001b[39;00m \u001b[39mas\u001b[39;00m e:\n",
      "\u001b[1;31mTypeError\u001b[0m: unhashable type: 'numpy.ndarray'",
      "\nDuring handling of the above exception, another exception occurred:\n",
      "\u001b[1;31mTypeError\u001b[0m                                 Traceback (most recent call last)",
      "\u001b[1;32mc:\\Users\\Heli\\Documents\\Prosjektoppgave\\prosjektoppgaveH22\\src\\vector_valued_func.ipynb Cell 5\u001b[0m in \u001b[0;36m<cell line: 13>\u001b[1;34m()\u001b[0m\n\u001b[0;32m      <a href='vscode-notebook-cell:/c%3A/Users/Heli/Documents/Prosjektoppgave/prosjektoppgaveH22/src/vector_valued_func.ipynb#X12sZmlsZQ%3D%3D?line=1'>2</a>\u001b[0m     \u001b[39m\"\"\"_summary_\u001b[39;00m\n\u001b[0;32m      <a href='vscode-notebook-cell:/c%3A/Users/Heli/Documents/Prosjektoppgave/prosjektoppgaveH22/src/vector_valued_func.ipynb#X12sZmlsZQ%3D%3D?line=2'>3</a>\u001b[0m \n\u001b[0;32m      <a href='vscode-notebook-cell:/c%3A/Users/Heli/Documents/Prosjektoppgave/prosjektoppgaveH22/src/vector_valued_func.ipynb#X12sZmlsZQ%3D%3D?line=3'>4</a>\u001b[0m \u001b[39m    Args:\u001b[39;00m\n\u001b[1;32m   (...)\u001b[0m\n\u001b[0;32m      <a href='vscode-notebook-cell:/c%3A/Users/Heli/Documents/Prosjektoppgave/prosjektoppgaveH22/src/vector_valued_func.ipynb#X12sZmlsZQ%3D%3D?line=8'>9</a>\u001b[0m \u001b[39m        scalar kernel\u001b[39;00m\n\u001b[0;32m     <a href='vscode-notebook-cell:/c%3A/Users/Heli/Documents/Prosjektoppgave/prosjektoppgaveH22/src/vector_valued_func.ipynb#X12sZmlsZQ%3D%3D?line=9'>10</a>\u001b[0m \u001b[39m    \"\"\"\u001b[39;00m\n\u001b[0;32m     <a href='vscode-notebook-cell:/c%3A/Users/Heli/Documents/Prosjektoppgave/prosjektoppgaveH22/src/vector_valued_func.ipynb#X12sZmlsZQ%3D%3D?line=10'>11</a>\u001b[0m     \u001b[39mreturn\u001b[39;00m sym\u001b[39m.\u001b[39mexp(\u001b[39m-\u001b[39msym\u001b[39m.\u001b[39mAbs((x\u001b[39m-\u001b[39mz))\u001b[39m*\u001b[39m\u001b[39m*\u001b[39m\u001b[39m2\u001b[39m\u001b[39m/\u001b[39m(sigma2))\n\u001b[1;32m---> <a href='vscode-notebook-cell:/c%3A/Users/Heli/Documents/Prosjektoppgave/prosjektoppgaveH22/src/vector_valued_func.ipynb#X12sZmlsZQ%3D%3D?line=12'>13</a>\u001b[0m \u001b[39mprint\u001b[39m(k(x,z))\n",
      "\u001b[1;32mc:\\Users\\Heli\\Documents\\Prosjektoppgave\\prosjektoppgaveH22\\src\\vector_valued_func.ipynb Cell 5\u001b[0m in \u001b[0;36mk\u001b[1;34m(x, z)\u001b[0m\n\u001b[0;32m      <a href='vscode-notebook-cell:/c%3A/Users/Heli/Documents/Prosjektoppgave/prosjektoppgaveH22/src/vector_valued_func.ipynb#X12sZmlsZQ%3D%3D?line=0'>1</a>\u001b[0m \u001b[39mdef\u001b[39;00m \u001b[39mk\u001b[39m(x,z):\n\u001b[0;32m      <a href='vscode-notebook-cell:/c%3A/Users/Heli/Documents/Prosjektoppgave/prosjektoppgaveH22/src/vector_valued_func.ipynb#X12sZmlsZQ%3D%3D?line=1'>2</a>\u001b[0m     \u001b[39m\"\"\"_summary_\u001b[39;00m\n\u001b[0;32m      <a href='vscode-notebook-cell:/c%3A/Users/Heli/Documents/Prosjektoppgave/prosjektoppgaveH22/src/vector_valued_func.ipynb#X12sZmlsZQ%3D%3D?line=2'>3</a>\u001b[0m \n\u001b[0;32m      <a href='vscode-notebook-cell:/c%3A/Users/Heli/Documents/Prosjektoppgave/prosjektoppgaveH22/src/vector_valued_func.ipynb#X12sZmlsZQ%3D%3D?line=3'>4</a>\u001b[0m \u001b[39m    Args:\u001b[39;00m\n\u001b[1;32m   (...)\u001b[0m\n\u001b[0;32m      <a href='vscode-notebook-cell:/c%3A/Users/Heli/Documents/Prosjektoppgave/prosjektoppgaveH22/src/vector_valued_func.ipynb#X12sZmlsZQ%3D%3D?line=8'>9</a>\u001b[0m \u001b[39m        scalar kernel\u001b[39;00m\n\u001b[0;32m     <a href='vscode-notebook-cell:/c%3A/Users/Heli/Documents/Prosjektoppgave/prosjektoppgaveH22/src/vector_valued_func.ipynb#X12sZmlsZQ%3D%3D?line=9'>10</a>\u001b[0m \u001b[39m    \"\"\"\u001b[39;00m\n\u001b[1;32m---> <a href='vscode-notebook-cell:/c%3A/Users/Heli/Documents/Prosjektoppgave/prosjektoppgaveH22/src/vector_valued_func.ipynb#X12sZmlsZQ%3D%3D?line=10'>11</a>\u001b[0m     \u001b[39mreturn\u001b[39;00m sym\u001b[39m.\u001b[39mexp(\u001b[39m-\u001b[39msym\u001b[39m.\u001b[39;49mAbs((x\u001b[39m-\u001b[39;49mz))\u001b[39m*\u001b[39m\u001b[39m*\u001b[39m\u001b[39m2\u001b[39m\u001b[39m/\u001b[39m(sigma2))\n",
      "File \u001b[1;32mc:\\Users\\Heli\\AppData\\Local\\Programs\\Python\\Python310\\lib\\site-packages\\sympy\\core\\cache.py:74\u001b[0m, in \u001b[0;36m__cacheit.<locals>.func_wrapper.<locals>.wrapper\u001b[1;34m(*args, **kwargs)\u001b[0m\n\u001b[0;32m     72\u001b[0m     \u001b[39mif\u001b[39;00m \u001b[39mnot\u001b[39;00m e\u001b[39m.\u001b[39margs \u001b[39mor\u001b[39;00m \u001b[39mnot\u001b[39;00m e\u001b[39m.\u001b[39margs[\u001b[39m0\u001b[39m]\u001b[39m.\u001b[39mstartswith(\u001b[39m'\u001b[39m\u001b[39munhashable type:\u001b[39m\u001b[39m'\u001b[39m):\n\u001b[0;32m     73\u001b[0m         \u001b[39mraise\u001b[39;00m\n\u001b[1;32m---> 74\u001b[0m     retval \u001b[39m=\u001b[39m func(\u001b[39m*\u001b[39margs, \u001b[39m*\u001b[39m\u001b[39m*\u001b[39mkwargs)\n\u001b[0;32m     75\u001b[0m \u001b[39mreturn\u001b[39;00m retval\n",
      "File \u001b[1;32mc:\\Users\\Heli\\AppData\\Local\\Programs\\Python\\Python310\\lib\\site-packages\\sympy\\core\\function.py:469\u001b[0m, in \u001b[0;36mFunction.__new__\u001b[1;34m(cls, *args, **options)\u001b[0m\n\u001b[0;32m    461\u001b[0m     \u001b[39mraise\u001b[39;00m \u001b[39mTypeError\u001b[39;00m(temp \u001b[39m%\u001b[39m {\n\u001b[0;32m    462\u001b[0m         \u001b[39m'\u001b[39m\u001b[39mname\u001b[39m\u001b[39m'\u001b[39m: \u001b[39mcls\u001b[39m,\n\u001b[0;32m    463\u001b[0m         \u001b[39m'\u001b[39m\u001b[39mqual\u001b[39m\u001b[39m'\u001b[39m: \u001b[39m'\u001b[39m\u001b[39mexactly\u001b[39m\u001b[39m'\u001b[39m \u001b[39mif\u001b[39;00m \u001b[39mlen\u001b[39m(\u001b[39mcls\u001b[39m\u001b[39m.\u001b[39mnargs) \u001b[39m==\u001b[39m \u001b[39m1\u001b[39m \u001b[39melse\u001b[39;00m \u001b[39m'\u001b[39m\u001b[39mat least\u001b[39m\u001b[39m'\u001b[39m,\n\u001b[0;32m    464\u001b[0m         \u001b[39m'\u001b[39m\u001b[39margs\u001b[39m\u001b[39m'\u001b[39m: \u001b[39mmin\u001b[39m(\u001b[39mcls\u001b[39m\u001b[39m.\u001b[39mnargs),\n\u001b[0;32m    465\u001b[0m         \u001b[39m'\u001b[39m\u001b[39mplural\u001b[39m\u001b[39m'\u001b[39m: \u001b[39m'\u001b[39m\u001b[39ms\u001b[39m\u001b[39m'\u001b[39m\u001b[39m*\u001b[39m(\u001b[39mmin\u001b[39m(\u001b[39mcls\u001b[39m\u001b[39m.\u001b[39mnargs) \u001b[39m!=\u001b[39m \u001b[39m1\u001b[39m),\n\u001b[0;32m    466\u001b[0m         \u001b[39m'\u001b[39m\u001b[39mgiven\u001b[39m\u001b[39m'\u001b[39m: n})\n\u001b[0;32m    468\u001b[0m evaluate \u001b[39m=\u001b[39m options\u001b[39m.\u001b[39mget(\u001b[39m'\u001b[39m\u001b[39mevaluate\u001b[39m\u001b[39m'\u001b[39m, global_parameters\u001b[39m.\u001b[39mevaluate)\n\u001b[1;32m--> 469\u001b[0m result \u001b[39m=\u001b[39m \u001b[39msuper\u001b[39m()\u001b[39m.\u001b[39m\u001b[39m__new__\u001b[39m(\u001b[39mcls\u001b[39m, \u001b[39m*\u001b[39margs, \u001b[39m*\u001b[39m\u001b[39m*\u001b[39moptions)\n\u001b[0;32m    470\u001b[0m \u001b[39mif\u001b[39;00m evaluate \u001b[39mand\u001b[39;00m \u001b[39misinstance\u001b[39m(result, \u001b[39mcls\u001b[39m) \u001b[39mand\u001b[39;00m result\u001b[39m.\u001b[39margs:\n\u001b[0;32m    471\u001b[0m     _should_evalf \u001b[39m=\u001b[39m [\u001b[39mcls\u001b[39m\u001b[39m.\u001b[39m_should_evalf(a) \u001b[39mfor\u001b[39;00m a \u001b[39min\u001b[39;00m result\u001b[39m.\u001b[39margs]\n",
      "File \u001b[1;32mc:\\Users\\Heli\\AppData\\Local\\Programs\\Python\\Python310\\lib\\site-packages\\sympy\\core\\cache.py:74\u001b[0m, in \u001b[0;36m__cacheit.<locals>.func_wrapper.<locals>.wrapper\u001b[1;34m(*args, **kwargs)\u001b[0m\n\u001b[0;32m     72\u001b[0m     \u001b[39mif\u001b[39;00m \u001b[39mnot\u001b[39;00m e\u001b[39m.\u001b[39margs \u001b[39mor\u001b[39;00m \u001b[39mnot\u001b[39;00m e\u001b[39m.\u001b[39margs[\u001b[39m0\u001b[39m]\u001b[39m.\u001b[39mstartswith(\u001b[39m'\u001b[39m\u001b[39munhashable type:\u001b[39m\u001b[39m'\u001b[39m):\n\u001b[0;32m     73\u001b[0m         \u001b[39mraise\u001b[39;00m\n\u001b[1;32m---> 74\u001b[0m     retval \u001b[39m=\u001b[39m func(\u001b[39m*\u001b[39margs, \u001b[39m*\u001b[39m\u001b[39m*\u001b[39mkwargs)\n\u001b[0;32m     75\u001b[0m \u001b[39mreturn\u001b[39;00m retval\n",
      "File \u001b[1;32mc:\\Users\\Heli\\AppData\\Local\\Programs\\Python\\Python310\\lib\\site-packages\\sympy\\core\\function.py:309\u001b[0m, in \u001b[0;36mApplication.__new__\u001b[1;34m(cls, *args, **options)\u001b[0m\n\u001b[0;32m    306\u001b[0m     \u001b[39mraise\u001b[39;00m \u001b[39mValueError\u001b[39;00m(\u001b[39m\"\u001b[39m\u001b[39mUnknown options: \u001b[39m\u001b[39m%s\u001b[39;00m\u001b[39m\"\u001b[39m \u001b[39m%\u001b[39m options)\n\u001b[0;32m    308\u001b[0m \u001b[39mif\u001b[39;00m evaluate:\n\u001b[1;32m--> 309\u001b[0m     evaluated \u001b[39m=\u001b[39m \u001b[39mcls\u001b[39;49m\u001b[39m.\u001b[39;49meval(\u001b[39m*\u001b[39;49margs)\n\u001b[0;32m    310\u001b[0m     \u001b[39mif\u001b[39;00m evaluated \u001b[39mis\u001b[39;00m \u001b[39mnot\u001b[39;00m \u001b[39mNone\u001b[39;00m:\n\u001b[0;32m    311\u001b[0m         \u001b[39mreturn\u001b[39;00m evaluated\n",
      "File \u001b[1;32mc:\\Users\\Heli\\AppData\\Local\\Programs\\Python\\Python310\\lib\\site-packages\\sympy\\functions\\elementary\\complexes.py:531\u001b[0m, in \u001b[0;36mAbs.eval\u001b[1;34m(cls, arg)\u001b[0m\n\u001b[0;32m    529\u001b[0m         \u001b[39mreturn\u001b[39;00m obj\n\u001b[0;32m    530\u001b[0m \u001b[39mif\u001b[39;00m \u001b[39mnot\u001b[39;00m \u001b[39misinstance\u001b[39m(arg, Expr):\n\u001b[1;32m--> 531\u001b[0m     \u001b[39mraise\u001b[39;00m \u001b[39mTypeError\u001b[39;00m(\u001b[39m\"\u001b[39m\u001b[39mBad argument type for Abs(): \u001b[39m\u001b[39m%s\u001b[39;00m\u001b[39m\"\u001b[39m \u001b[39m%\u001b[39m \u001b[39mtype\u001b[39m(arg))\n\u001b[0;32m    533\u001b[0m \u001b[39m# handle what we can\u001b[39;00m\n\u001b[0;32m    534\u001b[0m arg \u001b[39m=\u001b[39m signsimp(arg, evaluate\u001b[39m=\u001b[39m\u001b[39mFalse\u001b[39;00m)\n",
      "\u001b[1;31mTypeError\u001b[0m: Bad argument type for Abs(): <class 'sympy.tensor.array.dense_ndim_array.ImmutableDenseNDimArray'>"
     ]
    }
   ],
   "source": [
    "def k(x,z):\n",
    "    \"\"\"_summary_\n",
    "\n",
    "    Args:\n",
    "        x (float): real value numbers\n",
    "        z (float): real value numbers\n",
    "\n",
    "    Returns:\n",
    "        scalar kernel\n",
    "    \"\"\"\n",
    "    return sym.exp(-sym.Abs((x-z))**2/(sigma2))\n",
    "\n",
    "print(k(x,z))"
   ]
  },
  {
   "cell_type": "markdown",
   "metadata": {},
   "source": [
    "### Approximation 1"
   ]
  },
  {
   "cell_type": "code",
   "execution_count": null,
   "metadata": {},
   "outputs": [
    {
     "ename": "ValueError",
     "evalue": "operands could not be broadcast together with shapes (20,) (200,) ",
     "output_type": "error",
     "traceback": [
      "\u001b[1;31m---------------------------------------------------------------------------\u001b[0m",
      "\u001b[1;31mValueError\u001b[0m                                Traceback (most recent call last)",
      "\u001b[1;32mc:\\Users\\Heli\\Documents\\Prosjektoppgave\\prosjektoppgaveH22\\src\\vector_valued_func.ipynb Cell 7\u001b[0m in \u001b[0;36m<cell line: 4>\u001b[1;34m()\u001b[0m\n\u001b[0;32m      <a href='vscode-notebook-cell:/c%3A/Users/Heli/Documents/Prosjektoppgave/prosjektoppgaveH22/src/vector_valued_func.ipynb#X14sZmlsZQ%3D%3D?line=0'>1</a>\u001b[0m \u001b[39mdef\u001b[39;00m \u001b[39mpsi_1\u001b[39m(x):\n\u001b[0;32m      <a href='vscode-notebook-cell:/c%3A/Users/Heli/Documents/Prosjektoppgave/prosjektoppgaveH22/src/vector_valued_func.ipynb#X14sZmlsZQ%3D%3D?line=1'>2</a>\u001b[0m    \u001b[39mreturn\u001b[39;00m sym\u001b[39m.\u001b[39msqrt(\u001b[39m2\u001b[39m)\u001b[39m*\u001b[39msym\u001b[39m.\u001b[39mcos(w\u001b[39m*\u001b[39mx \u001b[39m+\u001b[39m b)\n\u001b[1;32m----> <a href='vscode-notebook-cell:/c%3A/Users/Heli/Documents/Prosjektoppgave/prosjektoppgaveH22/src/vector_valued_func.ipynb#X14sZmlsZQ%3D%3D?line=3'>4</a>\u001b[0m \u001b[39mprint\u001b[39m(psi_1(x))\n",
      "\u001b[1;32mc:\\Users\\Heli\\Documents\\Prosjektoppgave\\prosjektoppgaveH22\\src\\vector_valued_func.ipynb Cell 7\u001b[0m in \u001b[0;36mpsi_1\u001b[1;34m(x)\u001b[0m\n\u001b[0;32m      <a href='vscode-notebook-cell:/c%3A/Users/Heli/Documents/Prosjektoppgave/prosjektoppgaveH22/src/vector_valued_func.ipynb#X14sZmlsZQ%3D%3D?line=0'>1</a>\u001b[0m \u001b[39mdef\u001b[39;00m \u001b[39mpsi_1\u001b[39m(x):\n\u001b[1;32m----> <a href='vscode-notebook-cell:/c%3A/Users/Heli/Documents/Prosjektoppgave/prosjektoppgaveH22/src/vector_valued_func.ipynb#X14sZmlsZQ%3D%3D?line=1'>2</a>\u001b[0m    \u001b[39mreturn\u001b[39;00m sym\u001b[39m.\u001b[39msqrt(\u001b[39m2\u001b[39m)\u001b[39m*\u001b[39msym\u001b[39m.\u001b[39mcos(w\u001b[39m*\u001b[39;49mx \u001b[39m+\u001b[39m b)\n",
      "\u001b[1;31mValueError\u001b[0m: operands could not be broadcast together with shapes (20,) (200,) "
     ]
    }
   ],
   "source": [
    "def psi_1(x):\n",
    "   return sym.sqrt(2)*sym.cos(w*x + b)\n",
    "\n",
    "print(psi_1(x)) "
   ]
  }
 ],
 "metadata": {
  "kernelspec": {
   "display_name": "Python 3.10.6 64-bit",
   "language": "python",
   "name": "python3"
  },
  "language_info": {
   "codemirror_mode": {
    "name": "ipython",
    "version": 3
   },
   "file_extension": ".py",
   "mimetype": "text/x-python",
   "name": "python",
   "nbconvert_exporter": "python",
   "pygments_lexer": "ipython3",
   "version": "3.10.6"
  },
  "orig_nbformat": 4,
  "vscode": {
   "interpreter": {
    "hash": "364ce0aa04b075b5f9a8a87d4ba65b1dbc176d267b37027aa80213cb40fae0fc"
   }
  }
 },
 "nbformat": 4,
 "nbformat_minor": 2
}
